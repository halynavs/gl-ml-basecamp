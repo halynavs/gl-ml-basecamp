{
 "cells": [
  {
   "cell_type": "code",
   "execution_count": 1,
   "id": "defined-cause",
   "metadata": {},
   "outputs": [],
   "source": [
    "import numpy as np\n",
    "from sklearn.datasets import make_classification\n",
    "from sklearn.model_selection import train_test_split\n",
    "import matplotlib.pyplot as plt\n",
    "from scipy.stats import multivariate_normal"
   ]
  },
  {
   "cell_type": "code",
   "execution_count": 2,
   "id": "novel-circle",
   "metadata": {},
   "outputs": [],
   "source": [
    "n_samples = 1000\n",
    "n_outliers = 100\n",
    "X, Y= make_classification(n_samples=n_samples,n_features=2, n_redundant=0, n_informative=1,\n",
    "                             n_clusters_per_class=1, random_state =42)"
   ]
  },
  {
   "cell_type": "code",
   "execution_count": 3,
   "id": "polar-graphic",
   "metadata": {},
   "outputs": [],
   "source": [
    "X_train, X_test, y_train, y_test = train_test_split(X, Y, test_size=0.33, random_state=42)"
   ]
  },
  {
   "cell_type": "code",
   "execution_count": 4,
   "id": "chinese-responsibility",
   "metadata": {},
   "outputs": [
    {
     "name": "stdout",
     "output_type": "stream",
     "text": [
      "[0 1 1 0 0 0 1 1 0 0 0 1 1 1 0 1 0 0 0 1 0 0 1 0 1 1 0 0 0 1 1 1 1 1 0 1 1\n",
      " 1 1 0 1 0 1 1 1 1 0 0 1 1 0 0 0 1 0 1 1 0 1 0 0 0 1 0 0 0 1 1 0 1 1 1 1 0\n",
      " 1 1 1 1 1 1 0 1 0 0 0 0 0 1 1 1 0 0 1 1 0 1 1 1 0 1 0 0 1 0 1 0 1 1 1 1 0\n",
      " 1 0 0 1 1 0 1 0 0 0 0 1 1 1 1 1 0 1 0 0 0 0 0 0 0 1 1 0 0 1 1 0 0 0 0 0 1\n",
      " 1 1 1 0 1 0 1 0 0 0 1 1 1 0 0 1 1 1 1 1 0 0 1 0 1 0 0 0 1 0 0 0 1 1 0 0 1\n",
      " 0 1 0 1 0 0 0 1 0 0 0 1 1 0 1 1 0 0 0 1 0 0 1 1 0 1 1 1 0 0 1 0 0 1 1 1 0\n",
      " 1 0 1 1 1 1 1 0 1 0 1 0 0 1 1 0 0 0 1 1 1 1 1 0 1 1 0 1 0 1 0 0 0 0 0 0 1\n",
      " 1 1 0 0 1 1 0 0 0 1 0 0 0 1 0 0 0 0 0 1 0 0 1 1 1 1 0 0 0 0 0 0 0 0 1 1 1\n",
      " 0 0 0 0 1 1 0 1 1 0 0 1 1 1 0 1 0 1 1 0 0 0 0 1 1 0 1 0 1 1 0 1 1 1]\n",
      "0.9090909090909091\n"
     ]
    }
   ],
   "source": [
    "class CustomGaussianClassifier:\n",
    "\n",
    "    def init(self):\n",
    "        self.mu0 = None\n",
    "        self.mu1 = None\n",
    "\n",
    "        self.cov0 = None\n",
    "        self.cov0 = None\n",
    "\n",
    "        self.phi0 = None\n",
    "        self.phi1 = None\n",
    "\n",
    "        self.p0 = None\n",
    "        self.p1 = None\n",
    "\n",
    "    def fit(self, X, y):\n",
    "        self.mu0 = np.average(X[y==0], axis=0)\n",
    "        self.mu1 = np.average(X[y==1], axis=0)\n",
    "\n",
    "        self.cov0 = np.cov(X[y==0], rowvar = False)\n",
    "        self.cov1 = np.cov(X[y==1], rowvar = False)\n",
    "\n",
    "        self.phi0 = y[y==0].shape[0]/y.shape[0]\n",
    "        self.phi1 = 1 - self.phi0\n",
    "\n",
    "        self.p0 = multivariate_normal(self.mu0, self.cov0)\n",
    "        self.p1 = multivariate_normal(self.mu1, self.cov1)\n",
    "\n",
    "\n",
    "\n",
    "\n",
    "    def predict(self, X):\n",
    "        y_pred = []\n",
    "        for x in X:\n",
    "            if self.p0.pdf(x)*self.phi0< self.p1.pdf(x)*self.phi1:\n",
    "                y_pred.append(1)\n",
    "            else:\n",
    "                y_pred.append(0)\n",
    "        return np.array(y_pred )       \n",
    "\n",
    "    def score(self, X, y):\n",
    "        y_pred = self.predict(X)\n",
    "\n",
    "        score= (y.shape[0] -  np.count_nonzero((y_pred - y)))/ y.shape[0]\n",
    "        return score\n",
    "\n",
    "cgc=CustomGaussianClassifier()\n",
    "cgc.fit(X_train, y_train)\n",
    "print(cgc.predict(X_test))\n",
    "print(cgc.score(X_test, y_test))"
   ]
  },
  {
   "cell_type": "code",
   "execution_count": 10,
   "id": "speaking-gnome",
   "metadata": {},
   "outputs": [
    {
     "name": "stdout",
     "output_type": "stream",
     "text": [
      "[0 1 1 0 0 0 1 1 0 0 0 1 1 1 0 1 0 0 0 1 0 0 1 0 1 1 0 0 0 1 1 1 1 1 0 1 1\n",
      " 1 1 0 0 0 1 1 1 1 0 0 1 1 0 0 0 1 0 1 1 0 1 0 0 0 1 0 0 0 1 1 0 1 1 1 1 0\n",
      " 1 1 1 1 1 1 0 1 0 0 0 0 0 1 0 1 0 0 1 1 0 1 1 1 0 1 0 0 1 0 1 0 1 1 1 1 0\n",
      " 1 0 0 0 1 0 1 0 0 0 0 1 1 1 1 1 0 1 0 0 0 0 0 0 0 1 1 0 0 1 1 0 0 0 0 0 1\n",
      " 1 1 1 0 1 0 1 0 0 0 1 1 1 0 0 1 1 1 1 1 0 0 1 0 1 0 0 0 1 0 0 0 1 1 0 0 1\n",
      " 0 1 0 1 0 0 0 1 0 0 0 1 1 0 1 1 0 0 0 1 0 0 1 1 0 1 1 1 0 0 1 0 0 1 1 1 0\n",
      " 1 0 1 1 1 1 1 0 1 0 1 0 0 1 1 0 0 0 1 1 1 1 1 0 0 1 0 1 0 1 0 0 0 0 0 0 1\n",
      " 1 1 0 0 1 1 0 0 0 1 0 0 0 1 0 0 0 0 0 1 0 0 1 0 1 1 0 0 0 0 0 0 0 0 1 1 1\n",
      " 0 0 0 0 1 1 0 1 1 0 0 1 1 1 0 1 0 1 1 0 0 0 0 1 1 0 1 0 1 1 0 1 1 1]\n",
      "0.9181818181818182\n"
     ]
    }
   ],
   "source": [
    "from sklearn.discriminant_analysis import LinearDiscriminantAnalysis\n",
    "\n",
    "clf = LinearDiscriminantAnalysis()\n",
    "clf.fit(X_train, y_train)\n",
    "LinearDiscriminantAnalysis()\n",
    "print(clf.predict(X_test))\n",
    "print(clf.score(X_test, y_test))\n"
   ]
  },
  {
   "cell_type": "code",
   "execution_count": 6,
   "id": "sexual-ending",
   "metadata": {},
   "outputs": [],
   "source": [
    "# model data"
   ]
  }
 ],
 "metadata": {
  "kernelspec": {
   "display_name": "Python 3",
   "language": "python",
   "name": "python3"
  },
  "language_info": {
   "codemirror_mode": {
    "name": "ipython",
    "version": 3
   },
   "file_extension": ".py",
   "mimetype": "text/x-python",
   "name": "python",
   "nbconvert_exporter": "python",
   "pygments_lexer": "ipython3",
   "version": "3.7.10"
  }
 },
 "nbformat": 4,
 "nbformat_minor": 5
}
