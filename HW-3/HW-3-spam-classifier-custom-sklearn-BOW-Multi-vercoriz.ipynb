{
 "cells": [
  {
   "cell_type": "markdown",
   "metadata": {},
   "source": [
    "# In this file:\n",
    "    - estemated 2 types of vectorization(BOW and multinomial) in usage with custom classifier and sklearn GaussianNB\n",
    "    - cross validation used for better model estimation\n",
    "    - used Naive Bayes classifiers from sklearn\n",
    "    - conclusions of rwsults at the end"
   ]
  },
  {
   "cell_type": "markdown",
   "metadata": {
    "id": "CJVxhiu3UEGR"
   },
   "source": [
    "# Spam classification"
   ]
  },
  {
   "cell_type": "code",
   "execution_count": 1,
   "metadata": {
    "id": "Jhfx92s6Sgws"
   },
   "outputs": [],
   "source": [
    "# import os\n",
    "import json\n",
    "import numpy as np\n",
    "import pandas as pd\n",
    "from numpy import random\n",
    "\n",
    "from sklearn.model_selection import train_test_split\n",
    "from tqdm import tqdm_notebook as progressbar"
   ]
  },
  {
   "cell_type": "code",
   "execution_count": 2,
   "metadata": {
    "id": "iyD1zZ24iCLK"
   },
   "outputs": [],
   "source": [
    "import matplotlib.pyplot as plt\n",
    "%matplotlib inline"
   ]
  },
  {
   "cell_type": "code",
   "execution_count": 3,
   "metadata": {
    "id": "LPfV5hVKwfJ5"
   },
   "outputs": [],
   "source": [
    "import warnings\n",
    "warnings.filterwarnings(\"ignore\")"
   ]
  },
  {
   "cell_type": "code",
   "execution_count": 4,
   "metadata": {
    "id": "VuMqP88giElq"
   },
   "outputs": [],
   "source": [
    "plt.rcParams['figure.figsize'] = [9, 6]"
   ]
  },
  {
   "cell_type": "markdown",
   "metadata": {
    "id": "We2azm0zUKqe"
   },
   "source": [
    "## Load data"
   ]
  },
  {
   "cell_type": "code",
   "execution_count": 5,
   "metadata": {
    "id": "E593d6q2aB1s"
   },
   "outputs": [],
   "source": [
    "def load_json_from_file(filename):\n",
    "    with open(filename, \"r\", encoding=\"utf-8\") as f:\n",
    "        return json.load(f)"
   ]
  },
  {
   "cell_type": "code",
   "execution_count": 6,
   "metadata": {
    "id": "j0M_x4TrUJpH"
   },
   "outputs": [],
   "source": [
    "# from google.colab import drive\n",
    "# drive.mount('/content/gdrive', force_remount=True)"
   ]
  },
  {
   "cell_type": "code",
   "execution_count": 7,
   "metadata": {
    "id": "_E4AdYe6ZXNk"
   },
   "outputs": [],
   "source": [
    "# os.chdir('./gdrive/My Drive/data')\n",
    "# os.listdir()"
   ]
  },
  {
   "cell_type": "code",
   "execution_count": 8,
   "metadata": {
    "id": "LetMb3-AXgJF"
   },
   "outputs": [],
   "source": [
    "emails_tokenized_ham = load_json_from_file(r\"C:\\Users\\user\\Jupyter\\gl-ml-basecamp\\HW-3\\data\\emails-tokenized-ham.json\")\n",
    "emails_tokenized_spam = load_json_from_file(r\"C:\\Users\\user\\Jupyter\\gl-ml-basecamp\\HW-3\\data\\emails-tokenized-spam.json\")\n",
    "#vocab = load_json_from_file(\"vocab.json\")"
   ]
  },
  {
   "cell_type": "code",
   "execution_count": 9,
   "metadata": {
    "id": "mBgYEl96lsN7"
   },
   "outputs": [],
   "source": [
    "import itertools\n",
    "vocab_set = set(itertools.chain(*emails_tokenized_ham)).union(set(itertools.chain(*emails_tokenized_spam)))"
   ]
  },
  {
   "cell_type": "code",
   "execution_count": 10,
   "metadata": {
    "id": "NC6ZC4GymUgQ"
   },
   "outputs": [],
   "source": [
    "vocab = {\n",
    "    word: index\n",
    "    for index, word in enumerate(sorted(list(vocab_set)))\n",
    "}"
   ]
  },
  {
   "cell_type": "code",
   "execution_count": 11,
   "metadata": {
    "id": "xg18S29Mmh0j",
    "scrolled": true
   },
   "outputs": [],
   "source": [
    "# vocab"
   ]
  },
  {
   "cell_type": "code",
   "execution_count": 12,
   "metadata": {
    "id": "uI4Cr2dJwfKC",
    "outputId": "f5fc999c-52d2-4ae0-fdcb-5d7385a4c6d0"
   },
   "outputs": [
    {
     "data": {
      "text/plain": [
       "34147"
      ]
     },
     "execution_count": 12,
     "metadata": {},
     "output_type": "execute_result"
    }
   ],
   "source": [
    "len(vocab)"
   ]
  },
  {
   "cell_type": "code",
   "execution_count": 13,
   "metadata": {
    "id": "xym5iv7zbQzj",
    "outputId": "6263a383-0441-40cd-e401-00215143daae"
   },
   "outputs": [
    {
     "name": "stdout",
     "output_type": "stream",
     "text": [
      "['accord', 'son', 'actual', 'homer', 'simpson', 'claim', 'french', 'word', 'victori', 'chuck', 'thursday', 'august', 'number', 'number', 'number', 'number', 'pm', 'robert', 'harley', 'wrote', 'appar', 'quot', 'dubya', 'time', 'sent', 'dad', 'httpaddress', 'toni', 'blair', 'special', 'relationship', 'georg', 'w', 'bush', 'consider', 'strain', 'two', 'disagre', 'yassir', 'arafat', 'tenur', 'leader', 'palestinian', 'author', 'blair', 'start', 'tell', 'disparag', 'anecdot', 'presid', 'baro', 'william', 'crosbi', 'recal', 'stori', 'told', 'good', 'friend', 'toni', 'blair', 'recent', 'brighton', 'blair', 'bush', 'jacqu', 'chirac', 'discuss', 'econom', 'particular', 'declin', 'french', 'economi', 'problem', 'french', 'bush', 'confid', 'blair', 'word', 'entrepreneur', 'r', 'httpaddress', 'httpaddress']\n",
      "\n",
      "['miss', 'amaz', 'busi', 'opportun', 'weight', 'loss', 'product', 'pleas', 'visit', 'www', 'autodreamteam', 'com', 'oblig', 'worth', 'look']\n",
      "\n"
     ]
    }
   ],
   "source": [
    "sample_emails = [emails_tokenized_ham[42], emails_tokenized_spam[42]]\n",
    "for email in sample_emails:\n",
    "    print(email)\n",
    "    print()"
   ]
  },
  {
   "cell_type": "code",
   "execution_count": 14,
   "metadata": {
    "id": "eh3R3Xp6kVOX"
   },
   "outputs": [],
   "source": [
    "def email_to_vector_bow(email_words, vocab):\n",
    "    email_vec = np.zeros(len(vocab), dtype=\"int32\")\n",
    "    \n",
    "    for word in email_words:\n",
    "        if word in vocab:\n",
    "            email_vec[vocab[word]] = 1\n",
    "            \n",
    "    return email_vec"
   ]
  },
  {
   "cell_type": "code",
   "execution_count": 15,
   "metadata": {
    "id": "ZSZS9PUfaMS0"
   },
   "outputs": [],
   "source": [
    "def email_to_vector_multinomial(email_words, vocab):\n",
    "    return np.array([vocab[word] for word in email_words], dtype=\"int32\")"
   ]
  },
  {
   "cell_type": "code",
   "execution_count": 16,
   "metadata": {},
   "outputs": [],
   "source": [
    "# email2vec = email_to_vector_multinomial"
   ]
  },
  {
   "cell_type": "code",
   "execution_count": 17,
   "metadata": {},
   "outputs": [],
   "source": [
    "# X = [\n",
    "#     email2vec(email, vocab)\n",
    "#     for email in emails_tokenized_ham + emails_tokenized_spam\n",
    "# ]\n",
    "# np.shape(X)"
   ]
  },
  {
   "cell_type": "code",
   "execution_count": 18,
   "metadata": {
    "id": "_XrXcyD7wfKE"
   },
   "outputs": [],
   "source": [
    "email2vec = email_to_vector_bow"
   ]
  },
  {
   "cell_type": "code",
   "execution_count": 19,
   "metadata": {
    "id": "Wn7PQbfuahuB",
    "outputId": "d291118c-53c4-4d68-f410-2f8d8aa04e02"
   },
   "outputs": [
    {
     "data": {
      "text/plain": [
       "(5543, 34147)"
      ]
     },
     "execution_count": 19,
     "metadata": {},
     "output_type": "execute_result"
    }
   ],
   "source": [
    "X_bow = [\n",
    "    email2vec(email, vocab)\n",
    "    for email in emails_tokenized_ham + emails_tokenized_spam\n",
    "]\n",
    "np.shape(X_bow)"
   ]
  },
  {
   "cell_type": "code",
   "execution_count": 20,
   "metadata": {},
   "outputs": [],
   "source": [
    "# X[0][0].shape"
   ]
  },
  {
   "cell_type": "code",
   "execution_count": 21,
   "metadata": {
    "id": "jE6Vw9oTbanV",
    "outputId": "3e1fb961-9c23-4434-bc40-c0ddad62c78f"
   },
   "outputs": [
    {
     "name": "stdout",
     "output_type": "stream",
     "text": [
      "Email text: ['accord', 'son', 'actual', 'homer', 'simpson', 'claim', 'french', 'word', 'victori', 'chuck', 'thursday', 'august', 'number', 'number', 'number', 'number', 'pm', 'robert', 'harley', 'wrote', 'appar', 'quot', 'dubya', 'time', 'sent', 'dad', 'httpaddress', 'toni', 'blair', 'special', 'relationship', 'georg', 'w', 'bush', 'consider', 'strain', 'two', 'disagre', 'yassir', 'arafat', 'tenur', 'leader', 'palestinian', 'author', 'blair', 'start', 'tell', 'disparag', 'anecdot', 'presid', 'baro', 'william', 'crosbi', 'recal', 'stori', 'told', 'good', 'friend', 'toni', 'blair', 'recent', 'brighton', 'blair', 'bush', 'jacqu', 'chirac', 'discuss', 'econom', 'particular', 'declin', 'french', 'economi', 'problem', 'french', 'bush', 'confid', 'blair', 'word', 'entrepreneur', 'r', 'httpaddress', 'httpaddress']\n",
      "Email vector: [0 0 0 ... 0 0 0]\n",
      "Length: (34147,)\n",
      "\n",
      "Email text: ['miss', 'amaz', 'busi', 'opportun', 'weight', 'loss', 'product', 'pleas', 'visit', 'www', 'autodreamteam', 'com', 'oblig', 'worth', 'look']\n",
      "Email vector: [0 0 0 ... 0 0 0]\n",
      "Length: (34147,)\n",
      "\n"
     ]
    }
   ],
   "source": [
    "for email in sample_emails:\n",
    "    email_vec = email2vec(email, vocab)\n",
    "    \n",
    "    print(\"Email text:\", email)\n",
    "    print(\"Email vector:\", email_vec)\n",
    "    print(\"Length:\", email_vec.shape)\n",
    "    print()"
   ]
  },
  {
   "cell_type": "code",
   "execution_count": 22,
   "metadata": {
    "id": "JS4QYYClai7V",
    "outputId": "8f2c58c3-172e-4c8a-8b0a-205f35587cfc"
   },
   "outputs": [
    {
     "data": {
      "text/plain": [
       "5543"
      ]
     },
     "execution_count": 22,
     "metadata": {},
     "output_type": "execute_result"
    }
   ],
   "source": [
    "y = np.array([0] * len(emails_tokenized_ham) + [1] * len(emails_tokenized_spam))\n",
    "len(y)"
   ]
  },
  {
   "cell_type": "code",
   "execution_count": 23,
   "metadata": {},
   "outputs": [],
   "source": [
    "# y"
   ]
  },
  {
   "cell_type": "markdown",
   "metadata": {
    "id": "MSKIXXUkbzBA"
   },
   "source": [
    "## Train Model"
   ]
  },
  {
   "cell_type": "code",
   "execution_count": 24,
   "metadata": {
    "id": "LmHTKHTqapAj"
   },
   "outputs": [],
   "source": [
    "X_train_bow, X_test_bow, y_train_bow, y_test_bow = train_test_split(X_bow, y, test_size=0.1, random_state=42)"
   ]
  },
  {
   "cell_type": "markdown",
   "metadata": {
    "id": "g7NjTdUncMTf"
   },
   "source": [
    "Підрахуємо сумарну кількість слів у ham- і spam-листах відповідно."
   ]
  },
  {
   "cell_type": "code",
   "execution_count": 25,
   "metadata": {
    "id": "l-yEnX5Ta-fj"
   },
   "outputs": [],
   "source": [
    "ham_total_words_train = sum(len(email) for email, cls in zip(X_train_bow, y_train_bow) if cls == 0)\n",
    "spam_total_words_train = sum(len(email) for email, cls in zip(X_train_bow, y_train_bow) if cls == 1)"
   ]
  },
  {
   "cell_type": "code",
   "execution_count": 26,
   "metadata": {},
   "outputs": [
    {
     "name": "stdout",
     "output_type": "stream",
     "text": [
      "121495026\n",
      "48830210\n"
     ]
    }
   ],
   "source": [
    "print(ham_total_words_train)\n",
    "print(spam_total_words_train)"
   ]
  },
  {
   "cell_type": "markdown",
   "metadata": {
    "id": "Q_XzKXoGb4du"
   },
   "source": [
    "Тепер обчислимо апріорні ймовірності для класів ham і spam.\n",
    "\n",
    "Щоб уникнути машинних проблем із множенням великої кількості малих дробів, ми працюватимемо з логарифмами ймовірностей.\n",
    "$\\log{P(ham)} = \\log{\\frac{\\sum_{i=1}^{m}1\\{y^{(i)}=ham\\}}{m}}$\n",
    "\n",
    "$\\log{P(spam)} = \\log{\\frac{\\sum_{i=1}^{m}1\\{y^{(i)}=spam\\}}{m}}$"
   ]
  },
  {
   "cell_type": "code",
   "execution_count": 27,
   "metadata": {
    "id": "Xi25YmVPk11h"
   },
   "outputs": [],
   "source": [
    "ham_email_indices = np.where(y_train_bow == 0)[0]\n",
    "spam_email_indices = np.where(y_train_bow == 1)[0]"
   ]
  },
  {
   "cell_type": "code",
   "execution_count": 28,
   "metadata": {},
   "outputs": [
    {
     "data": {
      "text/plain": [
       "array([   0,    1,    2, ..., 4982, 4983, 4987], dtype=int64)"
      ]
     },
     "execution_count": 28,
     "metadata": {},
     "output_type": "execute_result"
    }
   ],
   "source": [
    "ham_email_indices"
   ]
  },
  {
   "cell_type": "code",
   "execution_count": 29,
   "metadata": {
    "id": "pSsvMTTdb2Ig"
   },
   "outputs": [],
   "source": [
    "ham_log_prior = np.log(len(ham_email_indices) / len(y_train_bow))\n",
    "spam_log_prior = np.log(len(spam_email_indices) / len(y_train_bow))"
   ]
  },
  {
   "cell_type": "code",
   "execution_count": 30,
   "metadata": {
    "id": "WmCpr37fktb9",
    "outputId": "76ec24c7-3199-4724-ed8b-c61efd1c34df"
   },
   "outputs": [
    {
     "name": "stdout",
     "output_type": "stream",
     "text": [
      "-0.33783643857414664\n",
      "-1.2493605835459742\n"
     ]
    }
   ],
   "source": [
    "print(ham_log_prior)\n",
    "print(spam_log_prior)"
   ]
  },
  {
   "cell_type": "markdown",
   "metadata": {
    "id": "p1jBe99CcT0L"
   },
   "source": [
    "Обчислимо правдоподібності (likelihood) для кожного слова. Також застосуємо згладжування Лапласа, щоб уникнути ділення на нуль. Вважаємо, що бачили кожне слово на один раз більше."
   ]
  },
  {
   "cell_type": "markdown",
   "metadata": {
    "id": "4H4S-L9Yb8kS"
   },
   "source": [
    "$\\log{\\phi_{word\\,|\\,class}} = \\log{\\frac{\\sum_{i=1}^{m} \\sum_{j=1}^{n_i} {1\\{x_{j}^{(j)}=word \\, \\land \\, y=class\\}} + 1}{\\sum_{i=1}^{m}{1\\{y=class\\}n_i} \\,+\\, |V|}}$"
   ]
  },
  {
   "cell_type": "markdown",
   "metadata": {
    "id": "TRnrAf-5b-1h"
   },
   "source": [
    "Створимо порожні вектори $\\log{\\phi_{word \\, | \\, ham}}$ та $\\log{\\phi_{word \\, | \\, spam}}$ і заповнимо їх для кожного слова зі словника."
   ]
  },
  {
   "cell_type": "code",
   "execution_count": 31,
   "metadata": {
    "id": "fgi7uh1Pb6k_"
   },
   "outputs": [],
   "source": [
    "ham_log_phi = np.zeros(len(vocab), dtype=\"float64\")\n",
    "spam_log_phi = np.zeros(len(vocab), dtype=\"float64\")"
   ]
  },
  {
   "cell_type": "code",
   "execution_count": 32,
   "metadata": {
    "id": "SnsymRChcXRC"
   },
   "outputs": [],
   "source": [
    "ham_word_counts = np.zeros(len(vocab))\n",
    "spam_word_counts = np.zeros(len(vocab))"
   ]
  },
  {
   "cell_type": "code",
   "execution_count": 33,
   "metadata": {
    "colab": {
     "referenced_widgets": [
      "3b50c501ddb64ee58c81e499e757e8d7"
     ]
    },
    "id": "Jc1chJGTcYse",
    "outputId": "66b19aa1-a34f-4d1f-90ba-65ab4435cac6"
   },
   "outputs": [
    {
     "data": {
      "application/vnd.jupyter.widget-view+json": {
       "model_id": "388cefbab243402b80a3984088bdbeec",
       "version_major": 2,
       "version_minor": 0
      },
      "text/plain": [
       "Train:   0%|          | 0/4988 [00:00<?, ?it/s]"
      ]
     },
     "metadata": {},
     "output_type": "display_data"
    }
   ],
   "source": [
    "for email_index in progressbar(range(len(X_train_bow)), desc=\"Train\"):\n",
    "    for word_index in X_train_bow[email_index]:\n",
    "        if y_train_bow[email_index] == 0:\n",
    "            ham_word_counts[word_index] += 1\n",
    "        if y_train_bow[email_index] == 1:\n",
    "            spam_word_counts[word_index] += 1\n",
    "\n",
    "ham_log_phi = np.log((ham_word_counts + 1) / (ham_total_words_train + len(vocab)))\n",
    "spam_log_phi = np.log((spam_word_counts + 1) / (spam_total_words_train + len(vocab)))"
   ]
  },
  {
   "cell_type": "code",
   "execution_count": 34,
   "metadata": {},
   "outputs": [
    {
     "data": {
      "text/plain": [
       "349418.0"
      ]
     },
     "execution_count": 34,
     "metadata": {},
     "output_type": "execute_result"
    }
   ],
   "source": [
    "ham_word_counts[1]"
   ]
  },
  {
   "cell_type": "markdown",
   "metadata": {
    "id": "QWzyBhHVci3Y"
   },
   "source": [
    "## Predict"
   ]
  },
  {
   "cell_type": "markdown",
   "metadata": {
    "id": "kfRkau6uclxv"
   },
   "source": [
    "$\\log P(y=class\\,|\\,words) = \\log \\frac{P(words\\,|\\,y=class) P(y=class)}{P(words)} = \\sum_{i=1}^{n} \\log P(words_i\\,|\\,y=class) + \\log P(y=class) - \\log P(words)$\n"
   ]
  },
  {
   "cell_type": "markdown",
   "metadata": {
    "id": "30LPyR2Ecnji"
   },
   "source": [
    "Пригадайте, що знаменник $P(words)$ — один і той самий для обох класів, тому для передбачення його можна проігнорувати."
   ]
  },
  {
   "cell_type": "code",
   "execution_count": 35,
   "metadata": {
    "id": "DpNXDBMtcbzw"
   },
   "outputs": [],
   "source": [
    "def predict(X):\n",
    "    y_pred = np.zeros(len(X))\n",
    "\n",
    "    for i in progressbar(range(len(y_pred)), desc=\"Predict\"):\n",
    "        email_vector = X[i]\n",
    "        ham_posterior = ham_log_phi[email_vector].sum() + ham_log_prior\n",
    "        spam_posterior = spam_log_phi[email_vector].sum() + spam_log_prior\n",
    "\n",
    "        # Whichever class has the bigger posterior probability, wins.\n",
    "        y_pred[i] = 0 if ham_posterior > spam_posterior else 1\n",
    "    \n",
    "    return y_pred"
   ]
  },
  {
   "cell_type": "code",
   "execution_count": 36,
   "metadata": {
    "colab": {
     "referenced_widgets": [
      "a8f1d9da34694393a61418e9e5cb33d7",
      "7b9748318f274c8489bf24faf12c85dd"
     ]
    },
    "id": "Tf1KY5hkcpxQ",
    "outputId": "c5b6ad68-6a13-4d6e-93c2-0015f4eaebae",
    "scrolled": true
   },
   "outputs": [
    {
     "data": {
      "application/vnd.jupyter.widget-view+json": {
       "model_id": "5f129728456e4c688cc1d89ecd092a3a",
       "version_major": 2,
       "version_minor": 0
      },
      "text/plain": [
       "Predict:   0%|          | 0/4988 [00:00<?, ?it/s]"
      ]
     },
     "metadata": {},
     "output_type": "display_data"
    },
    {
     "data": {
      "application/vnd.jupyter.widget-view+json": {
       "model_id": "9dd7ef8b90bd45388354607431e9f154",
       "version_major": 2,
       "version_minor": 0
      },
      "text/plain": [
       "Predict:   0%|          | 0/555 [00:00<?, ?it/s]"
      ]
     },
     "metadata": {},
     "output_type": "display_data"
    }
   ],
   "source": [
    "custom_pred_train_bow = predict(X_train_bow)\n",
    "custom_pred_test_bow = predict(X_test_bow)"
   ]
  },
  {
   "cell_type": "code",
   "execution_count": 37,
   "metadata": {
    "id": "ZeiNj8zqcuNX"
   },
   "outputs": [],
   "source": [
    "custom_accuracy_train_bow = 1 - np.sum(custom_pred_train_bow != y_train_bow) / len(y_train_bow)\n",
    "custom_accuracy_test_bow = 1 - np.sum(custom_pred_test_bow != y_test_bow) / len(y_test_bow)"
   ]
  },
  {
   "cell_type": "code",
   "execution_count": 38,
   "metadata": {
    "id": "lw44lc7OcvjP",
    "outputId": "c71f042b-e54f-4ad2-a6c6-4b99ddc7c430"
   },
   "outputs": [
    {
     "name": "stdout",
     "output_type": "stream",
     "text": [
      "Training accuracy:   68.665%\n",
      "Test accuracy:       70.811%\n"
     ]
    }
   ],
   "source": [
    "print(\"Training accuracy:   {0:.3f}%\".format(custom_accuracy_train_bow * 100))\n",
    "print(\"Test accuracy:       {0:.3f}%\".format(custom_accuracy_test_bow * 100))"
   ]
  },
  {
   "cell_type": "code",
   "execution_count": 39,
   "metadata": {
    "id": "L-dZg8Svcxau",
    "outputId": "7ba829c2-2aa1-4293-d5a6-4a0516069e1f"
   },
   "outputs": [
    {
     "name": "stdout",
     "output_type": "stream",
     "text": [
      "[[354  40]\n",
      " [122  39]]\n"
     ]
    }
   ],
   "source": [
    "from sklearn.metrics import confusion_matrix\n",
    "cm_custom_model_bow = confusion_matrix(y_test_bow, custom_pred_test_bow)\n",
    "print(cm_custom_model_bow)"
   ]
  },
  {
   "cell_type": "code",
   "execution_count": 40,
   "metadata": {
    "id": "D7B5THyih5-O",
    "outputId": "61829379-e124-4ef4-a9c9-baca8e944a31"
   },
   "outputs": [
    {
     "data": {
      "image/png": "[encoded data removed]",
      "text/plain": [
       "<Figure size 648x432 with 2 Axes>"
      ]
     },
     "metadata": {
      "needs_background": "light"
     },
     "output_type": "display_data"
    }
   ],
   "source": [
    "import seaborn as sns\n",
    "labels = ['Ham','Spam']\n",
    "\n",
    "ax= plt.subplot()\n",
    "sns.heatmap(cm_custom_model_bow, annot=True, ax = ax, fmt='g'); #annot=True to annotate cells\n",
    "# sns.heatmap(cm, annot=True, ax = ax); #annot=True to annotate cells\n",
    "# sns.heatmap(cm, linewidths=1, annot=True, fmt='g')\n",
    "# labels, title and ticks\n",
    "ax.set_xlabel('Predicted labels');ax.set_ylabel('True labels'); \n",
    "ax.set_title('Confusion Matrix'); \n",
    "ax.xaxis.set_ticklabels(labels); \n",
    "ax.yaxis.set_ticklabels(labels);"
   ]
  },
  {
   "cell_type": "markdown",
   "metadata": {
    "id": "WH5ToTykjIN9"
   },
   "source": [
    "![Metrics](https://upload.wikimedia.org/wikipedia/commons/thumb/2/26/Precisionrecall.svg/350px-Precisionrecall.svg.png)"
   ]
  },
  {
   "cell_type": "code",
   "execution_count": 41,
   "metadata": {
    "id": "f2jMV7MXi83b",
    "outputId": "dad53595-6595-4aac-f7e6-cbd7af2b735d"
   },
   "outputs": [
    {
     "name": "stdout",
     "output_type": "stream",
     "text": [
      "              precision    recall  f1-score   support\n",
      "\n",
      "         Ham       0.74      0.90      0.81       394\n",
      "        Spam       0.49      0.24      0.33       161\n",
      "\n",
      "    accuracy                           0.71       555\n",
      "   macro avg       0.62      0.57      0.57       555\n",
      "weighted avg       0.67      0.71      0.67       555\n",
      "\n"
     ]
    }
   ],
   "source": [
    "from sklearn.metrics import classification_report\n",
    "print(classification_report(y_test_bow,  custom_pred_test_bow, target_names = labels))"
   ]
  },
  {
   "cell_type": "markdown",
   "metadata": {},
   "source": [
    "# let's use vectorization function email_to_vector_multinomial"
   ]
  },
  {
   "cell_type": "code",
   "execution_count": 42,
   "metadata": {},
   "outputs": [],
   "source": [
    "email2vec_multinomial = email_to_vector_multinomial"
   ]
  },
  {
   "cell_type": "code",
   "execution_count": 43,
   "metadata": {},
   "outputs": [
    {
     "data": {
      "text/plain": [
       "(5543,)"
      ]
     },
     "execution_count": 43,
     "metadata": {},
     "output_type": "execute_result"
    }
   ],
   "source": [
    "X_multi = [\n",
    "    email2vec_multinomial(email, vocab)\n",
    "    for email in emails_tokenized_ham + emails_tokenized_spam\n",
    "]\n",
    "np.shape(X_multi)"
   ]
  },
  {
   "cell_type": "code",
   "execution_count": 44,
   "metadata": {},
   "outputs": [
    {
     "data": {
      "text/plain": [
       "(5543, 34147)"
      ]
     },
     "execution_count": 44,
     "metadata": {},
     "output_type": "execute_result"
    }
   ],
   "source": [
    "np.shape(X_bow)"
   ]
  },
  {
   "cell_type": "code",
   "execution_count": 45,
   "metadata": {},
   "outputs": [],
   "source": [
    "X_train_multi, X_test_multi, y_train_multi, y_test_multi = train_test_split(X_multi, y, test_size=0.1, random_state=42)"
   ]
  },
  {
   "cell_type": "markdown",
   "metadata": {},
   "source": [
    " 'y' we have equal for both situations and we don't need to recalculate part of values for training but we need to retrain on new vectors"
   ]
  },
  {
   "cell_type": "code",
   "execution_count": 46,
   "metadata": {},
   "outputs": [
    {
     "data": {
      "application/vnd.jupyter.widget-view+json": {
       "model_id": "6eaf17502d3c49d0aa3eea37c17e7a99",
       "version_major": 2,
       "version_minor": 0
      },
      "text/plain": [
       "Train:   0%|          | 0/4988 [00:00<?, ?it/s]"
      ]
     },
     "metadata": {},
     "output_type": "display_data"
    }
   ],
   "source": [
    "for email_index in progressbar(range(len(X_train_multi)), desc=\"Train\"):\n",
    "    for word_index in X_train_multi[email_index]:\n",
    "        if y_train_multi[email_index] == 0:\n",
    "            ham_word_counts[word_index] += 1\n",
    "        if y_train_multi[email_index] == 1:\n",
    "            spam_word_counts[word_index] += 1\n",
    "\n",
    "ham_log_phi = np.log((ham_word_counts + 1) / (ham_total_words_train + len(vocab)))\n",
    "spam_log_phi = np.log((spam_word_counts + 1) / (spam_total_words_train + len(vocab)))"
   ]
  },
  {
   "cell_type": "code",
   "execution_count": 47,
   "metadata": {
    "id": "Z0ntrJVZjSB4"
   },
   "outputs": [
    {
     "data": {
      "application/vnd.jupyter.widget-view+json": {
       "model_id": "81b88a1e860c4ea0a22c6c373dba53fb",
       "version_major": 2,
       "version_minor": 0
      },
      "text/plain": [
       "Predict:   0%|          | 0/4988 [00:00<?, ?it/s]"
      ]
     },
     "metadata": {},
     "output_type": "display_data"
    },
    {
     "data": {
      "application/vnd.jupyter.widget-view+json": {
       "model_id": "6dcb0e2344674bb59a836179e5150b98",
       "version_major": 2,
       "version_minor": 0
      },
      "text/plain": [
       "Predict:   0%|          | 0/555 [00:00<?, ?it/s]"
      ]
     },
     "metadata": {},
     "output_type": "display_data"
    }
   ],
   "source": [
    "custom_pred_train_multi = predict(X_train_multi)\n",
    "custom_pred_test_multi = predict(X_test_multi)"
   ]
  },
  {
   "cell_type": "code",
   "execution_count": 48,
   "metadata": {},
   "outputs": [],
   "source": [
    "custom_accuracy_train_multi = 1 - np.sum(custom_pred_train_multi != y_train_multi) / len(y_train_multi)\n",
    "custom_accuracy_test_multi = 1 - np.sum(custom_pred_test_multi != y_test_multi) / len(y_test_multi)"
   ]
  },
  {
   "cell_type": "code",
   "execution_count": 49,
   "metadata": {},
   "outputs": [
    {
     "name": "stdout",
     "output_type": "stream",
     "text": [
      "Training accuracy:   91.921%\n",
      "Test accuracy:       88.829%\n"
     ]
    }
   ],
   "source": [
    "print(\"Training accuracy:   {0:.3f}%\".format(custom_accuracy_train_multi * 100))\n",
    "print(\"Test accuracy:       {0:.3f}%\".format(custom_accuracy_test_multi * 100))"
   ]
  },
  {
   "cell_type": "code",
   "execution_count": 50,
   "metadata": {},
   "outputs": [
    {
     "data": {
      "text/html": [
       "<style  type=\"text/css\" >\n",
       "#T_8fc6c_row1_col1,#T_8fc6c_row1_col2{\n",
       "            background-color:  yellow;\n",
       "        }</style><table id=\"T_8fc6c_\" ><thead>    <tr>        <th class=\"blank level0\" ></th>        <th class=\"col_heading level0 col0\" >Model</th>        <th class=\"col_heading level0 col1\" >Accuracy train</th>        <th class=\"col_heading level0 col2\" >Accuracy test</th>    </tr></thead><tbody>\n",
       "                <tr>\n",
       "                        <th id=\"T_8fc6c_level0_row0\" class=\"row_heading level0 row0\" >0</th>\n",
       "                        <td id=\"T_8fc6c_row0_col0\" class=\"data row0 col0\" >Custom Classifier with bow vect</td>\n",
       "                        <td id=\"T_8fc6c_row0_col1\" class=\"data row0 col1\" >0.686648</td>\n",
       "                        <td id=\"T_8fc6c_row0_col2\" class=\"data row0 col2\" >0.708108</td>\n",
       "            </tr>\n",
       "            <tr>\n",
       "                        <th id=\"T_8fc6c_level0_row1\" class=\"row_heading level0 row1\" >1</th>\n",
       "                        <td id=\"T_8fc6c_row1_col0\" class=\"data row1 col0\" >Custom Classifier with multi vect</td>\n",
       "                        <td id=\"T_8fc6c_row1_col1\" class=\"data row1 col1\" >0.919206</td>\n",
       "                        <td id=\"T_8fc6c_row1_col2\" class=\"data row1 col2\" >0.888288</td>\n",
       "            </tr>\n",
       "    </tbody></table>"
      ],
      "text/plain": [
       "<pandas.io.formats.style.Styler at 0x2c3499c64c8>"
      ]
     },
     "execution_count": 50,
     "metadata": {},
     "output_type": "execute_result"
    }
   ],
   "source": [
    "pd.DataFrame([['Custom Classifier with bow vect', custom_accuracy_train_bow, custom_accuracy_test_bow],\n",
    "             ['Custom Classifier with multi vect', custom_accuracy_train_multi, custom_accuracy_test_multi]],\n",
    "             columns=['Model', 'Accuracy train', 'Accuracy test'],).style.highlight_max()"
   ]
  },
  {
   "cell_type": "markdown",
   "metadata": {},
   "source": [
    "### conclusion: for custom model better to use multinomial vectorization\n",
    "\n"
   ]
  },
  {
   "cell_type": "markdown",
   "metadata": {},
   "source": [
    "# Usage sklearn.naive_bayes GaussianNB for classification"
   ]
  },
  {
   "cell_type": "code",
   "execution_count": 51,
   "metadata": {},
   "outputs": [],
   "source": [
    "from sklearn.naive_bayes import GaussianNB\n",
    "\n",
    "gnb_bow = GaussianNB()\n",
    "gnb_bow.fit(X_train_bow, y_train_bow)\n",
    "y_pred_train_bow = gnb_bow.predict(X_train_bow)\n",
    "y_pred_test_bow = gnb_bow.predict(X_test_bow)"
   ]
  },
  {
   "cell_type": "code",
   "execution_count": 52,
   "metadata": {},
   "outputs": [],
   "source": [
    "sklearn_accuracy_train_bow = 1 - np.sum(y_pred_train_bow != y_train_bow) / len(y_train_bow)\n",
    "sklearn_accuracy_test_bow = 1 - np.sum(y_pred_test_bow != y_test_bow) / len(y_test_bow)"
   ]
  },
  {
   "cell_type": "code",
   "execution_count": 53,
   "metadata": {},
   "outputs": [
    {
     "name": "stdout",
     "output_type": "stream",
     "text": [
      "Training accuracy:   97.815%\n",
      "Test accuracy:       92.432%\n"
     ]
    }
   ],
   "source": [
    "print(\"Training accuracy:   {0:.3f}%\".format(sklearn_accuracy_train_bow * 100))\n",
    "print(\"Test accuracy:       {0:.3f}%\".format(sklearn_accuracy_test_bow * 100))"
   ]
  },
  {
   "cell_type": "markdown",
   "metadata": {},
   "source": [
    "# Cross validation for better model estimation"
   ]
  },
  {
   "cell_type": "code",
   "execution_count": 54,
   "metadata": {},
   "outputs": [],
   "source": [
    "from sklearn.model_selection import cross_val_score\n",
    "scores_bow = cross_val_score(gnb_bow, X_train_bow, y_train_bow, cv=5)"
   ]
  },
  {
   "cell_type": "code",
   "execution_count": 55,
   "metadata": {},
   "outputs": [],
   "source": [
    "results = {}\n",
    "results[0] = {'CV_mean':scores_bow.mean(), 'CV_std':scores_bow.std(), 'Test':sklearn_accuracy_test_bow}"
   ]
  },
  {
   "cell_type": "markdown",
   "metadata": {},
   "source": [
    "for sklearn model we need rewrite email_to_vector_multinomial"
   ]
  },
  {
   "cell_type": "code",
   "execution_count": 56,
   "metadata": {},
   "outputs": [],
   "source": [
    "def email_to_vector_multinomial2(email_words, vocab):\n",
    "    email_vec = np.zeros(len(vocab), dtype=\"int32\")\n",
    "    \n",
    "    for word in email_words:\n",
    "        if word in vocab:\n",
    "            email_vec[vocab[word]] = vocab[word]\n",
    "            \n",
    "    return email_vec"
   ]
  },
  {
   "cell_type": "code",
   "execution_count": 57,
   "metadata": {},
   "outputs": [],
   "source": [
    "email2vec_multinomial = email_to_vector_multinomial2"
   ]
  },
  {
   "cell_type": "code",
   "execution_count": 58,
   "metadata": {},
   "outputs": [
    {
     "data": {
      "text/plain": [
       "(5543, 34147)"
      ]
     },
     "execution_count": 58,
     "metadata": {},
     "output_type": "execute_result"
    }
   ],
   "source": [
    "X_multi = [\n",
    "    email2vec_multinomial(email, vocab)\n",
    "    for email in emails_tokenized_ham + emails_tokenized_spam\n",
    "]\n",
    "np.shape(X_multi)"
   ]
  },
  {
   "cell_type": "code",
   "execution_count": 59,
   "metadata": {},
   "outputs": [],
   "source": [
    "X_train_multi, X_test_multi, y_train_multi, y_test_multi = train_test_split(X_multi, y, test_size=0.1, random_state=42)"
   ]
  },
  {
   "cell_type": "code",
   "execution_count": 60,
   "metadata": {},
   "outputs": [],
   "source": [
    "gnb_multi = GaussianNB()\n",
    "gnb_multi.fit(X_train_multi, y_train_multi)\n",
    "y_pred_train_multi = gnb_multi.predict(X_train_multi)\n",
    "y_pred_test_multi = gnb_multi.predict(X_test_multi)"
   ]
  },
  {
   "cell_type": "code",
   "execution_count": 61,
   "metadata": {},
   "outputs": [],
   "source": [
    "sklearn_accuracy_train_multi = 1 - np.sum(y_pred_train_multi != y_train_multi) / len(y_train_multi)\n",
    "sklearn_accuracy_test_multi = 1 - np.sum(y_pred_test_multi != y_test_multi) / len(y_test_multi)"
   ]
  },
  {
   "cell_type": "code",
   "execution_count": 62,
   "metadata": {},
   "outputs": [
    {
     "name": "stdout",
     "output_type": "stream",
     "text": [
      "Training accuracy:   97.815%\n",
      "Test accuracy:       92.252%\n"
     ]
    }
   ],
   "source": [
    "print(\"Training accuracy:   {0:.3f}%\".format(sklearn_accuracy_train_multi * 100))\n",
    "print(\"Test accuracy:       {0:.3f}%\".format(sklearn_accuracy_test_multi * 100))"
   ]
  },
  {
   "cell_type": "code",
   "execution_count": 63,
   "metadata": {},
   "outputs": [],
   "source": [
    "scores_multi = cross_val_score(gnb_multi, X_train_multi, y_train_multi, cv=5)"
   ]
  },
  {
   "cell_type": "code",
   "execution_count": 64,
   "metadata": {},
   "outputs": [],
   "source": [
    "results[1] = {'CV_mean':scores_multi.mean(), 'CV_std':scores_multi.std(), 'Test':sklearn_accuracy_test_multi}"
   ]
  },
  {
   "cell_type": "code",
   "execution_count": 65,
   "metadata": {},
   "outputs": [
    {
     "data": {
      "text/html": [
       "<style  type=\"text/css\" >\n",
       "#T_397cc_row0_col0,#T_397cc_row0_col1,#T_397cc_row0_col2{\n",
       "            background-color:  yellow;\n",
       "        }</style><table id=\"T_397cc_\" ><thead>    <tr>        <th class=\"blank level0\" ></th>        <th class=\"col_heading level0 col0\" >CV_mean</th>        <th class=\"col_heading level0 col1\" >CV_std</th>        <th class=\"col_heading level0 col2\" >Test</th>    </tr></thead><tbody>\n",
       "                <tr>\n",
       "                        <th id=\"T_397cc_level0_row0\" class=\"row_heading level0 row0\" >0</th>\n",
       "                        <td id=\"T_397cc_row0_col0\" class=\"data row0 col0\" >0.925819</td>\n",
       "                        <td id=\"T_397cc_row0_col1\" class=\"data row0 col1\" >0.010650</td>\n",
       "                        <td id=\"T_397cc_row0_col2\" class=\"data row0 col2\" >0.924324</td>\n",
       "            </tr>\n",
       "            <tr>\n",
       "                        <th id=\"T_397cc_level0_row1\" class=\"row_heading level0 row1\" >1</th>\n",
       "                        <td id=\"T_397cc_row1_col0\" class=\"data row1 col0\" >0.920807</td>\n",
       "                        <td id=\"T_397cc_row1_col1\" class=\"data row1 col1\" >0.009580</td>\n",
       "                        <td id=\"T_397cc_row1_col2\" class=\"data row1 col2\" >0.922523</td>\n",
       "            </tr>\n",
       "    </tbody></table>"
      ],
      "text/plain": [
       "<pandas.io.formats.style.Styler at 0x2c367fcd388>"
      ]
     },
     "execution_count": 65,
     "metadata": {},
     "output_type": "execute_result"
    }
   ],
   "source": [
    "results = pd.DataFrame(results).T\n",
    "results.style.highlight_max()"
   ]
  },
  {
   "cell_type": "markdown",
   "metadata": {},
   "source": [
    "# Conclusions \n",
    "Sklearn model:\n",
    "- with multinomial vectorization sklearn model works a little worse (difference = 0.005 by cros validation score(folds = 5)) \n",
    "\n",
    "- but std little less it says that model more stable\n",
    "\n",
    "Custom model:\n",
    "- multinomial vectorization shows much better results\n"
   ]
  },
  {
   "cell_type": "markdown",
   "metadata": {},
   "source": [
    "My question: why we have this paradox that bow better for sklearn model?"
   ]
  },
  {
   "cell_type": "markdown",
   "metadata": {},
   "source": [
    "For using cross validation for custom method we need to make from if new class CustomClassification(BaseEstimator, ClassifierMixin)   \n",
    "it will be done by 24.03"
   ]
  }
 ],
 "metadata": {
  "colab": {
   "name": "Spam Classifier.ipynb",
   "provenance": []
  },
  "kernelspec": {
   "display_name": "Python 3",
   "language": "python",
   "name": "python3"
  },
  "language_info": {
   "codemirror_mode": {
    "name": "ipython",
    "version": 3
   },
   "file_extension": ".py",
   "mimetype": "text/x-python",
   "name": "python",
   "nbconvert_exporter": "python",
   "pygments_lexer": "ipython3",
   "version": "3.7.10"
  }
 },
 "nbformat": 4,
 "nbformat_minor": 1
}
