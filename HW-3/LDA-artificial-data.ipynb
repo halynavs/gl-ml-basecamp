{
 "cells": [
  {
   "cell_type": "code",
   "execution_count": 8,
   "id": "phantom-powell",
   "metadata": {},
   "outputs": [],
   "source": [
    "import numpy as np\n"
   ]
  },
  {
   "cell_type": "code",
   "execution_count": 9,
   "id": "musical-italian",
   "metadata": {},
   "outputs": [],
   "source": [
    "from sklearn.datasets import make_classification\n",
    "n_samples = 100\n",
    "n_outliers = 10\n",
    "X, Y= make_classification(n_samples=n_samples,n_features=2, n_redundant=0, n_informative=1,\n",
    "                             n_clusters_per_class=1, random_state =42)"
   ]
  },
  {
   "cell_type": "code",
   "execution_count": 10,
   "id": "treated-laundry",
   "metadata": {},
   "outputs": [],
   "source": [
    "from sklearn.model_selection import train_test_split\n",
    "X_train, X_test, y_train, y_test = train_test_split(x, y, test_size=0.07, random_state=42)"
   ]
  },
  {
   "cell_type": "code",
   "execution_count": 11,
   "id": "acting-stable",
   "metadata": {
    "scrolled": true
   },
   "outputs": [
    {
     "data": {
      "text/plain": [
       "<matplotlib.collections.PathCollection at 0x1936b562508>"
      ]
     },
     "execution_count": 11,
     "metadata": {},
     "output_type": "execute_result"
    },
    {
     "data": {
      "image/png": "[encoded data removed]",
      "text/plain": [
       "<Figure size 432x288 with 1 Axes>"
      ]
     },
     "metadata": {
      "needs_background": "light"
     },
     "output_type": "display_data"
    }
   ],
   "source": [
    "\n",
    "import matplotlib.pyplot as plt\n",
    "plt.scatter(X[:, 0], X[:, 1], marker='o', c=Y,\n",
    "            s=25, edgecolor='k')"
   ]
  },
  {
   "cell_type": "code",
   "execution_count": 20,
   "id": "recent-appraisal",
   "metadata": {},
   "outputs": [
    {
     "name": "stdout",
     "output_type": "stream",
     "text": [
      "(50, 2) (50, 2)\n"
     ]
    }
   ],
   "source": [
    "first_class = []\n",
    "zero_class = []\n",
    "for index in range(len(Y)):\n",
    "    if Y[index]==1:\n",
    "        first_class.append(X[index])\n",
    "    if Y[index]==0:\n",
    "        zero_class.append(X[index])\n",
    "        \n",
    "        \n",
    "first_class = np.array(first_class)\n",
    "\n",
    "zero_class = np.array(zero_class)\n",
    "print(zero_class.shape, first_class.shape)"
   ]
  },
  {
   "cell_type": "code",
   "execution_count": 21,
   "id": "regional-michigan",
   "metadata": {},
   "outputs": [
    {
     "data": {
      "text/plain": [
       "0.5"
      ]
     },
     "execution_count": 21,
     "metadata": {},
     "output_type": "execute_result"
    }
   ],
   "source": [
    "phi  = first_class.shape[0]/X.shape[0]\n",
    "phi"
   ]
  },
  {
   "cell_type": "code",
   "execution_count": 22,
   "id": "handed-haven",
   "metadata": {},
   "outputs": [
    {
     "name": "stdout",
     "output_type": "stream",
     "text": [
      "[-9.62756673e-03  9.37157582e-05] [0.00990118 0.00090329]\n"
     ]
    }
   ],
   "source": [
    "mu0 = zero_class.mean(axis=0)/len(Y)\n",
    "mu1 = first_class.mean(axis=0)/len(Y)\n",
    "print(mu0, mu1)"
   ]
  },
  {
   "cell_type": "code",
   "execution_count": 23,
   "id": "explicit-salad",
   "metadata": {},
   "outputs": [],
   "source": [
    "# np.sum((zero_class - mu0).dot((zero_class - mu0).T), axis = 1)"
   ]
  },
  {
   "cell_type": "code",
   "execution_count": 24,
   "id": "dated-mortgage",
   "metadata": {},
   "outputs": [
    {
     "data": {
      "text/plain": [
       "array([[46.58818446, -0.9925452 ],\n",
       "       [-0.9925452 , 48.60181726]])"
      ]
     },
     "execution_count": 24,
     "metadata": {},
     "output_type": "execute_result"
    }
   ],
   "source": [
    "a = ((zero_class - mu0).T).dot((zero_class - mu0))\n",
    "a"
   ]
  },
  {
   "cell_type": "code",
   "execution_count": 25,
   "id": "proper-battle",
   "metadata": {},
   "outputs": [],
   "source": [
    "b = ((first_class - mu1).T).dot((first_class - mu1))"
   ]
  },
  {
   "cell_type": "code",
   "execution_count": 26,
   "id": "quantitative-operation",
   "metadata": {},
   "outputs": [],
   "source": [
    "cov = (a+b)/len(Y)"
   ]
  },
  {
   "cell_type": "code",
   "execution_count": 27,
   "id": "stuck-demand",
   "metadata": {},
   "outputs": [],
   "source": [
    "def normal_dist_gda(x , mean, cov):\n",
    "\n",
    "    dim = np.shape(cov)[0]\n",
    "    covdet = np.linalg.det(cov + np.eye(dim) * 0.001)\n",
    "    \n",
    "    part1 = 1/(((2*np.pi)**(dim/2))*(np.abs(covdet)**0.5))\n",
    "\n",
    "    \n",
    "    part2 = np.exp(-0.5 *((x-mean)).dot(np.linalg.inv(cov)).dot((x-mean).T))\n",
    "    \n",
    "    prob_density = part1*part2   \n",
    "    \n",
    "    return prob_density  \n"
   ]
  },
  {
   "cell_type": "code",
   "execution_count": 28,
   "id": "creative-surge",
   "metadata": {},
   "outputs": [
    {
     "data": {
      "text/plain": [
       "(50, 50)"
      ]
     },
     "execution_count": 28,
     "metadata": {},
     "output_type": "execute_result"
    }
   ],
   "source": [
    "x0_gda = normal_dist_gda(zero_class, mu0, cov)\n",
    "x0_gda.shape"
   ]
  },
  {
   "cell_type": "code",
   "execution_count": 29,
   "id": "fiscal-gallery",
   "metadata": {},
   "outputs": [],
   "source": [
    "# x0_gda"
   ]
  },
  {
   "cell_type": "code",
   "execution_count": 30,
   "id": "theoretical-metabolism",
   "metadata": {},
   "outputs": [],
   "source": [
    "x1_gda = normal_dist_gda(first_class, mu1, cov)"
   ]
  },
  {
   "cell_type": "code",
   "execution_count": 31,
   "id": "unusual-there",
   "metadata": {},
   "outputs": [
    {
     "data": {
      "text/plain": [
       "array([[-1.83886530e-02, -7.80042817e-02],\n",
       "       [-1.88162963e+00, -9.16405153e-04]])"
      ]
     },
     "execution_count": 31,
     "metadata": {},
     "output_type": "execute_result"
    }
   ],
   "source": [
    "theta0 = (mu0-mu1)/cov\n",
    "theta0"
   ]
  },
  {
   "cell_type": "code",
   "execution_count": 32,
   "id": "average-clinic",
   "metadata": {},
   "outputs": [
    {
     "data": {
      "text/plain": [
       "array([[1.01274063e-04, 4.27974310e-09],\n",
       "       [9.89723785e-07, 3.64291149e-07]])"
      ]
     },
     "execution_count": 32,
     "metadata": {},
     "output_type": "execute_result"
    }
   ],
   "source": [
    "theta1 = ((1-phi)/phi)* ((mu0**2+mu1**2)/2*cov)\n",
    "theta1"
   ]
  },
  {
   "cell_type": "code",
   "execution_count": 33,
   "id": "separated-headset",
   "metadata": {},
   "outputs": [],
   "source": [
    "theta = np.concatenate((theta0, theta1), axis=0)"
   ]
  },
  {
   "cell_type": "code",
   "execution_count": 34,
   "id": "superb-canyon",
   "metadata": {},
   "outputs": [],
   "source": [
    "def predict(X, theta):\n",
    "    return np.dot(X, theta)"
   ]
  },
  {
   "cell_type": "code",
   "execution_count": 35,
   "id": "tamil-chamber",
   "metadata": {},
   "outputs": [],
   "source": [
    "X_I = np.c_[np.ones_like(X), X]\n",
    "# X_I"
   ]
  },
  {
   "cell_type": "code",
   "execution_count": 36,
   "id": "future-manhattan",
   "metadata": {},
   "outputs": [],
   "source": [
    "pred = predict(X_I, theta)"
   ]
  },
  {
   "cell_type": "code",
   "execution_count": 37,
   "id": "demonstrated-graphics",
   "metadata": {},
   "outputs": [
    {
     "data": {
      "text/plain": [
       "<matplotlib.collections.PathCollection at 0x1936b5e3688>"
      ]
     },
     "execution_count": 37,
     "metadata": {},
     "output_type": "execute_result"
    },
    {
     "data": {
      "image/png": "[encoded data removed]",
      "text/plain": [
       "<Figure size 432x288 with 1 Axes>"
      ]
     },
     "metadata": {
      "needs_background": "light"
     },
     "output_type": "display_data"
    }
   ],
   "source": [
    "plt.scatter(pred[:, 0], pred[:, 1], marker='o', c=Y,\n",
    "            s=25, edgecolor='k')\n"
   ]
  },
  {
   "cell_type": "code",
   "execution_count": 38,
   "id": "bizarre-western",
   "metadata": {
    "scrolled": true
   },
   "outputs": [
    {
     "data": {
      "text/plain": [
       "<matplotlib.collections.PathCollection at 0x1936c6228c8>"
      ]
     },
     "execution_count": 38,
     "metadata": {},
     "output_type": "execute_result"
    },
    {
     "data": {
      "image/png": "[encoded data removed]",
      "text/plain": [
       "<Figure size 432x288 with 1 Axes>"
      ]
     },
     "metadata": {
      "needs_background": "light"
     },
     "output_type": "display_data"
    }
   ],
   "source": [
    "plt.scatter(X[:, 0], X[:, 1], marker='o', c=Y,\n",
    "            s=25, edgecolor='b')"
   ]
  },
  {
   "cell_type": "code",
   "execution_count": 39,
   "id": "lucky-buyer",
   "metadata": {},
   "outputs": [],
   "source": [
    "# pred"
   ]
  },
  {
   "cell_type": "code",
   "execution_count": 40,
   "id": "secondary-communications",
   "metadata": {},
   "outputs": [],
   "source": [
    "phi0 = phi\n",
    "phi1 = 1 - phi"
   ]
  },
  {
   "cell_type": "code",
   "execution_count": 41,
   "id": "sixth-particular",
   "metadata": {},
   "outputs": [],
   "source": [
    "input_x = np.array([[1,0], [4,1], [-7,9]])\n",
    "def predict_class_for_list(input_x):\n",
    "    result = []\n",
    "    for i in input_x:\n",
    "        if normal_dist_gda(i, mu0, cov)*phi0>normal_dist_gda(i, mu1, cov)*phi1:\n",
    "            result.append(0)\n",
    "        else:\n",
    "            result.append(1)\n",
    "    return result"
   ]
  },
  {
   "cell_type": "code",
   "execution_count": 44,
   "id": "helpful-comedy",
   "metadata": {},
   "outputs": [
    {
     "data": {
      "text/plain": [
       "[0, 0, 0, 1, 1, 0, 0, 1]"
      ]
     },
     "execution_count": 44,
     "metadata": {},
     "output_type": "execute_result"
    }
   ],
   "source": [
    "predict_class_for_list(X_test)"
   ]
  },
  {
   "cell_type": "code",
   "execution_count": 45,
   "id": "sexual-comfort",
   "metadata": {},
   "outputs": [
    {
     "name": "stdout",
     "output_type": "stream",
     "text": [
      "[0 0 0 1 1 0 0 1]\n"
     ]
    }
   ],
   "source": [
    "from sklearn.discriminant_analysis import LinearDiscriminantAnalysis\n",
    "\n",
    "clf = LinearDiscriminantAnalysis()\n",
    "clf.fit(X, Y)\n",
    "LinearDiscriminantAnalysis()\n",
    "# print(clf.predict(X))\n",
    "print(clf.predict(X_test))"
   ]
  },
  {
   "cell_type": "code",
   "execution_count": null,
   "id": "spoken-dream",
   "metadata": {},
   "outputs": [],
   "source": []
  },
  {
   "cell_type": "code",
   "execution_count": null,
   "id": "reported-demonstration",
   "metadata": {},
   "outputs": [],
   "source": []
  },
  {
   "cell_type": "code",
   "execution_count": null,
   "id": "talented-sweet",
   "metadata": {},
   "outputs": [],
   "source": []
  },
  {
   "cell_type": "code",
   "execution_count": 47,
   "id": "enabling-tsunami",
   "metadata": {},
   "outputs": [],
   "source": [
    "def train(X, Y):\n",
    "    first_class = []\n",
    "    zero_class = []\n",
    "    for index in range(len(Y)):\n",
    "        if Y[index]==1:\n",
    "            first_class.append(X[index])\n",
    "        if Y[index]==0:\n",
    "            zero_class.append(X[index])\n",
    "\n",
    "\n",
    "    first_class = np.array(first_class)\n",
    "    zero_class = np.array(zero_class)\n",
    "    phi0  = zero_class.shape[0]/X.shape[0]\n",
    "    phi1  = 1 - phi0\n",
    "    \n",
    "    mu0 = zero_class.mean(axis=0)/len(Y)\n",
    "    mu1 = first_class.mean(axis=0)/len(Y)\n",
    "    \n",
    "    cov = (((zero_class - mu0).T).dot((zero_class - mu0))+((first_class - mu1).T).dot((first_class - mu1)))/len(Y)\n",
    "    \n",
    "    p0 = normal_dist_gda(zero_class, mu0, cov)\n",
    "    p1 = normal_dist_gda(first_class, mu1, cov)\n",
    "    \n",
    "#     theta0 = (mu0-mu1)/cov\n",
    "#     theta1 = ((1-phi)/phi)* ((mu0**2+mu1**2)/2*cov)\n",
    "#     theta = np.concatenate((theta0, theta1), axis=0)\n",
    "    \n",
    "#     X_I = np.c_[np.ones_like(X), X]\n",
    "#     pred = predict(X_I, theta)\n",
    "    \n",
    "    \n",
    "    return mu0, mu1,cov, phi1, phi0"
   ]
  },
  {
   "cell_type": "code",
   "execution_count": 49,
   "id": "contemporary-buffer",
   "metadata": {},
   "outputs": [
    {
     "data": {
      "text/plain": [
       "0.5108695652173914"
      ]
     },
     "execution_count": 49,
     "metadata": {},
     "output_type": "execute_result"
    }
   ],
   "source": [
    "mu0, mu1,cov, phi0, phi1 = train(X_train, y_train)\n",
    "phi0"
   ]
  },
  {
   "cell_type": "code",
   "execution_count": 50,
   "id": "suffering-status",
   "metadata": {},
   "outputs": [],
   "source": [
    "def predict_class(input_x, mu0, mu1,cov, phi0, phi1):\n",
    "\n",
    "    result = []\n",
    "    for i in input_x:\n",
    "        if normal_dist_gda(i, mu0, cov)*phi0>normal_dist_gda(i, mu1, cov)*phi1:\n",
    "            result.append(0)\n",
    "        else:\n",
    "            result.append(1)\n",
    "    return result"
   ]
  },
  {
   "cell_type": "code",
   "execution_count": 51,
   "id": "bearing-siemens",
   "metadata": {},
   "outputs": [
    {
     "data": {
      "text/plain": [
       "[0, 0, 0, 0, 0, 0, 0, 0]"
      ]
     },
     "execution_count": 51,
     "metadata": {},
     "output_type": "execute_result"
    }
   ],
   "source": [
    "predict_class(X_test, mu0, mu1,cov, phi0, phi1)"
   ]
  },
  {
   "cell_type": "code",
   "execution_count": null,
   "id": "prerequisite-catholic",
   "metadata": {},
   "outputs": [],
   "source": []
  },
  {
   "cell_type": "code",
   "execution_count": null,
   "id": "derived-apparatus",
   "metadata": {},
   "outputs": [],
   "source": []
  },
  {
   "cell_type": "code",
   "execution_count": 153,
   "id": "friendly-soundtrack",
   "metadata": {},
   "outputs": [
    {
     "name": "stdout",
     "output_type": "stream",
     "text": [
      "[0 0 0 1 1 0 0 1]\n",
      "1.0\n"
     ]
    }
   ],
   "source": [
    "clf.fit(X_train, y_train)\n",
    "print(clf.predict(X_test))\n",
    "print(clf.score(X_test, y_test))"
   ]
  },
  {
   "cell_type": "code",
   "execution_count": 154,
   "id": "stuffed-space",
   "metadata": {},
   "outputs": [
    {
     "data": {
      "text/plain": [
       "[0, 0, 0, 0, 0, 0, 0, 0]"
      ]
     },
     "execution_count": 154,
     "metadata": {},
     "output_type": "execute_result"
    }
   ],
   "source": [
    "mu0, mu1,cov, phi0, phi1 = train(X_train, y_train)\n",
    "predict_class(X_test, mu0, mu1,cov, phi0, phi1)"
   ]
  },
  {
   "cell_type": "code",
   "execution_count": null,
   "id": "particular-difficulty",
   "metadata": {},
   "outputs": [],
   "source": []
  },
  {
   "cell_type": "code",
   "execution_count": null,
   "id": "current-heart",
   "metadata": {},
   "outputs": [],
   "source": []
  }
 ],
 "metadata": {
  "kernelspec": {
   "display_name": "Python 3",
   "language": "python",
   "name": "python3"
  },
  "language_info": {
   "codemirror_mode": {
    "name": "ipython",
    "version": 3
   },
   "file_extension": ".py",
   "mimetype": "text/x-python",
   "name": "python",
   "nbconvert_exporter": "python",
   "pygments_lexer": "ipython3",
   "version": "3.7.10"
  }
 },
 "nbformat": 4,
 "nbformat_minor": 5
}
