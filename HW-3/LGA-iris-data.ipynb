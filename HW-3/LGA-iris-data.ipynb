{
 "cells": [
  {
   "cell_type": "code",
   "execution_count": 131,
   "id": "synthetic-exercise",
   "metadata": {},
   "outputs": [
    {
     "data": {
      "text/html": [
       "<div>\n",
       "<style scoped>\n",
       "    .dataframe tbody tr th:only-of-type {\n",
       "        vertical-align: middle;\n",
       "    }\n",
       "\n",
       "    .dataframe tbody tr th {\n",
       "        vertical-align: top;\n",
       "    }\n",
       "\n",
       "    .dataframe thead th {\n",
       "        text-align: right;\n",
       "    }\n",
       "</style>\n",
       "<table border=\"1\" class=\"dataframe\">\n",
       "  <thead>\n",
       "    <tr style=\"text-align: right;\">\n",
       "      <th></th>\n",
       "      <th>5.1</th>\n",
       "      <th>3.5</th>\n",
       "      <th>0</th>\n",
       "    </tr>\n",
       "  </thead>\n",
       "  <tbody>\n",
       "    <tr>\n",
       "      <th>0</th>\n",
       "      <td>4.9</td>\n",
       "      <td>3.0</td>\n",
       "      <td>0</td>\n",
       "    </tr>\n",
       "    <tr>\n",
       "      <th>1</th>\n",
       "      <td>4.7</td>\n",
       "      <td>3.2</td>\n",
       "      <td>0</td>\n",
       "    </tr>\n",
       "    <tr>\n",
       "      <th>2</th>\n",
       "      <td>4.6</td>\n",
       "      <td>3.1</td>\n",
       "      <td>0</td>\n",
       "    </tr>\n",
       "    <tr>\n",
       "      <th>3</th>\n",
       "      <td>5.0</td>\n",
       "      <td>3.6</td>\n",
       "      <td>0</td>\n",
       "    </tr>\n",
       "    <tr>\n",
       "      <th>4</th>\n",
       "      <td>5.4</td>\n",
       "      <td>3.9</td>\n",
       "      <td>0</td>\n",
       "    </tr>\n",
       "    <tr>\n",
       "      <th>...</th>\n",
       "      <td>...</td>\n",
       "      <td>...</td>\n",
       "      <td>...</td>\n",
       "    </tr>\n",
       "    <tr>\n",
       "      <th>94</th>\n",
       "      <td>5.7</td>\n",
       "      <td>3.0</td>\n",
       "      <td>1</td>\n",
       "    </tr>\n",
       "    <tr>\n",
       "      <th>95</th>\n",
       "      <td>5.7</td>\n",
       "      <td>2.9</td>\n",
       "      <td>1</td>\n",
       "    </tr>\n",
       "    <tr>\n",
       "      <th>96</th>\n",
       "      <td>6.2</td>\n",
       "      <td>2.9</td>\n",
       "      <td>1</td>\n",
       "    </tr>\n",
       "    <tr>\n",
       "      <th>97</th>\n",
       "      <td>5.1</td>\n",
       "      <td>2.5</td>\n",
       "      <td>1</td>\n",
       "    </tr>\n",
       "    <tr>\n",
       "      <th>98</th>\n",
       "      <td>5.7</td>\n",
       "      <td>2.8</td>\n",
       "      <td>1</td>\n",
       "    </tr>\n",
       "  </tbody>\n",
       "</table>\n",
       "<p>99 rows × 3 columns</p>\n",
       "</div>"
      ],
      "text/plain": [
       "    5.1  3.5  0\n",
       "0   4.9  3.0  0\n",
       "1   4.7  3.2  0\n",
       "2   4.6  3.1  0\n",
       "3   5.0  3.6  0\n",
       "4   5.4  3.9  0\n",
       "..  ...  ... ..\n",
       "94  5.7  3.0  1\n",
       "95  5.7  2.9  1\n",
       "96  6.2  2.9  1\n",
       "97  5.1  2.5  1\n",
       "98  5.7  2.8  1\n",
       "\n",
       "[99 rows x 3 columns]"
      ]
     },
     "execution_count": 131,
     "metadata": {},
     "output_type": "execute_result"
    }
   ],
   "source": [
    "import pandas as pd\n",
    "df = pd.read_csv('iris.csv')\n",
    "df"
   ]
  },
  {
   "cell_type": "code",
   "execution_count": 132,
   "id": "naked-express",
   "metadata": {},
   "outputs": [
    {
     "data": {
      "text/plain": [
       "0.5050505050505051"
      ]
     },
     "execution_count": 132,
     "metadata": {},
     "output_type": "execute_result"
    }
   ],
   "source": [
    "fist_class = [1 for i in df['0'] if i ==1]\n",
    "number_fist_class = len(fist_class)\n",
    "phi= number_fist_class/len(df['0'])\n",
    "phi"
   ]
  },
  {
   "cell_type": "code",
   "execution_count": 133,
   "id": "swedish-respect",
   "metadata": {},
   "outputs": [],
   "source": [
    "import numpy as np\n",
    "\n",
    "\n",
    "Y = np.array(df['0'])\n",
    "X = df[['5.1', '3.5']].to_numpy()\n"
   ]
  },
  {
   "cell_type": "code",
   "execution_count": 134,
   "id": "acting-stable",
   "metadata": {
    "scrolled": true
   },
   "outputs": [
    {
     "data": {
      "text/plain": [
       "<matplotlib.collections.PathCollection at 0x204f3091788>"
      ]
     },
     "execution_count": 134,
     "metadata": {},
     "output_type": "execute_result"
    },
    {
     "data": {
      "image/png": "[encoded data removed]",
      "text/plain": [
       "<Figure size 432x288 with 1 Axes>"
      ]
     },
     "metadata": {
      "needs_background": "light"
     },
     "output_type": "display_data"
    }
   ],
   "source": [
    "\n",
    "import matplotlib.pyplot as plt\n",
    "plt.scatter(X[:, 0], X[:, 1], marker='o', c=Y,\n",
    "            s=25, edgecolor='k')"
   ]
  },
  {
   "cell_type": "code",
   "execution_count": 135,
   "id": "adequate-import",
   "metadata": {
    "scrolled": true
   },
   "outputs": [
    {
     "data": {
      "text/html": [
       "<div>\n",
       "<style scoped>\n",
       "    .dataframe tbody tr th:only-of-type {\n",
       "        vertical-align: middle;\n",
       "    }\n",
       "\n",
       "    .dataframe tbody tr th {\n",
       "        vertical-align: top;\n",
       "    }\n",
       "\n",
       "    .dataframe thead th {\n",
       "        text-align: right;\n",
       "    }\n",
       "</style>\n",
       "<table border=\"1\" class=\"dataframe\">\n",
       "  <thead>\n",
       "    <tr style=\"text-align: right;\">\n",
       "      <th></th>\n",
       "      <th>5.1</th>\n",
       "      <th>3.5</th>\n",
       "      <th>0</th>\n",
       "    </tr>\n",
       "  </thead>\n",
       "  <tbody>\n",
       "    <tr>\n",
       "      <th>0</th>\n",
       "      <td>4.9</td>\n",
       "      <td>3.0</td>\n",
       "      <td>0</td>\n",
       "    </tr>\n",
       "    <tr>\n",
       "      <th>1</th>\n",
       "      <td>4.7</td>\n",
       "      <td>3.2</td>\n",
       "      <td>0</td>\n",
       "    </tr>\n",
       "    <tr>\n",
       "      <th>2</th>\n",
       "      <td>4.6</td>\n",
       "      <td>3.1</td>\n",
       "      <td>0</td>\n",
       "    </tr>\n",
       "    <tr>\n",
       "      <th>3</th>\n",
       "      <td>5.0</td>\n",
       "      <td>3.6</td>\n",
       "      <td>0</td>\n",
       "    </tr>\n",
       "    <tr>\n",
       "      <th>4</th>\n",
       "      <td>5.4</td>\n",
       "      <td>3.9</td>\n",
       "      <td>0</td>\n",
       "    </tr>\n",
       "    <tr>\n",
       "      <th>...</th>\n",
       "      <td>...</td>\n",
       "      <td>...</td>\n",
       "      <td>...</td>\n",
       "    </tr>\n",
       "    <tr>\n",
       "      <th>94</th>\n",
       "      <td>5.7</td>\n",
       "      <td>3.0</td>\n",
       "      <td>1</td>\n",
       "    </tr>\n",
       "    <tr>\n",
       "      <th>95</th>\n",
       "      <td>5.7</td>\n",
       "      <td>2.9</td>\n",
       "      <td>1</td>\n",
       "    </tr>\n",
       "    <tr>\n",
       "      <th>96</th>\n",
       "      <td>6.2</td>\n",
       "      <td>2.9</td>\n",
       "      <td>1</td>\n",
       "    </tr>\n",
       "    <tr>\n",
       "      <th>97</th>\n",
       "      <td>5.1</td>\n",
       "      <td>2.5</td>\n",
       "      <td>1</td>\n",
       "    </tr>\n",
       "    <tr>\n",
       "      <th>98</th>\n",
       "      <td>5.7</td>\n",
       "      <td>2.8</td>\n",
       "      <td>1</td>\n",
       "    </tr>\n",
       "  </tbody>\n",
       "</table>\n",
       "<p>99 rows × 3 columns</p>\n",
       "</div>"
      ],
      "text/plain": [
       "    5.1  3.5  0\n",
       "0   4.9  3.0  0\n",
       "1   4.7  3.2  0\n",
       "2   4.6  3.1  0\n",
       "3   5.0  3.6  0\n",
       "4   5.4  3.9  0\n",
       "..  ...  ... ..\n",
       "94  5.7  3.0  1\n",
       "95  5.7  2.9  1\n",
       "96  6.2  2.9  1\n",
       "97  5.1  2.5  1\n",
       "98  5.7  2.8  1\n",
       "\n",
       "[99 rows x 3 columns]"
      ]
     },
     "execution_count": 135,
     "metadata": {},
     "output_type": "execute_result"
    }
   ],
   "source": [
    "df"
   ]
  },
  {
   "cell_type": "code",
   "execution_count": 124,
   "id": "freelance-scanning",
   "metadata": {},
   "outputs": [
    {
     "data": {
      "text/html": [
       "<div>\n",
       "<style scoped>\n",
       "    .dataframe tbody tr th:only-of-type {\n",
       "        vertical-align: middle;\n",
       "    }\n",
       "\n",
       "    .dataframe tbody tr th {\n",
       "        vertical-align: top;\n",
       "    }\n",
       "\n",
       "    .dataframe thead th {\n",
       "        text-align: right;\n",
       "    }\n",
       "</style>\n",
       "<table border=\"1\" class=\"dataframe\">\n",
       "  <thead>\n",
       "    <tr style=\"text-align: right;\">\n",
       "      <th></th>\n",
       "      <th>5.1</th>\n",
       "      <th>3.5</th>\n",
       "    </tr>\n",
       "  </thead>\n",
       "  <tbody>\n",
       "    <tr>\n",
       "      <th>0</th>\n",
       "      <td>4.9</td>\n",
       "      <td>3.0</td>\n",
       "    </tr>\n",
       "    <tr>\n",
       "      <th>1</th>\n",
       "      <td>4.7</td>\n",
       "      <td>3.2</td>\n",
       "    </tr>\n",
       "    <tr>\n",
       "      <th>2</th>\n",
       "      <td>4.6</td>\n",
       "      <td>3.1</td>\n",
       "    </tr>\n",
       "    <tr>\n",
       "      <th>3</th>\n",
       "      <td>5.0</td>\n",
       "      <td>3.6</td>\n",
       "    </tr>\n",
       "    <tr>\n",
       "      <th>4</th>\n",
       "      <td>5.4</td>\n",
       "      <td>3.9</td>\n",
       "    </tr>\n",
       "    <tr>\n",
       "      <th>...</th>\n",
       "      <td>...</td>\n",
       "      <td>...</td>\n",
       "    </tr>\n",
       "    <tr>\n",
       "      <th>94</th>\n",
       "      <td>5.7</td>\n",
       "      <td>3.0</td>\n",
       "    </tr>\n",
       "    <tr>\n",
       "      <th>95</th>\n",
       "      <td>5.7</td>\n",
       "      <td>2.9</td>\n",
       "    </tr>\n",
       "    <tr>\n",
       "      <th>96</th>\n",
       "      <td>6.2</td>\n",
       "      <td>2.9</td>\n",
       "    </tr>\n",
       "    <tr>\n",
       "      <th>97</th>\n",
       "      <td>5.1</td>\n",
       "      <td>2.5</td>\n",
       "    </tr>\n",
       "    <tr>\n",
       "      <th>98</th>\n",
       "      <td>5.7</td>\n",
       "      <td>2.8</td>\n",
       "    </tr>\n",
       "  </tbody>\n",
       "</table>\n",
       "<p>99 rows × 2 columns</p>\n",
       "</div>"
      ],
      "text/plain": [
       "    5.1  3.5\n",
       "0   4.9  3.0\n",
       "1   4.7  3.2\n",
       "2   4.6  3.1\n",
       "3   5.0  3.6\n",
       "4   5.4  3.9\n",
       "..  ...  ...\n",
       "94  5.7  3.0\n",
       "95  5.7  2.9\n",
       "96  6.2  2.9\n",
       "97  5.1  2.5\n",
       "98  5.7  2.8\n",
       "\n",
       "[99 rows x 2 columns]"
      ]
     },
     "execution_count": 124,
     "metadata": {},
     "output_type": "execute_result"
    }
   ],
   "source": [
    "first_class = [df[['5.1', '3.5']] for i in df['0'] if i ==1]\n",
    "zero_class = [df[['5.1', '3.5']] for i in df['0'] if i ==0]\n",
    "\n",
    "\n",
    "for index in len(df):\n",
    "    if df['0']==1:\n",
    "        first_classX[index]"
   ]
  },
  {
   "cell_type": "code",
   "execution_count": 137,
   "id": "recent-appraisal",
   "metadata": {},
   "outputs": [
    {
     "name": "stdout",
     "output_type": "stream",
     "text": [
      "(49, 2) (50, 2)\n"
     ]
    }
   ],
   "source": [
    "first_class = []\n",
    "zero_class = []\n",
    "for index in range(len(Y)):\n",
    "    if Y[index]==1:\n",
    "        first_class.append(X[index])\n",
    "    if Y[index]==0:\n",
    "        zero_class.append(X[index])\n",
    "        \n",
    "        \n",
    "first_class = np.array(first_class)\n",
    "\n",
    "zero_class = np.array(zero_class)\n",
    "print(zero_class.shape, first_class.shape)"
   ]
  },
  {
   "cell_type": "code",
   "execution_count": 138,
   "id": "regional-michigan",
   "metadata": {},
   "outputs": [
    {
     "data": {
      "text/plain": [
       "0.5050505050505051"
      ]
     },
     "execution_count": 138,
     "metadata": {},
     "output_type": "execute_result"
    }
   ],
   "source": [
    "phi  = first_class.shape[0]/X.shape[0]\n",
    "phi"
   ]
  },
  {
   "cell_type": "code",
   "execution_count": 170,
   "id": "handed-haven",
   "metadata": {},
   "outputs": [
    {
     "name": "stdout",
     "output_type": "stream",
     "text": [
      "[0.05054628 0.03450835] [0.0599596 0.0279798]\n"
     ]
    }
   ],
   "source": [
    "mu0 = zero_class.mean(axis=0)/99\n",
    "mu1 = first_class.mean(axis=0)/99\n",
    "print(mu0, mu1)"
   ]
  },
  {
   "cell_type": "code",
   "execution_count": 165,
   "id": "explicit-salad",
   "metadata": {},
   "outputs": [],
   "source": [
    "# np.sum((zero_class - mu0).dot((zero_class - mu0).T), axis = 1)"
   ]
  },
  {
   "cell_type": "code",
   "execution_count": 171,
   "id": "dated-mortgage",
   "metadata": {},
   "outputs": [
    {
     "data": {
      "text/plain": [
       "array([[1208.41729611,  825.75257491],\n",
       "       [ 825.75257491,  567.5049553 ]])"
      ]
     },
     "execution_count": 171,
     "metadata": {},
     "output_type": "execute_result"
    }
   ],
   "source": [
    "a = ((zero_class - mu0).T).dot((zero_class - mu0))\n",
    "a"
   ]
  },
  {
   "cell_type": "code",
   "execution_count": 172,
   "id": "proper-battle",
   "metadata": {},
   "outputs": [],
   "source": [
    "b = ((first_class - mu1).T).dot((first_class - mu1))"
   ]
  },
  {
   "cell_type": "code",
   "execution_count": 173,
   "id": "quantitative-operation",
   "metadata": {},
   "outputs": [
    {
     "data": {
      "text/plain": [
       "array([[29.77641452, 16.52058232],\n",
       "       [16.52058232,  9.57842116]])"
      ]
     },
     "execution_count": 173,
     "metadata": {},
     "output_type": "execute_result"
    }
   ],
   "source": [
    "cov = (a+b)/99"
   ]
  },
  {
   "cell_type": "code",
   "execution_count": 203,
   "id": "stuck-demand",
   "metadata": {},
   "outputs": [],
   "source": [
    "def normal_dist_gda(x , mean, cov):\n",
    "\n",
    "    dim = np.shape(cov)[0]\n",
    "    covdet = np.linalg.det(cov + np.eye(dim) * 0.001)\n",
    "    \n",
    "    part1 = 1/(((2*np.pi)**(dim/2))*(np.abs(covdet)**0.5))\n",
    "\n",
    "    \n",
    "    part2 = np.exp(-0.5 *((x-mean)).dot(np.linalg.inv(cov)).dot((x-mean).T))\n",
    "    \n",
    "    prob_density = part1*part2   \n",
    "    \n",
    "    return prob_density[1]   \n"
   ]
  },
  {
   "cell_type": "code",
   "execution_count": 204,
   "id": "creative-surge",
   "metadata": {},
   "outputs": [
    {
     "data": {
      "text/plain": [
       "(49,)"
      ]
     },
     "execution_count": 204,
     "metadata": {},
     "output_type": "execute_result"
    }
   ],
   "source": [
    "x0_gda = normal_dist_gda(zero_class, mu0, cov)\n",
    "x0_gda.shape"
   ]
  },
  {
   "cell_type": "code",
   "execution_count": 205,
   "id": "fiscal-gallery",
   "metadata": {},
   "outputs": [],
   "source": [
    "# x0_gda"
   ]
  },
  {
   "cell_type": "code",
   "execution_count": 206,
   "id": "theoretical-metabolism",
   "metadata": {},
   "outputs": [],
   "source": [
    "x1_gda = normal_dist_gda(first_class, mu1, cov)"
   ]
  },
  {
   "cell_type": "code",
   "execution_count": 207,
   "id": "unusual-there",
   "metadata": {},
   "outputs": [
    {
     "data": {
      "text/plain": [
       "array([[-0.00941332, -0.0337107 ],\n",
       "       [ 0.04860643,  0.00652855]])"
      ]
     },
     "execution_count": 207,
     "metadata": {},
     "output_type": "execute_result"
    }
   ],
   "source": [
    "theta0 = (mu0-mu1)/cov\n",
    "theta0"
   ]
  },
  {
   "cell_type": "code",
   "execution_count": 208,
   "id": "average-clinic",
   "metadata": {},
   "outputs": [
    {
     "data": {
      "text/plain": [
       "array([[ 0.00301354, -0.00018729],\n",
       "       [-0.00058361,  0.00096711]])"
      ]
     },
     "execution_count": 208,
     "metadata": {},
     "output_type": "execute_result"
    }
   ],
   "source": [
    "theta1 = ((1-phi)/phi)* ((mu0**2+mu1**2)/2*cov)\n",
    "theta1"
   ]
  },
  {
   "cell_type": "code",
   "execution_count": 224,
   "id": "separated-headset",
   "metadata": {},
   "outputs": [],
   "source": [
    "theta = np.concatenate((theta0, theta1), axis=0)"
   ]
  },
  {
   "cell_type": "code",
   "execution_count": 225,
   "id": "superb-canyon",
   "metadata": {},
   "outputs": [],
   "source": [
    "def predict(X, theta):\n",
    "    return np.dot(X, theta)"
   ]
  },
  {
   "cell_type": "code",
   "execution_count": 226,
   "id": "tamil-chamber",
   "metadata": {},
   "outputs": [],
   "source": [
    "X_I = np.c_[np.ones_like(X), X]\n",
    "# X_I"
   ]
  },
  {
   "cell_type": "code",
   "execution_count": 228,
   "id": "future-manhattan",
   "metadata": {},
   "outputs": [],
   "source": [
    "pred = predict(X_I, theta)"
   ]
  },
  {
   "cell_type": "code",
   "execution_count": 234,
   "id": "demonstrated-graphics",
   "metadata": {},
   "outputs": [
    {
     "data": {
      "text/plain": [
       "<matplotlib.collections.PathCollection at 0x204f387cc08>"
      ]
     },
     "execution_count": 234,
     "metadata": {},
     "output_type": "execute_result"
    },
    {
     "data": {
      "image/png": "[encoded data removed]",
      "text/plain": [
       "<Figure size 432x288 with 1 Axes>"
      ]
     },
     "metadata": {
      "needs_background": "light"
     },
     "output_type": "display_data"
    }
   ],
   "source": [
    "plt.scatter(pred[:, 0], pred[:, 1], marker='o', c=Y,\n",
    "            s=25, edgecolor='k')\n"
   ]
  },
  {
   "cell_type": "code",
   "execution_count": 239,
   "id": "bizarre-western",
   "metadata": {
    "scrolled": true
   },
   "outputs": [
    {
     "data": {
      "text/plain": [
       "<matplotlib.collections.PathCollection at 0x204f2f9a288>"
      ]
     },
     "execution_count": 239,
     "metadata": {},
     "output_type": "execute_result"
    },
    {
     "data": {
      "image/png": "[encoded data removed]",
      "text/plain": [
       "<Figure size 432x288 with 1 Axes>"
      ]
     },
     "metadata": {
      "needs_background": "light"
     },
     "output_type": "display_data"
    }
   ],
   "source": [
    "plt.scatter(X[:, 0], X[:, 1], marker='o', c=Y,\n",
    "            s=25, edgecolor='b')"
   ]
  },
  {
   "cell_type": "code",
   "execution_count": 246,
   "id": "lucky-buyer",
   "metadata": {},
   "outputs": [
    {
     "data": {
      "text/plain": [
       "array([[ 0.05220861, -0.02519857],\n",
       "       [ 0.05148918, -0.02496768],\n",
       "       [ 0.05124619, -0.02504567],\n",
       "       [ 0.0521598 , -0.02463703],\n",
       "       [ 0.05319013, -0.02442181],\n",
       "       [ 0.0510711 , -0.02475553],\n",
       "       [ 0.05227652, -0.02483045],\n",
       "       [ 0.0507602 , -0.02520163],\n",
       "       [ 0.05215025, -0.02510185],\n",
       "       [ 0.05330685, -0.02461523],\n",
       "       [ 0.05167381, -0.02479299],\n",
       "       [ 0.05190726, -0.02517984],\n",
       "       [ 0.05040049, -0.02508619],\n",
       "       [ 0.05433718, -0.02440002],\n",
       "       [ 0.05380238, -0.02399445],\n",
       "       [ 0.05319013, -0.02442181],\n",
       "       [ 0.05251951, -0.02475247],\n",
       "       [ 0.05415255, -0.02457471],\n",
       "       [ 0.05234443, -0.02446234],\n",
       "       [ 0.05348193, -0.02490537],\n",
       "       [ 0.05240279, -0.02455905],\n",
       "       [ 0.05095438, -0.02456211],\n",
       "       [ 0.05263623, -0.02494589],\n",
       "       [ 0.05167381, -0.02479299],\n",
       "       [ 0.05250996, -0.02521729],\n",
       "       [ 0.05227652, -0.02483045],\n",
       "       [ 0.05282087, -0.0247712 ],\n",
       "       [ 0.05287923, -0.02486791],\n",
       "       [ 0.05148918, -0.02496768],\n",
       "       [ 0.0518489 , -0.02508312],\n",
       "       [ 0.05348193, -0.02490537],\n",
       "       [ 0.0524707 , -0.02419093],\n",
       "       [ 0.0533164 , -0.02415041],\n",
       "       [ 0.05215025, -0.02510185],\n",
       "       [ 0.05239324, -0.02502387],\n",
       "       [ 0.05372493, -0.02482739],\n",
       "       [ 0.05215025, -0.02510185],\n",
       "       [ 0.05070184, -0.02510492],\n",
       "       [ 0.05257787, -0.02484918],\n",
       "       [ 0.05221816, -0.02473374],\n",
       "       [ 0.05141173, -0.02580062],\n",
       "       [ 0.05058512, -0.0249115 ],\n",
       "       [ 0.05221816, -0.02473374],\n",
       "       [ 0.05234443, -0.02446234],\n",
       "       [ 0.05190726, -0.02517984],\n",
       "       [ 0.05234443, -0.02446234],\n",
       "       [ 0.05118783, -0.02494895],\n",
       "       [ 0.0530055 , -0.02459651],\n",
       "       [ 0.05233488, -0.02492716],\n",
       "       [ 0.05842032, -0.02539846],\n",
       "       [ 0.0566122 , -0.02528608],\n",
       "       [ 0.05817733, -0.02547644],\n",
       "       [ 0.05442526, -0.02598792],\n",
       "       [ 0.057147  , -0.02569166],\n",
       "       [ 0.05473617, -0.02554182],\n",
       "       [ 0.05625248, -0.02517064],\n",
       "       [ 0.05255878, -0.02577883],\n",
       "       [ 0.05738999, -0.02561368],\n",
       "       [ 0.05328776, -0.02554489],\n",
       "       [ 0.05309358, -0.02618441],\n",
       "       [ 0.05522215, -0.02538586],\n",
       "       [ 0.0559904 , -0.02617828],\n",
       "       [ 0.05588322, -0.02552003],\n",
       "       [ 0.05437645, -0.02542638],\n",
       "       [ 0.05757462, -0.02543898],\n",
       "       [ 0.05431809, -0.02532967],\n",
       "       [ 0.05509588, -0.02565726],\n",
       "       [ 0.0565931 , -0.02621574],\n",
       "       [ 0.0546099 , -0.02581323],\n",
       "       [ 0.05510543, -0.02519244],\n",
       "       [ 0.05594158, -0.02561674],\n",
       "       [ 0.05671937, -0.02594433],\n",
       "       [ 0.05594158, -0.02561674],\n",
       "       [ 0.05678728, -0.02557622],\n",
       "       [ 0.05733163, -0.02551697],\n",
       "       [ 0.05805106, -0.02574785],\n",
       "       [ 0.05763298, -0.0255357 ],\n",
       "       [ 0.05558187, -0.0255013 ],\n",
       "       [ 0.05485289, -0.02573525],\n",
       "       [ 0.0543669 , -0.02589121],\n",
       "       [ 0.0543669 , -0.02589121],\n",
       "       [ 0.05509588, -0.02565726],\n",
       "       [ 0.05569859, -0.02569472],\n",
       "       [ 0.05371538, -0.02529221],\n",
       "       [ 0.05529006, -0.02501774],\n",
       "       [ 0.05757462, -0.02543898],\n",
       "       [ 0.0568361 , -0.02613775],\n",
       "       [ 0.05431809, -0.02532967],\n",
       "       [ 0.05430854, -0.0257945 ],\n",
       "       [ 0.05425018, -0.02569779],\n",
       "       [ 0.05582486, -0.02542332],\n",
       "       [ 0.05515424, -0.02575397],\n",
       "       [ 0.05291849, -0.02589427],\n",
       "       [ 0.05449317, -0.0256198 ],\n",
       "       [ 0.05461944, -0.0253484 ],\n",
       "       [ 0.0546778 , -0.02544511],\n",
       "       [ 0.05618457, -0.02553876],\n",
       "       [ 0.05310313, -0.02571958],\n",
       "       [ 0.05473617, -0.02554182]])"
      ]
     },
     "execution_count": 246,
     "metadata": {},
     "output_type": "execute_result"
    }
   ],
   "source": [
    "pred"
   ]
  },
  {
   "cell_type": "code",
   "execution_count": null,
   "id": "secondary-communications",
   "metadata": {},
   "outputs": [],
   "source": []
  },
  {
   "cell_type": "code",
   "execution_count": 245,
   "id": "sexual-comfort",
   "metadata": {},
   "outputs": [
    {
     "name": "stdout",
     "output_type": "stream",
     "text": [
      "[0 0 0 0 0 0 0 0 0 0 0 0 0 0 0 0 0 0 0 0 0 0 0 0 0 0 0 0 0 0 0 0 0 0 0 0 0\n",
      " 0 0 0 1 0 0 0 0 0 0 0 0 1 1 1 1 1 1 1 1 1 1 1 1 1 1 1 1 1 1 1 1 1 1 1 1 1\n",
      " 1 1 1 1 1 1 1 1 1 1 1 1 1 1 1 1 1 1 1 1 1 1 1 1 1]\n"
     ]
    }
   ],
   "source": [
    "from sklearn.discriminant_analysis import LinearDiscriminantAnalysis\n",
    "\n",
    "clf = LinearDiscriminantAnalysis()\n",
    "clf.fit(X, Y)\n",
    "LinearDiscriminantAnalysis()\n",
    "print(clf.predict(X))\n"
   ]
  },
  {
   "cell_type": "code",
   "execution_count": null,
   "id": "enabling-tsunami",
   "metadata": {},
   "outputs": [],
   "source": []
  }
 ],
 "metadata": {
  "kernelspec": {
   "display_name": "Python 3",
   "language": "python",
   "name": "python3"
  },
  "language_info": {
   "codemirror_mode": {
    "name": "ipython",
    "version": 3
   },
   "file_extension": ".py",
   "mimetype": "text/x-python",
   "name": "python",
   "nbconvert_exporter": "python",
   "pygments_lexer": "ipython3",
   "version": "3.7.10"
  }
 },
 "nbformat": 4,
 "nbformat_minor": 5
}
