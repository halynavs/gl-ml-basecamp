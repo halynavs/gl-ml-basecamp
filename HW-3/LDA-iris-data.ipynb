{
 "cells": [
  {
   "cell_type": "code",
   "execution_count": 1,
   "id": "synthetic-exercise",
   "metadata": {},
   "outputs": [
    {
     "data": {
      "text/html": [
       "<div>\n",
       "<style scoped>\n",
       "    .dataframe tbody tr th:only-of-type {\n",
       "        vertical-align: middle;\n",
       "    }\n",
       "\n",
       "    .dataframe tbody tr th {\n",
       "        vertical-align: top;\n",
       "    }\n",
       "\n",
       "    .dataframe thead th {\n",
       "        text-align: right;\n",
       "    }\n",
       "</style>\n",
       "<table border=\"1\" class=\"dataframe\">\n",
       "  <thead>\n",
       "    <tr style=\"text-align: right;\">\n",
       "      <th></th>\n",
       "      <th>5.1</th>\n",
       "      <th>3.5</th>\n",
       "      <th>0</th>\n",
       "    </tr>\n",
       "  </thead>\n",
       "  <tbody>\n",
       "    <tr>\n",
       "      <th>0</th>\n",
       "      <td>4.9</td>\n",
       "      <td>3.0</td>\n",
       "      <td>0</td>\n",
       "    </tr>\n",
       "    <tr>\n",
       "      <th>1</th>\n",
       "      <td>4.7</td>\n",
       "      <td>3.2</td>\n",
       "      <td>0</td>\n",
       "    </tr>\n",
       "    <tr>\n",
       "      <th>2</th>\n",
       "      <td>4.6</td>\n",
       "      <td>3.1</td>\n",
       "      <td>0</td>\n",
       "    </tr>\n",
       "    <tr>\n",
       "      <th>3</th>\n",
       "      <td>5.0</td>\n",
       "      <td>3.6</td>\n",
       "      <td>0</td>\n",
       "    </tr>\n",
       "    <tr>\n",
       "      <th>4</th>\n",
       "      <td>5.4</td>\n",
       "      <td>3.9</td>\n",
       "      <td>0</td>\n",
       "    </tr>\n",
       "    <tr>\n",
       "      <th>...</th>\n",
       "      <td>...</td>\n",
       "      <td>...</td>\n",
       "      <td>...</td>\n",
       "    </tr>\n",
       "    <tr>\n",
       "      <th>94</th>\n",
       "      <td>5.7</td>\n",
       "      <td>3.0</td>\n",
       "      <td>1</td>\n",
       "    </tr>\n",
       "    <tr>\n",
       "      <th>95</th>\n",
       "      <td>5.7</td>\n",
       "      <td>2.9</td>\n",
       "      <td>1</td>\n",
       "    </tr>\n",
       "    <tr>\n",
       "      <th>96</th>\n",
       "      <td>6.2</td>\n",
       "      <td>2.9</td>\n",
       "      <td>1</td>\n",
       "    </tr>\n",
       "    <tr>\n",
       "      <th>97</th>\n",
       "      <td>5.1</td>\n",
       "      <td>2.5</td>\n",
       "      <td>1</td>\n",
       "    </tr>\n",
       "    <tr>\n",
       "      <th>98</th>\n",
       "      <td>5.7</td>\n",
       "      <td>2.8</td>\n",
       "      <td>1</td>\n",
       "    </tr>\n",
       "  </tbody>\n",
       "</table>\n",
       "<p>99 rows × 3 columns</p>\n",
       "</div>"
      ],
      "text/plain": [
       "    5.1  3.5  0\n",
       "0   4.9  3.0  0\n",
       "1   4.7  3.2  0\n",
       "2   4.6  3.1  0\n",
       "3   5.0  3.6  0\n",
       "4   5.4  3.9  0\n",
       "..  ...  ... ..\n",
       "94  5.7  3.0  1\n",
       "95  5.7  2.9  1\n",
       "96  6.2  2.9  1\n",
       "97  5.1  2.5  1\n",
       "98  5.7  2.8  1\n",
       "\n",
       "[99 rows x 3 columns]"
      ]
     },
     "execution_count": 1,
     "metadata": {},
     "output_type": "execute_result"
    }
   ],
   "source": [
    "import pandas as pd\n",
    "df = pd.read_csv('iris.csv')\n",
    "df"
   ]
  },
  {
   "cell_type": "code",
   "execution_count": 2,
   "id": "naked-express",
   "metadata": {},
   "outputs": [
    {
     "data": {
      "text/plain": [
       "0.5050505050505051"
      ]
     },
     "execution_count": 2,
     "metadata": {},
     "output_type": "execute_result"
    }
   ],
   "source": [
    "fist_class = [1 for i in df['0'] if i ==1]\n",
    "number_fist_class = len(fist_class)\n",
    "phi= number_fist_class/len(df['0'])\n",
    "phi"
   ]
  },
  {
   "cell_type": "code",
   "execution_count": 3,
   "id": "swedish-respect",
   "metadata": {},
   "outputs": [],
   "source": [
    "import numpy as np\n",
    "\n",
    "\n",
    "Y = np.array(df['0'])\n",
    "X = df[['5.1', '3.5']].to_numpy()\n"
   ]
  },
  {
   "cell_type": "code",
   "execution_count": 4,
   "id": "acting-stable",
   "metadata": {
    "scrolled": true
   },
   "outputs": [
    {
     "data": {
      "text/plain": [
       "<matplotlib.collections.PathCollection at 0x2054b6f1a88>"
      ]
     },
     "execution_count": 4,
     "metadata": {},
     "output_type": "execute_result"
    },
    {
     "data": {
      "image/png": "[encoded data removed]",
      "text/plain": [
       "<Figure size 432x288 with 1 Axes>"
      ]
     },
     "metadata": {
      "needs_background": "light"
     },
     "output_type": "display_data"
    }
   ],
   "source": [
    "\n",
    "import matplotlib.pyplot as plt\n",
    "plt.scatter(X[:, 0], X[:, 1], marker='o', c=Y,\n",
    "            s=25, edgecolor='k')"
   ]
  },
  {
   "cell_type": "code",
   "execution_count": 5,
   "id": "adequate-import",
   "metadata": {
    "scrolled": true
   },
   "outputs": [
    {
     "data": {
      "text/html": [
       "<div>\n",
       "<style scoped>\n",
       "    .dataframe tbody tr th:only-of-type {\n",
       "        vertical-align: middle;\n",
       "    }\n",
       "\n",
       "    .dataframe tbody tr th {\n",
       "        vertical-align: top;\n",
       "    }\n",
       "\n",
       "    .dataframe thead th {\n",
       "        text-align: right;\n",
       "    }\n",
       "</style>\n",
       "<table border=\"1\" class=\"dataframe\">\n",
       "  <thead>\n",
       "    <tr style=\"text-align: right;\">\n",
       "      <th></th>\n",
       "      <th>5.1</th>\n",
       "      <th>3.5</th>\n",
       "      <th>0</th>\n",
       "    </tr>\n",
       "  </thead>\n",
       "  <tbody>\n",
       "    <tr>\n",
       "      <th>0</th>\n",
       "      <td>4.9</td>\n",
       "      <td>3.0</td>\n",
       "      <td>0</td>\n",
       "    </tr>\n",
       "    <tr>\n",
       "      <th>1</th>\n",
       "      <td>4.7</td>\n",
       "      <td>3.2</td>\n",
       "      <td>0</td>\n",
       "    </tr>\n",
       "    <tr>\n",
       "      <th>2</th>\n",
       "      <td>4.6</td>\n",
       "      <td>3.1</td>\n",
       "      <td>0</td>\n",
       "    </tr>\n",
       "    <tr>\n",
       "      <th>3</th>\n",
       "      <td>5.0</td>\n",
       "      <td>3.6</td>\n",
       "      <td>0</td>\n",
       "    </tr>\n",
       "    <tr>\n",
       "      <th>4</th>\n",
       "      <td>5.4</td>\n",
       "      <td>3.9</td>\n",
       "      <td>0</td>\n",
       "    </tr>\n",
       "    <tr>\n",
       "      <th>...</th>\n",
       "      <td>...</td>\n",
       "      <td>...</td>\n",
       "      <td>...</td>\n",
       "    </tr>\n",
       "    <tr>\n",
       "      <th>94</th>\n",
       "      <td>5.7</td>\n",
       "      <td>3.0</td>\n",
       "      <td>1</td>\n",
       "    </tr>\n",
       "    <tr>\n",
       "      <th>95</th>\n",
       "      <td>5.7</td>\n",
       "      <td>2.9</td>\n",
       "      <td>1</td>\n",
       "    </tr>\n",
       "    <tr>\n",
       "      <th>96</th>\n",
       "      <td>6.2</td>\n",
       "      <td>2.9</td>\n",
       "      <td>1</td>\n",
       "    </tr>\n",
       "    <tr>\n",
       "      <th>97</th>\n",
       "      <td>5.1</td>\n",
       "      <td>2.5</td>\n",
       "      <td>1</td>\n",
       "    </tr>\n",
       "    <tr>\n",
       "      <th>98</th>\n",
       "      <td>5.7</td>\n",
       "      <td>2.8</td>\n",
       "      <td>1</td>\n",
       "    </tr>\n",
       "  </tbody>\n",
       "</table>\n",
       "<p>99 rows × 3 columns</p>\n",
       "</div>"
      ],
      "text/plain": [
       "    5.1  3.5  0\n",
       "0   4.9  3.0  0\n",
       "1   4.7  3.2  0\n",
       "2   4.6  3.1  0\n",
       "3   5.0  3.6  0\n",
       "4   5.4  3.9  0\n",
       "..  ...  ... ..\n",
       "94  5.7  3.0  1\n",
       "95  5.7  2.9  1\n",
       "96  6.2  2.9  1\n",
       "97  5.1  2.5  1\n",
       "98  5.7  2.8  1\n",
       "\n",
       "[99 rows x 3 columns]"
      ]
     },
     "execution_count": 5,
     "metadata": {},
     "output_type": "execute_result"
    }
   ],
   "source": [
    "df"
   ]
  },
  {
   "cell_type": "code",
   "execution_count": 6,
   "id": "recent-appraisal",
   "metadata": {},
   "outputs": [
    {
     "name": "stdout",
     "output_type": "stream",
     "text": [
      "(49, 2) (50, 2)\n"
     ]
    }
   ],
   "source": [
    "first_class = []\n",
    "zero_class = []\n",
    "for index in range(len(Y)):\n",
    "    if Y[index]==1:\n",
    "        first_class.append(X[index])\n",
    "    if Y[index]==0:\n",
    "        zero_class.append(X[index])\n",
    "        \n",
    "        \n",
    "first_class = np.array(first_class)\n",
    "\n",
    "zero_class = np.array(zero_class)\n",
    "print(zero_class.shape, first_class.shape)"
   ]
  },
  {
   "cell_type": "code",
   "execution_count": 141,
   "id": "regional-michigan",
   "metadata": {},
   "outputs": [
    {
     "data": {
      "text/plain": [
       "0.5050505050505051"
      ]
     },
     "execution_count": 141,
     "metadata": {},
     "output_type": "execute_result"
    }
   ],
   "source": [
    "phi  = first_class.shape[0]/X.shape[0]\n",
    "phi"
   ]
  },
  {
   "cell_type": "code",
   "execution_count": 8,
   "id": "handed-haven",
   "metadata": {},
   "outputs": [
    {
     "name": "stdout",
     "output_type": "stream",
     "text": [
      "[0.05054628 0.03450835] [0.0599596 0.0279798]\n"
     ]
    }
   ],
   "source": [
    "mu0 = zero_class.mean(axis=0)/99\n",
    "mu1 = first_class.mean(axis=0)/99\n",
    "print(mu0, mu1)"
   ]
  },
  {
   "cell_type": "code",
   "execution_count": 9,
   "id": "explicit-salad",
   "metadata": {},
   "outputs": [],
   "source": [
    "# np.sum((zero_class - mu0).dot((zero_class - mu0).T), axis = 1)"
   ]
  },
  {
   "cell_type": "code",
   "execution_count": 10,
   "id": "dated-mortgage",
   "metadata": {},
   "outputs": [
    {
     "data": {
      "text/plain": [
       "array([[1208.41729611,  825.75257491],\n",
       "       [ 825.75257491,  567.5049553 ]])"
      ]
     },
     "execution_count": 10,
     "metadata": {},
     "output_type": "execute_result"
    }
   ],
   "source": [
    "a = ((zero_class - mu0).T).dot((zero_class - mu0))\n",
    "a"
   ]
  },
  {
   "cell_type": "code",
   "execution_count": 11,
   "id": "proper-battle",
   "metadata": {},
   "outputs": [],
   "source": [
    "b = ((first_class - mu1).T).dot((first_class - mu1))"
   ]
  },
  {
   "cell_type": "code",
   "execution_count": 12,
   "id": "quantitative-operation",
   "metadata": {},
   "outputs": [],
   "source": [
    "cov = (a+b)/99"
   ]
  },
  {
   "cell_type": "code",
   "execution_count": 56,
   "id": "stuck-demand",
   "metadata": {},
   "outputs": [],
   "source": [
    "def normal_dist_gda(x , mean, cov):\n",
    "\n",
    "    dim = np.shape(cov)[0]\n",
    "    covdet = np.linalg.det(cov + np.eye(dim) * 0.001)\n",
    "    \n",
    "    part1 = 1/(((2*np.pi)**(dim/2))*(np.abs(covdet)**0.5))\n",
    "\n",
    "    \n",
    "    part2 = np.exp(-0.5 *((x-mean)).dot(np.linalg.inv(cov)).dot((x-mean).T))\n",
    "    \n",
    "    prob_density = part1*part2   \n",
    "    \n",
    "    return prob_density  \n"
   ]
  },
  {
   "cell_type": "code",
   "execution_count": 57,
   "id": "creative-surge",
   "metadata": {},
   "outputs": [
    {
     "data": {
      "text/plain": [
       "(49, 49)"
      ]
     },
     "execution_count": 57,
     "metadata": {},
     "output_type": "execute_result"
    }
   ],
   "source": [
    "x0_gda = normal_dist_gda(zero_class, mu0, cov)\n",
    "x0_gda.shape"
   ]
  },
  {
   "cell_type": "code",
   "execution_count": 58,
   "id": "fiscal-gallery",
   "metadata": {},
   "outputs": [],
   "source": [
    "# x0_gda"
   ]
  },
  {
   "cell_type": "code",
   "execution_count": 59,
   "id": "theoretical-metabolism",
   "metadata": {},
   "outputs": [],
   "source": [
    "x1_gda = normal_dist_gda(first_class, mu1, cov)"
   ]
  },
  {
   "cell_type": "code",
   "execution_count": 60,
   "id": "unusual-there",
   "metadata": {},
   "outputs": [
    {
     "data": {
      "text/plain": [
       "array([[-0.00031613,  0.00039518],\n",
       "       [-0.00056979,  0.00068159]])"
      ]
     },
     "execution_count": 60,
     "metadata": {},
     "output_type": "execute_result"
    }
   ],
   "source": [
    "theta0 = (mu0-mu1)/cov\n",
    "theta0"
   ]
  },
  {
   "cell_type": "code",
   "execution_count": 61,
   "id": "average-clinic",
   "metadata": {},
   "outputs": [
    {
     "data": {
      "text/plain": [
       "array([[0.08973238, 0.01597723],\n",
       "       [0.04978542, 0.00926339]])"
      ]
     },
     "execution_count": 61,
     "metadata": {},
     "output_type": "execute_result"
    }
   ],
   "source": [
    "theta1 = ((1-phi)/phi)* ((mu0**2+mu1**2)/2*cov)\n",
    "theta1"
   ]
  },
  {
   "cell_type": "code",
   "execution_count": 62,
   "id": "separated-headset",
   "metadata": {},
   "outputs": [],
   "source": [
    "theta = np.concatenate((theta0, theta1), axis=0)"
   ]
  },
  {
   "cell_type": "code",
   "execution_count": 63,
   "id": "superb-canyon",
   "metadata": {},
   "outputs": [],
   "source": [
    "def predict(X, theta):\n",
    "    return np.dot(X, theta)"
   ]
  },
  {
   "cell_type": "code",
   "execution_count": 64,
   "id": "tamil-chamber",
   "metadata": {},
   "outputs": [],
   "source": [
    "X_I = np.c_[np.ones_like(X), X]\n",
    "# X_I"
   ]
  },
  {
   "cell_type": "code",
   "execution_count": 65,
   "id": "future-manhattan",
   "metadata": {},
   "outputs": [],
   "source": [
    "pred = predict(X_I, theta)"
   ]
  },
  {
   "cell_type": "code",
   "execution_count": 66,
   "id": "demonstrated-graphics",
   "metadata": {},
   "outputs": [
    {
     "data": {
      "text/plain": [
       "<matplotlib.collections.PathCollection at 0x2054c1e93c8>"
      ]
     },
     "execution_count": 66,
     "metadata": {},
     "output_type": "execute_result"
    },
    {
     "data": {
      "image/png": "[encoded data removed]",
      "text/plain": [
       "<Figure size 432x288 with 1 Axes>"
      ]
     },
     "metadata": {
      "needs_background": "light"
     },
     "output_type": "display_data"
    }
   ],
   "source": [
    "plt.scatter(pred[:, 0], pred[:, 1], marker='o', c=Y,\n",
    "            s=25, edgecolor='k')\n"
   ]
  },
  {
   "cell_type": "code",
   "execution_count": 67,
   "id": "bizarre-western",
   "metadata": {
    "scrolled": true
   },
   "outputs": [
    {
     "data": {
      "text/plain": [
       "<matplotlib.collections.PathCollection at 0x2054c247a88>"
      ]
     },
     "execution_count": 67,
     "metadata": {},
     "output_type": "execute_result"
    },
    {
     "data": {
      "image/png": "[encoded data removed]",
      "text/plain": [
       "<Figure size 432x288 with 1 Axes>"
      ]
     },
     "metadata": {
      "needs_background": "light"
     },
     "output_type": "display_data"
    }
   ],
   "source": [
    "plt.scatter(X[:, 0], X[:, 1], marker='o', c=Y,\n",
    "            s=25, edgecolor='b')"
   ]
  },
  {
   "cell_type": "code",
   "execution_count": 68,
   "id": "lucky-buyer",
   "metadata": {},
   "outputs": [],
   "source": [
    "# pred"
   ]
  },
  {
   "cell_type": "code",
   "execution_count": 69,
   "id": "secondary-communications",
   "metadata": {},
   "outputs": [],
   "source": [
    "phi0 = phi\n",
    "phi1 = 1 - phi"
   ]
  },
  {
   "cell_type": "code",
   "execution_count": 80,
   "id": "sixth-particular",
   "metadata": {},
   "outputs": [],
   "source": [
    "input_x = np.array([[1,0], [4,1], [-7,9]])\n",
    "def predict_class_for_list(input_x):\n",
    "    result = []\n",
    "    for i in input_x:\n",
    "        if normal_dist_gda(i, mu0, cov)*phi0>normal_dist_gda(i, mu1, cov)*phi1:\n",
    "            result.append(0)\n",
    "        else:\n",
    "            result.append(1)\n",
    "    return result"
   ]
  },
  {
   "cell_type": "code",
   "execution_count": 81,
   "id": "helpful-comedy",
   "metadata": {},
   "outputs": [
    {
     "data": {
      "text/plain": [
       "[0, 1, 0]"
      ]
     },
     "execution_count": 81,
     "metadata": {},
     "output_type": "execute_result"
    }
   ],
   "source": [
    "predict_class_for_list(input_x)"
   ]
  },
  {
   "cell_type": "code",
   "execution_count": 121,
   "id": "sexual-comfort",
   "metadata": {},
   "outputs": [
    {
     "name": "stdout",
     "output_type": "stream",
     "text": [
      "[0 1 0]\n"
     ]
    }
   ],
   "source": [
    "from sklearn.discriminant_analysis import LinearDiscriminantAnalysis\n",
    "\n",
    "clf = LinearDiscriminantAnalysis()\n",
    "clf.fit(X, Y)\n",
    "LinearDiscriminantAnalysis()\n",
    "# print(clf.predict(X))\n",
    "print(clf.predict(input_x))"
   ]
  },
  {
   "cell_type": "code",
   "execution_count": 83,
   "id": "cubic-measure",
   "metadata": {},
   "outputs": [],
   "source": [
    "# from sklearn.datasets import make_classification\n",
    "# n_samples = 100\n",
    "# n_outliers = 10\n",
    "# x, y= make_classification(n_samples=n_samples,n_features=2, n_redundant=0, n_informative=1,\n",
    "#                              n_clusters_per_class=1, random_state =42)"
   ]
  },
  {
   "cell_type": "code",
   "execution_count": 84,
   "id": "tamil-hunter",
   "metadata": {},
   "outputs": [],
   "source": [
    "# from sklearn.model_selection import train_test_split\n",
    "# X_train, X_test, y_train, y_test = train_test_split(x, y, test_size=0.1, random_state=42)"
   ]
  },
  {
   "cell_type": "code",
   "execution_count": 85,
   "id": "unsigned-mailing",
   "metadata": {},
   "outputs": [],
   "source": [
    "# clf.fit(X_train, y_train)\n",
    "# print(clf.predict(X_test))"
   ]
  },
  {
   "cell_type": "code",
   "execution_count": null,
   "id": "spoken-dream",
   "metadata": {},
   "outputs": [],
   "source": []
  },
  {
   "cell_type": "code",
   "execution_count": null,
   "id": "reported-demonstration",
   "metadata": {},
   "outputs": [],
   "source": []
  },
  {
   "cell_type": "code",
   "execution_count": null,
   "id": "talented-sweet",
   "metadata": {},
   "outputs": [],
   "source": []
  },
  {
   "cell_type": "code",
   "execution_count": 136,
   "id": "enabling-tsunami",
   "metadata": {},
   "outputs": [],
   "source": [
    "def train(X, Y):\n",
    "    first_class = []\n",
    "    zero_class = []\n",
    "    for index in range(len(Y)):\n",
    "        if Y[index]==1:\n",
    "            first_class.append(X[index])\n",
    "        if Y[index]==0:\n",
    "            zero_class.append(X[index])\n",
    "\n",
    "\n",
    "    first_class = np.array(first_class)\n",
    "    zero_class = np.array(zero_class)\n",
    "    phi0  = zero_class.shape[0]/X.shape[0]\n",
    "    phi1  = 1 - phi0\n",
    "    \n",
    "    mu0 = zero_class.mean(axis=0)/len(Y)\n",
    "    mu1 = first_class.mean(axis=0)/len(Y)\n",
    "    \n",
    "    cov = (((zero_class - mu0).T).dot((zero_class - mu0))+((first_class - mu1).T).dot((first_class - mu1)))/len(Y)\n",
    "    \n",
    "    p0 = normal_dist_gda(zero_class, mu0, cov)\n",
    "    p1 = normal_dist_gda(first_class, mu1, cov)\n",
    "    \n",
    "#     theta0 = (mu0-mu1)/cov\n",
    "#     theta1 = ((1-phi)/phi)* ((mu0**2+mu1**2)/2*cov)\n",
    "#     theta = np.concatenate((theta0, theta1), axis=0)\n",
    "    \n",
    "#     X_I = np.c_[np.ones_like(X), X]\n",
    "#     pred = predict(X_I, theta)\n",
    "    \n",
    "    \n",
    "    return mu0, mu1,cov, phi1, phi0"
   ]
  },
  {
   "cell_type": "code",
   "execution_count": 142,
   "id": "contemporary-buffer",
   "metadata": {},
   "outputs": [
    {
     "data": {
      "text/plain": [
       "0.505050505050505"
      ]
     },
     "execution_count": 142,
     "metadata": {},
     "output_type": "execute_result"
    }
   ],
   "source": [
    "mu0, mu1,cov, phi0, phi1 = train(X, Y)\n",
    "phi0"
   ]
  },
  {
   "cell_type": "code",
   "execution_count": 129,
   "id": "suffering-status",
   "metadata": {},
   "outputs": [],
   "source": [
    "def predict_class(input_x, mu0, mu1,cov, phi0, phi1):\n",
    "\n",
    "    result = []\n",
    "    for i in input_x:\n",
    "        if normal_dist_gda(i, mu0, cov)*phi0>normal_dist_gda(i, mu1, cov)*phi1:\n",
    "            result.append(0)\n",
    "        else:\n",
    "            result.append(1)\n",
    "    return result"
   ]
  },
  {
   "cell_type": "code",
   "execution_count": 130,
   "id": "bearing-siemens",
   "metadata": {},
   "outputs": [
    {
     "data": {
      "text/plain": [
       "[0, 1, 0]"
      ]
     },
     "execution_count": 130,
     "metadata": {},
     "output_type": "execute_result"
    }
   ],
   "source": [
    "predict_class(input_x, mu0, mu1,cov, phi0, phi1)"
   ]
  },
  {
   "cell_type": "code",
   "execution_count": null,
   "id": "prerequisite-catholic",
   "metadata": {},
   "outputs": [],
   "source": []
  },
  {
   "cell_type": "code",
   "execution_count": null,
   "id": "derived-apparatus",
   "metadata": {},
   "outputs": [],
   "source": []
  },
  {
   "cell_type": "code",
   "execution_count": 151,
   "id": "musical-italian",
   "metadata": {},
   "outputs": [],
   "source": [
    "from sklearn.datasets import make_classification\n",
    "n_samples = 100\n",
    "n_outliers = 10\n",
    "x, y= make_classification(n_samples=n_samples,n_features=2, n_redundant=0, n_informative=1,\n",
    "                             n_clusters_per_class=1, random_state =42)"
   ]
  },
  {
   "cell_type": "code",
   "execution_count": 152,
   "id": "treated-laundry",
   "metadata": {},
   "outputs": [],
   "source": [
    "from sklearn.model_selection import train_test_split\n",
    "X_train, X_test, y_train, y_test = train_test_split(x, y, test_size=0.07, random_state=42)"
   ]
  },
  {
   "cell_type": "code",
   "execution_count": 153,
   "id": "friendly-soundtrack",
   "metadata": {},
   "outputs": [
    {
     "name": "stdout",
     "output_type": "stream",
     "text": [
      "[0 0 0 1 1 0 0 1]\n",
      "1.0\n"
     ]
    }
   ],
   "source": [
    "clf.fit(X_train, y_train)\n",
    "print(clf.predict(X_test))\n",
    "print(clf.score(X_test, y_test))"
   ]
  },
  {
   "cell_type": "code",
   "execution_count": 154,
   "id": "stuffed-space",
   "metadata": {},
   "outputs": [
    {
     "data": {
      "text/plain": [
       "[0, 0, 0, 0, 0, 0, 0, 0]"
      ]
     },
     "execution_count": 154,
     "metadata": {},
     "output_type": "execute_result"
    }
   ],
   "source": [
    "mu0, mu1,cov, phi0, phi1 = train(X_train, y_train)\n",
    "predict_class(X_test, mu0, mu1,cov, phi0, phi1)"
   ]
  },
  {
   "cell_type": "code",
   "execution_count": null,
   "id": "particular-difficulty",
   "metadata": {},
   "outputs": [],
   "source": []
  },
  {
   "cell_type": "code",
   "execution_count": null,
   "id": "current-heart",
   "metadata": {},
   "outputs": [],
   "source": []
  }
 ],
 "metadata": {
  "kernelspec": {
   "display_name": "Python 3",
   "language": "python",
   "name": "python3"
  },
  "language_info": {
   "codemirror_mode": {
    "name": "ipython",
    "version": 3
   },
   "file_extension": ".py",
   "mimetype": "text/x-python",
   "name": "python",
   "nbconvert_exporter": "python",
   "pygments_lexer": "ipython3",
   "version": "3.7.10"
  }
 },
 "nbformat": 4,
 "nbformat_minor": 5
}
