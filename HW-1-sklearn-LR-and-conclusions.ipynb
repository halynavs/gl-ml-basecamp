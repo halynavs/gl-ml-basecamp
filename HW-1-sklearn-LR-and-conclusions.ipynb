{
 "cells": [
  {
   "cell_type": "code",
   "execution_count": 4,
   "metadata": {},
   "outputs": [],
   "source": [
    "import numpy as np\n",
    "import matplotlib.pyplot as plt"
   ]
  },
  {
   "cell_type": "markdown",
   "metadata": {},
   "source": [
    "# Generate data"
   ]
  },
  {
   "cell_type": "code",
   "execution_count": 5,
   "metadata": {},
   "outputs": [],
   "source": [
    "np.random.seed(0) # fix seed for reproducibility.\n",
    "\n",
    "mean = [-1, 1] # mean of normal distribution. Try others.\n",
    "cov = [[1, -0.75], \n",
    "       [-0.75, 1]] # covariance of normal distribution\n",
    "sample = np.random.multivariate_normal(mean, cov, size=1000) # 1000 normally distributed samples"
   ]
  },
  {
   "cell_type": "code",
   "execution_count": 56,
   "metadata": {},
   "outputs": [
    {
     "data": {
      "text/plain": [
       "array([[-1.50864293,  2.79159681],\n",
       "       [-0.12325016,  2.70780094],\n",
       "       [-2.09246045,  2.40142063],\n",
       "       ...,\n",
       "       [ 3.        ,  4.        ],\n",
       "       [ 0.        ,  5.        ],\n",
       "       [ 2.        ,  2.        ]])"
      ]
     },
     "execution_count": 56,
     "metadata": {},
     "output_type": "execute_result"
    }
   ],
   "source": [
    "sample"
   ]
  },
  {
   "cell_type": "code",
   "execution_count": 57,
   "metadata": {},
   "outputs": [
    {
     "data": {
      "image/png": "[encoded data removed]",
      "text/plain": [
       "<Figure size 432x288 with 1 Axes>"
      ]
     },
     "metadata": {
      "needs_background": "light"
     },
     "output_type": "display_data"
    }
   ],
   "source": [
    "x, y = sample[:, 0], sample[:, 1]  # separate samples on feature x and target y\n",
    "\n",
    "# Visualize dataset\n",
    "plt.scatter(x, y)\n",
    "plt.xlabel('x')\n",
    "plt.ylabel('y')\n",
    "plt.show()"
   ]
  },
  {
   "cell_type": "code",
   "execution_count": 58,
   "metadata": {},
   "outputs": [
    {
     "data": {
      "text/plain": [
       "(array([[ 1.        , -1.50864293],\n",
       "        [ 1.        , -0.12325016],\n",
       "        [ 1.        , -2.09246045],\n",
       "        [ 1.        , -0.94223919],\n",
       "        [ 1.        ,  0.24172089]]),\n",
       " array([2.79159681, 2.70780094, 2.40142063, 1.83521348, 1.0486161 ]))"
      ]
     },
     "execution_count": 58,
     "metadata": {},
     "output_type": "execute_result"
    }
   ],
   "source": [
    "# Add singular bias feature\n",
    "X = np.array([np.array([1, val]) for val in x])\n",
    "X[:5], y[:5] # show X, y head"
   ]
  },
  {
   "cell_type": "code",
   "execution_count": 59,
   "metadata": {},
   "outputs": [
    {
     "data": {
      "text/plain": [
       "LinearRegression(copy_X=True, fit_intercept=True, n_jobs=None, normalize=False)"
      ]
     },
     "execution_count": 59,
     "metadata": {},
     "output_type": "execute_result"
    }
   ],
   "source": [
    "from sklearn import linear_model\n",
    "model = linear_model.LinearRegression()\n",
    "model.fit(X, y)"
   ]
  },
  {
   "cell_type": "code",
   "execution_count": 60,
   "metadata": {},
   "outputs": [
    {
     "data": {
      "text/plain": [
       "array([ 0.        , -0.07385177])"
      ]
     },
     "execution_count": 60,
     "metadata": {},
     "output_type": "execute_result"
    }
   ],
   "source": [
    "model.coef_ # only theta[1:] here"
   ]
  },
  {
   "cell_type": "code",
   "execution_count": 61,
   "metadata": {},
   "outputs": [
    {
     "data": {
      "text/plain": [
       "1.0083736346609102"
      ]
     },
     "execution_count": 61,
     "metadata": {},
     "output_type": "execute_result"
    }
   ],
   "source": [
    "model.intercept_ # theta[0] is called \"intercept\" in sklearn"
   ]
  },
  {
   "cell_type": "code",
   "execution_count": 62,
   "metadata": {},
   "outputs": [],
   "source": [
    "w = np.array([model.intercept_, model.coef_[1]]) # to visualize it in usual way"
   ]
  },
  {
   "cell_type": "code",
   "execution_count": 63,
   "metadata": {},
   "outputs": [],
   "source": [
    "def predict(X, theta):\n",
    "    return np.dot(X, theta)"
   ]
  },
  {
   "cell_type": "code",
   "execution_count": 64,
   "metadata": {},
   "outputs": [],
   "source": [
    "def computeCost(X, y, theta):\n",
    "    return sum((y - predict(X, theta))**2) / (2 * len(X))"
   ]
  },
  {
   "cell_type": "code",
   "execution_count": 65,
   "metadata": {},
   "outputs": [
    {
     "name": "stdout",
     "output_type": "stream",
     "text": [
      "Model's cost:  0.4885541621772246\n",
      "Calculated weights:  [ 1.00837363 -0.07385177]\n"
     ]
    }
   ],
   "source": [
    "print(\"Model's cost: \", computeCost(X, y, w))\n",
    "print(\"Calculated weights: \", w)"
   ]
  },
  {
   "cell_type": "code",
   "execution_count": 66,
   "metadata": {},
   "outputs": [
    {
     "data": {
      "image/png": "[encoded data removed]",
      "text/plain": [
       "<Figure size 432x288 with 1 Axes>"
      ]
     },
     "metadata": {
      "needs_background": "light"
     },
     "output_type": "display_data"
    }
   ],
   "source": [
    "extremes = np.array([np.min(x), np.max(x)])\n",
    "line =  model.predict(np.array([[1, val] for val in extremes]))#w[0] + extremes * w[1]\n",
    "line2 = w[0] + extremes * w[1]\n",
    "\n",
    "plt.plot(extremes, line, 'r-', extremes, line2, 'g-')\n",
    "plt.scatter(x, y)\n",
    "plt.xlabel('x')\n",
    "plt.ylabel('y')\n",
    "plt.show()"
   ]
  },
  {
   "cell_type": "markdown",
   "metadata": {},
   "source": [
    "There is no model's trajectory or learning process visualization because sklearn learns linear models in closed form, solving [normal equation](http://mlwiki.org/index.php/Normal_Equation)"
   ]
  },
  {
   "cell_type": "markdown",
   "metadata": {},
   "source": [
    "# Let`s try to use linear regression for normalized normal distribution, and data with emissions "
   ]
  },
  {
   "cell_type": "markdown",
   "metadata": {},
   "source": [
    "## Generate normalized normal distr"
   ]
  },
  {
   "cell_type": "code",
   "execution_count": 67,
   "metadata": {},
   "outputs": [],
   "source": [
    "np.random.seed(0) # fix the seed for reproducibility\n",
    "\n",
    "mean = [0, 1] # mean of normal  distribution. Try others\n",
    "cov = [[1, -0.75],\n",
    "       [-0.75, 1]] # covariance of normal distribution\n",
    "\n",
    "sample = np.random.multivariate_normal(mean, cov, size = 1000) # 1000 normally distributed samples"
   ]
  },
  {
   "cell_type": "code",
   "execution_count": 68,
   "metadata": {},
   "outputs": [
    {
     "data": {
      "image/png": "[encoded data removed]",
      "text/plain": [
       "<Figure size 432x288 with 1 Axes>"
      ]
     },
     "metadata": {
      "needs_background": "light"
     },
     "output_type": "display_data"
    }
   ],
   "source": [
    "x, y = sample[:, 0], sample[:, 1]  # separate samples on feature x and target y\n",
    "\n",
    "# Visualize dataset\n",
    "plt.scatter(x, y)\n",
    "plt.xlabel('x')\n",
    "plt.ylabel('y')\n",
    "plt.show()"
   ]
  },
  {
   "cell_type": "code",
   "execution_count": 69,
   "metadata": {},
   "outputs": [
    {
     "data": {
      "text/plain": [
       "(array([[ 1.        , -1.50864293],\n",
       "        [ 1.        , -0.12325016],\n",
       "        [ 1.        , -2.09246045],\n",
       "        [ 1.        , -0.94223919],\n",
       "        [ 1.        ,  0.24172089]]),\n",
       " array([2.79159681, 2.70780094, 2.40142063, 1.83521348, 1.0486161 ]))"
      ]
     },
     "execution_count": 69,
     "metadata": {},
     "output_type": "execute_result"
    }
   ],
   "source": [
    "# Add singular bias feature\n",
    "X = np.array([np.array([1, val]) for val in x])\n",
    "X[:5], y[:5] # show X, y head"
   ]
  },
  {
   "cell_type": "code",
   "execution_count": 70,
   "metadata": {},
   "outputs": [
    {
     "name": "stdout",
     "output_type": "stream",
     "text": [
      "Model's cost:  0.20846219875580643\n",
      "Calculated weights:  [ 0.98861851 -0.73984059]\n"
     ]
    }
   ],
   "source": [
    "from sklearn import linear_model\n",
    "model = linear_model.LinearRegression()\n",
    "model.fit(X, y)\n",
    "w = np.array([model.intercept_, model.coef_[1]]) # to visualize it in usual way\n",
    "print(\"Model's cost: \", computeCost(X, y, w))\n",
    "print(\"Calculated weights: \", w)\n",
    "nnd_lr_cost = computeCost(X, y, w)\n",
    "nnd_lr_weights = w"
   ]
  },
  {
   "cell_type": "code",
   "execution_count": 71,
   "metadata": {},
   "outputs": [
    {
     "data": {
      "image/png": "[encoded data removed]",
      "text/plain": [
       "<Figure size 432x288 with 1 Axes>"
      ]
     },
     "metadata": {
      "needs_background": "light"
     },
     "output_type": "display_data"
    }
   ],
   "source": [
    "extremes = np.array([np.min(x), np.max(x)])\n",
    "line =  model.predict(np.array([[1, val] for val in extremes]))#w[0] + extremes * w[1]\n",
    "line2 = w[0] + extremes * w[1]\n",
    "\n",
    "plt.plot(extremes, line, 'r-', extremes, line2, 'g-')\n",
    "plt.scatter(x, y)\n",
    "plt.xlabel('x')\n",
    "plt.ylabel('y')\n",
    "plt.show()"
   ]
  },
  {
   "cell_type": "markdown",
   "metadata": {},
   "source": [
    "### Read data from HW-1-with-normalized-nd"
   ]
  },
  {
   "cell_type": "code",
   "execution_count": 81,
   "metadata": {},
   "outputs": [],
   "source": [
    "%store -r sgd_iters_nnd \n",
    "%store -r gd_cost_nnd\n",
    "%store -r sgd_cost_nnd\n",
    "%store -r gd_iters_nnd\n",
    "%store -r sgd_iters_nnd\n",
    "%store -r gd_alpha_nnd\n",
    "%store -r sgd_alpha_nnd\n",
    "%store -r gd_batch_size_nnd\n",
    "%store -r sgd_batch_size_nnd\n",
    "%store -r gd_weights_nnd\n",
    "%store -r sgd_weights_nnd"
   ]
  },
  {
   "cell_type": "code",
   "execution_count": 82,
   "metadata": {},
   "outputs": [
    {
     "name": "stdout",
     "output_type": "stream",
     "text": [
      "     Cost_func_val Iters_count  Alpha Batch_size  \\\n",
      "GD        0.208719          10  0.001       1000   \n",
      "SGD       0.208719         800  0.001         10   \n",
      "LR        0.208462           -      -          -   \n",
      "\n",
      "                                       Weights  \n",
      "GD   [1.0112470649159544, -0.7411783567778351]  \n",
      "SGD  [1.0112470649159544, -0.7411783567778351]  \n",
      "LR   [0.9886185057301692, -0.7398405932686568]  \n"
     ]
    }
   ],
   "source": [
    "import pandas as pd\n",
    "\n",
    "models = {'Cost_func_val': [gd_cost_nnd, sgd_cost_nnd, nnd_lr_cost],\n",
    "        'Iters_count': [gd_iters_nnd, sgd_iters_nnd, '-'],\n",
    "        'Alpha': [gd_alpha_nnd, sgd_alpha_nnd, '-'],\n",
    "        'Batch_size': [gd_batch_size_nnd, sgd_batch_size_nnd, '-'],\n",
    "         'Weights': [gd_weights_nnd, sgd_weights_nnd, nnd_lr_weights]}\n",
    "\n",
    "df = pd.DataFrame(models, columns = ['Cost_func_val','Iters_count', 'Alpha','Batch_size', 'Weights'], index=['GD','SGD', 'LR'])\n",
    "print(df)\n"
   ]
  },
  {
   "cell_type": "markdown",
   "metadata": {},
   "source": [
    "## Conclusion after using Gradient Descent, Stochastic Gradient Descent and Linear regression for \n",
    "- ## normalized normal distribution"
   ]
  },
  {
   "cell_type": "markdown",
   "metadata": {},
   "source": [
    "If we have not a bid dataset `GD` - good method to use. But if we have big dataset better to use `SGD` because it learns though batches not thought all dataset. As the result we use less capacity and time on learning. \n",
    "\n",
    "By using `SGD` we need to choose not only count of iter and alpha, we need to find balance between batch sizes for lowwer value of cost function.\n",
    "\n",
    "`GD` we can try use once on big dataset(depends on our computation capacity) for having base optimal cost func value to estimate quickier methods like `SGD` and other. (or we can try to use `LR` but it has limitations, described below)\n",
    "\n",
    "`LR` more accurate method. `LR` don't need to choose α, don't need to iterate - computed in one step. \n",
    "\n",
    "But `LR` slow if n is large (n⩾10^4), need to compute (X^TX)^−1 - very slow, if (X^TX) is not-invertible - we have problems.\n",
    "\n",
    "For normalized normal distribution `GD`, `SGD` and `LR` are good methods if we follow the rules of use.\n",
    "\n",
    "Concepts 'bid dataset', 'not bid dataset'' depend of our memory, GPU, CPU, ect. limitations"
   ]
  },
  {
   "cell_type": "markdown",
   "metadata": {},
   "source": [
    "# Add abnormal data\n"
   ]
  },
  {
   "cell_type": "code",
   "execution_count": 83,
   "metadata": {},
   "outputs": [],
   "source": [
    "np.random.seed(0) # fix seed for reproducibility.\n",
    "\n",
    "mean = [-1, 1] # mean of normal distribution. Try others.\n",
    "cov = [[1, -0.75], \n",
    "       [-0.75, 1]] # covariance of normal distribution\n",
    "sample = np.random.multivariate_normal(mean, cov, size=1000) # 1000 normally distributed samples"
   ]
  },
  {
   "cell_type": "code",
   "execution_count": 84,
   "metadata": {},
   "outputs": [
    {
     "data": {
      "text/plain": [
       "array([[-2.50864293,  2.79159681],\n",
       "       [-1.12325016,  2.70780094],\n",
       "       [-3.09246045,  2.40142063],\n",
       "       ...,\n",
       "       [ 9.        ,  2.        ],\n",
       "       [ 7.        ,  5.        ],\n",
       "       [ 6.        ,  3.        ]])"
      ]
     },
     "execution_count": 84,
     "metadata": {},
     "output_type": "execute_result"
    }
   ],
   "source": [
    "# 5 new points \n",
    "new_array = np.random.randint([-100, 5],[-4, 8], size=(5,2))\n",
    "sample = np.append(sample, new_array, axis = 0)\n",
    "# 5 new points \n",
    "new_array = np.random.randint([0, 2],[10, 6], size=(5,2))\n",
    "sample = np.append(sample, new_array, axis = 0)\n",
    "sample"
   ]
  },
  {
   "cell_type": "code",
   "execution_count": 85,
   "metadata": {},
   "outputs": [
    {
     "data": {
      "image/png": "[encoded data removed]",
      "text/plain": [
       "<Figure size 432x288 with 1 Axes>"
      ]
     },
     "metadata": {
      "needs_background": "light"
     },
     "output_type": "display_data"
    }
   ],
   "source": [
    "x, y = sample[:, 0], sample[:, 1]  # separate samples on feature x and target y\n",
    "\n",
    "# Visualize dataset\n",
    "plt.scatter(x, y)\n",
    "plt.xlabel('x')\n",
    "plt.ylabel('y')\n",
    "plt.show()"
   ]
  },
  {
   "cell_type": "code",
   "execution_count": 86,
   "metadata": {},
   "outputs": [
    {
     "data": {
      "text/plain": [
       "(array([[ 1.        , -2.50864293],\n",
       "        [ 1.        , -1.12325016],\n",
       "        [ 1.        , -3.09246045],\n",
       "        [ 1.        , -1.94223919],\n",
       "        [ 1.        , -0.75827911]]),\n",
       " array([2.79159681, 2.70780094, 2.40142063, 1.83521348, 1.0486161 ]))"
      ]
     },
     "execution_count": 86,
     "metadata": {},
     "output_type": "execute_result"
    }
   ],
   "source": [
    "# Add singular bias feature\n",
    "X = np.array([np.array([1,val]) for val in x])\n",
    "X[:5], y[:5]"
   ]
  },
  {
   "cell_type": "code",
   "execution_count": 87,
   "metadata": {},
   "outputs": [
    {
     "data": {
      "text/plain": [
       "((1010, 2), (1010,))"
      ]
     },
     "execution_count": 87,
     "metadata": {},
     "output_type": "execute_result"
    }
   ],
   "source": [
    "X.shape, y.shape"
   ]
  },
  {
   "cell_type": "code",
   "execution_count": 88,
   "metadata": {},
   "outputs": [
    {
     "name": "stdout",
     "output_type": "stream",
     "text": [
      "Model's cost:  0.4524529337344313\n",
      "Calculated weights:  [ 0.90166332 -0.08934726]\n"
     ]
    }
   ],
   "source": [
    "model = linear_model.LinearRegression()\n",
    "model.fit(X, y)\n",
    "w = np.array([model.intercept_, model.coef_[1]]) # to visualize it in usual way\n",
    "print(\"Model's cost: \", computeCost(X, y, w))\n",
    "print(\"Calculated weights: \", w)\n",
    "ad_lr_cost = computeCost(X, y, w)\n",
    "ad_lr_weights = w"
   ]
  },
  {
   "cell_type": "markdown",
   "metadata": {},
   "source": [
    "### Read data from HW-1-with-abnormal-data-0"
   ]
  },
  {
   "cell_type": "code",
   "execution_count": 93,
   "metadata": {},
   "outputs": [],
   "source": [
    "%store -r sgd_iters_ad \n",
    "%store -r gd_cost_ad \n",
    "%store -r sgd_cost_ad \n",
    "%store -r gd_iters_ad \n",
    "%store -r sgd_iters_ad \n",
    "%store -r gd_alpha_ad \n",
    "%store -r sgd_alpha_ad \n",
    "%store -r gd_batch_size_ad \n",
    "%store -r sgd_batch_size_ad \n",
    "%store -r gd_weights_ad \n",
    "%store -r sgd_weights_ad "
   ]
  },
  {
   "cell_type": "code",
   "execution_count": 94,
   "metadata": {},
   "outputs": [
    {
     "name": "stdout",
     "output_type": "stream",
     "text": [
      "     Cost_func_val Iters_count   Alpha Batch_size  \\\n",
      "GD        0.454099         800   1e-05       1010   \n",
      "SGD       0.453728        5000  0.0001         10   \n",
      "LR        0.452453           -       -          -   \n",
      "\n",
      "                                        Weights  \n",
      "GD   [0.9577508559447584, -0.09022937034478792]  \n",
      "SGD  [0.9495246661537474, -0.09092906707091226]  \n",
      "LR   [0.9016633161199756, -0.08934725788405362]  \n"
     ]
    }
   ],
   "source": [
    "models = {'Cost_func_val': [gd_cost_ad , sgd_cost_ad , ad_lr_cost],\n",
    "        'Iters_count': [gd_iters_ad , sgd_iters_ad , '-'],\n",
    "        'Alpha': [gd_alpha_ad , sgd_alpha_ad , '-'],\n",
    "        'Batch_size': [gd_batch_size_ad , sgd_batch_size_ad , '-'],\n",
    "         'Weights': [gd_weights_ad , sgd_weights_ad , ad_lr_weights]}\n",
    "\n",
    "df = pd.DataFrame(models, columns = ['Cost_func_val','Iters_count', 'Alpha','Batch_size', 'Weights'], index=['GD','SGD', 'LR'])\n",
    "print(df)\n"
   ]
  },
  {
   "cell_type": "markdown",
   "metadata": {},
   "source": [
    "## Conclusion after using Gradient Descent, Stochastic Gradient Descent and Linear regression for\n",
    "- ## normalized normal distribution with abnormal data"
   ]
  },
  {
   "cell_type": "markdown",
   "metadata": {},
   "source": [
    "If data contains abnormal data:\n",
    "- cost function become difficult for minimization by gradient descent\n",
    "by still we can try to choose count of iterations and step of GD and try to find min value of cost func\n",
    "\n",
    "GD is trying to understand emissions as the result we have bad general predictions that was better with clean normal distribution.\n",
    "\n",
    "For escaping that - before modeling we need clean data from abnormal data(and normalize in real life, because when we have more than one feature thay can be it different range)\n",
    "\n",
    "SGD still demands less computation capacity. Even if we need more iters, we use less data for learning.\n",
    "\n",
    "\n",
    "If data contains abnormal data in `big` range:\n",
    "- GD demands less alpha(look at HW-1-with-abnormal-data-0) \n",
    "\n",
    "- SGD demands less bathes \n",
    "\n",
    "Tests with abnormal data in `not big` range shown in HW-1-with-abnormal-data-1.ipynb, HW-1-with-abnormal-data-2.ipynb"
   ]
  },
  {
   "cell_type": "markdown",
   "metadata": {},
   "source": [
    "## Files on google drive\n",
    "\n",
    "[HW-1-with-normalized-nd](https://drive.google.com/drive/u/1/folders/1j5tREyRHDWfLRtNlc64wuJd1D3U2r2zw)\n",
    "\n",
    "[HW-1-with-abnormal-data-0](https://drive.google.com/drive/u/1/folders/1j5tREyRHDWfLRtNlc64wuJd1D3U2r2zw)\n",
    "\n",
    "[HW-1-with-abnormal-data-1](https://drive.google.com/drive/u/1/folders/1j5tREyRHDWfLRtNlc64wuJd1D3U2r2zw)\n",
    "\n",
    "[HW-1-with-abnormal-data-2](https://drive.google.com/drive/u/1/folders/1j5tREyRHDWfLRtNlc64wuJd1D3U2r2zw)"
   ]
  },
  {
   "cell_type": "markdown",
   "metadata": {},
   "source": [
    "## Files on GitHub\n",
    "\n",
    "[HW-1-with-normalized-nd](https://github.com/halynavs/gl-ml-basecamp/blob/hw-1/HW-1-with-normalized-nd.ipynb)\n",
    "\n",
    "[HW-1-with-abnormal-data-0](https://github.com/halynavs/gl-ml-basecamp/blob/hw-1/HW-1-with-abnormal-data-0.ipynb)\n",
    "\n",
    "[HW-1-with-abnormal-data-1](https://github.com/halynavs/gl-ml-basecamp/blob/hw-1/HW-1-with-abnormal-data-1.ipynb)\n",
    "\n",
    "[HW-1-with-abnormal-data-2](https://github.com/halynavs/gl-ml-basecamp/blob/hw-1/HW-1-with-abnormal-data-2.ipynb)\n"
   ]
  },
  {
   "cell_type": "markdown",
   "metadata": {},
   "source": [
    "Files are include preliminary conclusions at the end "
   ]
  }
 ],
 "metadata": {
  "kernelspec": {
   "display_name": "Python 3",
   "language": "python",
   "name": "python3"
  },
  "language_info": {
   "codemirror_mode": {
    "name": "ipython",
    "version": 3
   },
   "file_extension": ".py",
   "mimetype": "text/x-python",
   "name": "python",
   "nbconvert_exporter": "python",
   "pygments_lexer": "ipython3",
   "version": "3.7.6"
  }
 },
 "nbformat": 4,
 "nbformat_minor": 4
}
