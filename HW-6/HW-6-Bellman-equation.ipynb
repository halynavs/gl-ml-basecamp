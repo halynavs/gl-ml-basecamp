{
  "nbformat": 4,
  "nbformat_minor": 5,
  "metadata": {
    "colab": {
      "name": "HW-6-Bellman-equation .ipynb",
      "provenance": [],
      "collapsed_sections": []
    },
    "kernelspec": {
      "display_name": "Python 3",
      "language": "python",
      "name": "python3"
    },
    "language_info": {
      "codemirror_mode": {
        "name": "ipython",
        "version": 3
      },
      "file_extension": ".py",
      "mimetype": "text/x-python",
      "name": "python",
      "nbconvert_exporter": "python",
      "pygments_lexer": "ipython3",
      "version": "3.7.10"
    }
  },
  "cells": [
    {
      "cell_type": "code",
      "metadata": {
        "id": "worthy-gothic"
      },
      "source": [
        "import torch"
      ],
      "id": "worthy-gothic",
      "execution_count": 1,
      "outputs": []
    },
    {
      "cell_type": "code",
      "metadata": {
        "id": "racial-caribbean"
      },
      "source": [
        "T = torch.tensor([[[0.8, 0.1, 0.1],\n",
        "                   [0.1, 0.6, 0.3]],\n",
        "                  [[0.7, 0.2, 0.1],\n",
        "                   [0.1, 0.8, 0.1]],\n",
        "                  [[0.6, 0.2, 0.2],\n",
        "                   [0.1, 0.4, 0.5]]]\n",
        "                 )\n",
        "\n",
        "R = torch.tensor([1., 0, -1.])\n",
        "\n",
        "gamma = .5\n",
        "\n",
        "# to stop process define\n",
        "threshold = 0.0001\n"
      ],
      "id": "racial-caribbean",
      "execution_count": 2,
      "outputs": []
    },
    {
      "cell_type": "code",
      "metadata": {
        "id": "electric-prefix"
      },
      "source": [
        "# we allways select a0 (learn)\n",
        "policy_optimal = torch.tensor([[1.0, 0.0],\n",
        "                               [1.0, 0.0],\n",
        "                               [1.0, 0.0]])"
      ],
      "id": "electric-prefix",
      "execution_count": 3,
      "outputs": []
    },
    {
      "cell_type": "code",
      "metadata": {
        "id": "narrative-oracle"
      },
      "source": [
        "policy_random = torch.tensor([[0.5, 0.5],\n",
        "                              [0.5, 0.5],\n",
        "                              [0.5, 0.5]])"
      ],
      "id": "narrative-oracle",
      "execution_count": 4,
      "outputs": []
    },
    {
      "cell_type": "markdown",
      "metadata": {
        "id": "fleet-feeding"
      },
      "source": [
        "# Iterative evaluation"
      ],
      "id": "fleet-feeding"
    },
    {
      "cell_type": "code",
      "metadata": {
        "id": "funny-circumstances"
      },
      "source": [
        "def policy_evaluation(policy, trans_matrix, rewards, gamma, threshold):\n",
        "    \"\"\"\n",
        "    Perform policy evaluation\n",
        "    @param policy: policy matrix containing actions and their probability in each state\n",
        "    @param trans_matrix: transformation matrix\n",
        "    @param rewards: rewards for each state\n",
        "    @param gamma: discount factor\n",
        "    @param threshold: the evaluation will stop once values for all states are less than the threshold\n",
        "    @return: values of the given policy for all possible states\n",
        "    \"\"\"\n",
        "    n_state = policy.shape[0]\n",
        "    V = torch.zeros(n_state)\n",
        "    while True:\n",
        "        V_temp = torch.zeros(n_state)\n",
        "        for state, actions in enumerate(policy):\n",
        "            for action, action_prob in enumerate(actions):\n",
        "                V_temp[state] += action_prob * (R[state] + gamma * torch.dot(trans_matrix[state, action], V))\n",
        "        max_delta = torch.max(torch.abs(V - V_temp))\n",
        "        V = V_temp.clone()\n",
        "        if max_delta <= threshold:\n",
        "            break\n",
        "    return V"
      ],
      "id": "funny-circumstances",
      "execution_count": 5,
      "outputs": []
    },
    {
      "cell_type": "code",
      "metadata": {
        "colab": {
          "base_uri": "https://localhost:8080/"
        },
        "id": "violent-lending",
        "outputId": "c80cd7df-8e14-4f48-f708-95c6283960f9"
      },
      "source": [
        "V = policy_evaluation(policy_optimal, T, R, gamma, threshold)\n",
        "print(\"The value function under the optimal policy is:\\n{}\".format(V))\n",
        "\n",
        "V = policy_evaluation(policy_random, T, R, gamma, threshold)\n",
        "print(\"The value function under the random policy is:\\n{}\".format(V))"
      ],
      "id": "violent-lending",
      "execution_count": 6,
      "outputs": [
        {
          "output_type": "stream",
          "text": [
            "The value function under the optimal policy is:\n",
            "tensor([ 1.6786,  0.6260, -0.4821])\n",
            "The value function under the random policy is:\n",
            "tensor([ 1.2348,  0.2691, -0.9013])\n"
          ],
          "name": "stdout"
        }
      ]
    },
    {
      "cell_type": "code",
      "metadata": {
        "id": "golden-transformation"
      },
      "source": [
        "def policy_evaluation_history(policy, trans_matrix, rewards, gamma, threshold):\n",
        "    n_state = policy.shape[0]\n",
        "    V = torch.zeros(n_state)\n",
        "    V_his = [V]\n",
        "    i = 0\n",
        "    while True:\n",
        "        V_temp = torch.zeros(n_state)\n",
        "        i += 1\n",
        "        for state, actions in enumerate(policy):\n",
        "            for action, action_prob in enumerate(actions):\n",
        "                V_temp[state] += action_prob * (R[state] + gamma * torch.dot(trans_matrix[state, action], V))\n",
        "        max_delta = torch.max(torch.abs(V - V_temp))\n",
        "        V = V_temp.clone()\n",
        "        V_his.append(V)\n",
        "        if max_delta <= threshold:\n",
        "            break\n",
        "    return V, V_his"
      ],
      "id": "golden-transformation",
      "execution_count": 7,
      "outputs": []
    },
    {
      "cell_type": "code",
      "metadata": {
        "colab": {
          "base_uri": "https://localhost:8080/",
          "height": 349
        },
        "id": "amino-difficulty",
        "outputId": "d45183f6-c2ce-4cce-8f2e-b4e2a4861757"
      },
      "source": [
        "V, V_history = policy_evaluation_history(policy_optimal, T, R, gamma, threshold)\n",
        "print(V_history)\n",
        "V, V_history = policy_evaluation_history(policy_random, T, R, gamma, threshold)\n",
        "print(V_history)\n",
        "\n",
        "import matplotlib.pyplot as plt\n",
        "s0, = plt.plot([v[0] for v in V_history])\n",
        "s1, = plt.plot([v[1] for v in V_history])\n",
        "s2, = plt.plot([v[2] for v in V_history])\n",
        "plt.title('Optimal policy with gamma = {}'.format(str(gamma)))\n",
        "plt.xlabel('Iteration')\n",
        "plt.ylabel('Policy values')\n",
        "plt.legend([s0, s1, s2],\n",
        "           [\"State s0\",\n",
        "            \"State s1\",\n",
        "            \"State s2\"], loc=\"upper left\")\n",
        "plt.show()"
      ],
      "id": "amino-difficulty",
      "execution_count": 8,
      "outputs": [
        {
          "output_type": "stream",
          "text": [
            "[tensor([0., 0., 0.]), tensor([ 1.,  0., -1.]), tensor([ 1.3500,  0.3000, -0.8000]), tensor([ 1.5150,  0.4625, -0.6450]), tensor([ 1.5969,  0.5443, -0.5638]), tensor([ 1.6378,  0.5851, -0.5229]), tensor([ 1.6582,  0.6056, -0.5024]), tensor([ 1.6684,  0.6158, -0.4922]), tensor([ 1.6736,  0.6209, -0.4871]), tensor([ 1.6761,  0.6235, -0.4846]), tensor([ 1.6774,  0.6248, -0.4833]), tensor([ 1.6780,  0.6254, -0.4826]), tensor([ 1.6784,  0.6257, -0.4823]), tensor([ 1.6785,  0.6259, -0.4822]), tensor([ 1.6786,  0.6260, -0.4821])]\n",
            "[tensor([0., 0., 0.]), tensor([ 1.,  0., -1.]), tensor([ 1.1250,  0.1500, -1.0000]), tensor([ 1.1794,  0.2125, -0.9556]), tensor([ 1.2070,  0.2412, -0.9290]), tensor([ 1.2209,  0.2553, -0.9152]), tensor([ 1.2279,  0.2622, -0.9082]), tensor([ 1.2313,  0.2657, -0.9047]), tensor([ 1.2331,  0.2675, -0.9030]), tensor([ 1.2339,  0.2683, -0.9021]), tensor([ 1.2344,  0.2688, -0.9017]), tensor([ 1.2346,  0.2690, -0.9015]), tensor([ 1.2347,  0.2691, -0.9014]), tensor([ 1.2348,  0.2691, -0.9013])]\n"
          ],
          "name": "stdout"
        },
        {
          "output_type": "display_data",
          "data": {
            "image/png": "[encoded data removed]",
            "text/plain": [
              "<Figure size 432x288 with 1 Axes>"
            ]
          },
          "metadata": {
            "tags": [],
            "needs_background": "light"
          }
        }
      ]
    },
    {
      "cell_type": "markdown",
      "metadata": {
        "id": "convertible-macro"
      },
      "source": [
        "# Evaluation of the Strategy the matrix approach "
      ],
      "id": "convertible-macro"
    },
    {
      "cell_type": "code",
      "metadata": {
        "id": "excellent-novel"
      },
      "source": [
        "def cal_value_matrix_inversion(gamma, trans_matrix, rewards):\n",
        "    inv = torch.inverse(torch.eye(rewards.shape[0]) - gamma * trans_matrix)\n",
        "    V = torch.mm(inv, rewards.reshape(-1, 1))\n",
        "    return V"
      ],
      "id": "excellent-novel",
      "execution_count": 9,
      "outputs": []
    },
    {
      "cell_type": "code",
      "metadata": {
        "id": "ranging-indie",
        "outputId": "35608b30-67fd-4244-9beb-ce6b102099a4",
        "colab": {
          "base_uri": "https://localhost:8080/"
        }
      },
      "source": [
        "# Optimal solution - select a0 (learn)\n",
        "action = 0\n",
        "trans_matrix = T[:, action]\n",
        "print(f\"trans_matrix is \\n{trans_matrix}\")\n",
        "      \n",
        "V = cal_value_matrix_inversion(gamma, trans_matrix, R)\n",
        "print(\"The value function under the optimal policy is:\\n{}\".format(V))"
      ],
      "id": "ranging-indie",
      "execution_count": 10,
      "outputs": [
        {
          "output_type": "stream",
          "text": [
            "trans_matrix is \n",
            "tensor([[0.8000, 0.1000, 0.1000],\n",
            "        [0.7000, 0.2000, 0.1000],\n",
            "        [0.6000, 0.2000, 0.2000]])\n",
            "The value function under the optimal policy is:\n",
            "tensor([[ 1.6787],\n",
            "        [ 0.6260],\n",
            "        [-0.4820]])\n"
          ],
          "name": "stdout"
        }
      ]
    },
    {
      "cell_type": "markdown",
      "metadata": {
        "id": "possible-keeping"
      },
      "source": [
        "# For not optimal this matrix implemented method cannot be used because we need to know action which we choose always. It our oprimal case its 0 action. According to random our actions are equal. (We dont know future step?)\n",
        "Maybe we can rewrite method which will use probability of taking action?"
      ],
      "id": "possible-keeping"
    },
    {
      "cell_type": "markdown",
      "metadata": {
        "id": "greater-coordinator"
      },
      "source": [
        "# Dependency of iteration number to calculate value function according to gamma"
      ],
      "id": "greater-coordinator"
    },
    {
      "cell_type": "code",
      "metadata": {
        "id": "surprised-temperature"
      },
      "source": [
        "import numpy as np"
      ],
      "id": "surprised-temperature",
      "execution_count": 11,
      "outputs": []
    },
    {
      "cell_type": "code",
      "metadata": {
        "id": "aB69HhZOIp2w"
      },
      "source": [
        "def policy_evaluation(policy, trans_matrix, rewards, gamma, threshold):\n",
        "    \"\"\"\n",
        "    Perform policy evaluation\n",
        "    @param policy: policy matrix containing actions and their probability in each state\n",
        "    @param trans_matrix: transformation matrix\n",
        "    @param rewards: rewards for each state\n",
        "    @param gamma: discount factor\n",
        "    @param threshold: the evaluation will stop once values for all states are less than the threshold\n",
        "    @return: values of the given policy for all possible states\n",
        "    \"\"\"\n",
        "    n_state = policy.shape[0]\n",
        "    V = torch.zeros(n_state)\n",
        "    i = 0\n",
        "    while True:\n",
        "        i+=1\n",
        "        V_temp = torch.zeros(n_state)\n",
        "        for state, actions in enumerate(policy):\n",
        "            for action, action_prob in enumerate(actions):\n",
        "                V_temp[state] += action_prob * (R[state] + gamma * torch.dot(trans_matrix[state, action], V))\n",
        "        max_delta = torch.max(torch.abs(V - V_temp))\n",
        "        V = V_temp.clone()\n",
        "        if max_delta <= threshold:\n",
        "            break\n",
        "    return V,i"
      ],
      "id": "aB69HhZOIp2w",
      "execution_count": 12,
      "outputs": []
    },
    {
      "cell_type": "code",
      "metadata": {
        "id": "Rt1QhWGTIkrR"
      },
      "source": [
        "import numpy as np\n",
        "V_dep_gamma = []\n",
        "iters = []\n",
        "for gamma in np.arange(0.0, 1.0, 0.1):\n",
        "    V,i = policy_evaluation(policy_optimal, T, R, gamma, threshold)\n",
        "    V_dep_gamma.append(V)\n",
        "    iters.append(i)"
      ],
      "id": "Rt1QhWGTIkrR",
      "execution_count": 13,
      "outputs": []
    },
    {
      "cell_type": "code",
      "metadata": {
        "colab": {
          "base_uri": "https://localhost:8080/",
          "height": 296
        },
        "id": "CyDCyy2-Irkp",
        "outputId": "3950f07d-862c-4ba5-fe2e-86286609d2d7"
      },
      "source": [
        "import matplotlib.pyplot as plt\n",
        "plt.plot(iters)\n",
        "plt.xlabel('Gamma')\n",
        "plt.ylabel('Count of iterations')"
      ],
      "id": "CyDCyy2-Irkp",
      "execution_count": 14,
      "outputs": [
        {
          "output_type": "execute_result",
          "data": {
            "text/plain": [
              "Text(0, 0.5, 'Count of iterations')"
            ]
          },
          "metadata": {
            "tags": []
          },
          "execution_count": 14
        },
        {
          "output_type": "display_data",
          "data": {
            "image/png": "[encoded data removed]",
            "text/plain": [
              "<Figure size 432x288 with 1 Axes>"
            ]
          },
          "metadata": {
            "tags": [],
            "needs_background": "light"
          }
        }
      ]
    },
    {
      "cell_type": "markdown",
      "metadata": {
        "id": "_w8hyd2DJp6P"
      },
      "source": [
        "# Dependency of value function according to gamma"
      ],
      "id": "_w8hyd2DJp6P"
    },
    {
      "cell_type": "code",
      "metadata": {
        "colab": {
          "base_uri": "https://localhost:8080/",
          "height": 279
        },
        "id": "alleged-iceland",
        "outputId": "eccb5990-c55e-4677-aef0-2dedb0c94f45"
      },
      "source": [
        "# import matplotlib.pyplot as plt\n",
        "s0, = plt.plot(np.arange(0.0, 1.0, 0.1), [v[0] for v in V_dep_gamma])\n",
        "s1, = plt.plot(np.arange(0.0, 1.0, 0.1), [v[1] for v in V_dep_gamma])\n",
        "s2, = plt.plot(np.arange(0.0, 1.0, 0.1), [v[2] for v in V_dep_gamma])\n",
        "plt.xlabel('Gamma')\n",
        "plt.ylabel('Policy values')\n",
        "plt.legend([s0, s1, s2],\n",
        "           [\"State s0\",\n",
        "            \"State s1\",\n",
        "            \"State s2\"], loc=\"upper left\")\n",
        "plt.show()"
      ],
      "id": "alleged-iceland",
      "execution_count": 15,
      "outputs": [
        {
          "output_type": "display_data",
          "data": {
            "image/png": "[encoded data removed]",
            "text/plain": [
              "<Figure size 432x288 with 1 Axes>"
            ]
          },
          "metadata": {
            "tags": [],
            "needs_background": "light"
          }
        }
      ]
    },
    {
      "cell_type": "markdown",
      "metadata": {
        "id": "backed-citizen"
      },
      "source": [
        "# Matrix approach faster than iterative and demands less computing capabilities, but can't be used for not optimal? thats why bellman's equation are used for estimation the best action?\n"
      ],
      "id": "backed-citizen"
    }
  ]
}