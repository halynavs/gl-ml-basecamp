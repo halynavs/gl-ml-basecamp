{
 "cells": [
  {
   "cell_type": "markdown",
   "id": "interstate-error",
   "metadata": {},
   "source": [
    "# Implementing logic of Decision Tree Classifier from scratch"
   ]
  },
  {
   "cell_type": "markdown",
   "id": "dependent-insulation",
   "metadata": {},
   "source": [
    "Data"
   ]
  },
  {
   "cell_type": "code",
   "execution_count": 5,
   "id": "steady-wesley",
   "metadata": {},
   "outputs": [],
   "source": [
    "import pandas as pd\n",
    "a = pd.Series([1, 0, 0, 0, 0, 1, 1, 1, 1, 0, 0, 0, 0, 1, 1, 1, 1, 1, 1, 0], index = [x for x in range(20)])"
   ]
  },
  {
   "cell_type": "code",
   "execution_count": 78,
   "id": "transsexual-twelve",
   "metadata": {},
   "outputs": [],
   "source": [
    "import numpy as np\n",
    "\n",
    "def Dtree(alist, verbose = False):\n",
    "    h_list = []\n",
    "    h2_list = []\n",
    "    \n",
    "    for x in range(len(alist+1)):\n",
    "        p11 =alist.iloc[:int(x)][alist==0].count()/alist.iloc[:int(x)].count()\n",
    "        np.seterr(divide = 'ignore')\n",
    "        p21 = alist.iloc[:int(x)][alist==1].count()/alist.iloc[:int(x)].count()\n",
    "        h1= -p11*np.log(p11)-p21*np.log(p21)\n",
    "\n",
    "        p12 =alist.iloc[x:][alist==0].count()/alist.iloc[x:].count()\n",
    "        p22 = alist.iloc[x:][alist==1].count()/alist.iloc[x:].count()\n",
    "        h2= -p12*np.log(p12)-p22*np.log(p22)\n",
    "        \n",
    "        if h1>=h2:\n",
    "            h_list.append(h2)\n",
    "            if verbose:\n",
    "                print('right side entropy is less', h2)\n",
    "        else: \n",
    "            h_list.append(h1)\n",
    "            if verbose:\n",
    "                print('left entropy is less', h1)\n",
    "    index_for_devission = h_list.index(np.nanmin(h_list))\n",
    "    best_entropy = np.nanmin(h_list)\n",
    "    return index_for_devission, best_entropy"
   ]
  },
  {
   "cell_type": "code",
   "execution_count": 79,
   "id": "ceramic-prague",
   "metadata": {},
   "outputs": [
    {
     "name": "stderr",
     "output_type": "stream",
     "text": [
      "C:\\Users\\user\\anaconda3\\lib\\site-packages\\ipykernel_launcher.py:8: RuntimeWarning: invalid value encountered in long_scalars\n",
      "  \n",
      "C:\\Users\\user\\anaconda3\\lib\\site-packages\\ipykernel_launcher.py:10: RuntimeWarning: invalid value encountered in long_scalars\n",
      "  # Remove the CWD from sys.path while we load stuff.\n",
      "C:\\Users\\user\\anaconda3\\lib\\site-packages\\ipykernel_launcher.py:11: RuntimeWarning: invalid value encountered in double_scalars\n",
      "  # This is added back by InteractiveShellApp.init_path()\n",
      "C:\\Users\\user\\anaconda3\\lib\\site-packages\\ipykernel_launcher.py:15: RuntimeWarning: invalid value encountered in double_scalars\n",
      "  from ipykernel import kernelapp as app\n"
     ]
    },
    {
     "data": {
      "text/plain": [
       "13"
      ]
     },
     "execution_count": 79,
     "metadata": {},
     "output_type": "execute_result"
    }
   ],
   "source": [
    "i, b_entropy = Dtree(a)\n",
    "i"
   ]
  },
  {
   "cell_type": "code",
   "execution_count": 80,
   "id": "ethical-reducing",
   "metadata": {},
   "outputs": [],
   "source": [
    "left_list = a[:i]"
   ]
  },
  {
   "cell_type": "code",
   "execution_count": 81,
   "id": "adaptive-integer",
   "metadata": {},
   "outputs": [
    {
     "name": "stderr",
     "output_type": "stream",
     "text": [
      "C:\\Users\\user\\anaconda3\\lib\\site-packages\\ipykernel_launcher.py:8: RuntimeWarning: invalid value encountered in long_scalars\n",
      "  \n",
      "C:\\Users\\user\\anaconda3\\lib\\site-packages\\ipykernel_launcher.py:10: RuntimeWarning: invalid value encountered in long_scalars\n",
      "  # Remove the CWD from sys.path while we load stuff.\n",
      "C:\\Users\\user\\anaconda3\\lib\\site-packages\\ipykernel_launcher.py:11: RuntimeWarning: invalid value encountered in double_scalars\n",
      "  # This is added back by InteractiveShellApp.init_path()\n",
      "C:\\Users\\user\\anaconda3\\lib\\site-packages\\ipykernel_launcher.py:15: RuntimeWarning: invalid value encountered in double_scalars\n",
      "  from ipykernel import kernelapp as app\n",
      "C:\\Users\\user\\anaconda3\\lib\\site-packages\\ipykernel_launcher.py:15: RuntimeWarning: invalid value encountered in double_scalars\n",
      "  from ipykernel import kernelapp as app\n",
      "C:\\Users\\user\\anaconda3\\lib\\site-packages\\ipykernel_launcher.py:15: RuntimeWarning: invalid value encountered in double_scalars\n",
      "  from ipykernel import kernelapp as app\n",
      "C:\\Users\\user\\anaconda3\\lib\\site-packages\\ipykernel_launcher.py:15: RuntimeWarning: invalid value encountered in double_scalars\n",
      "  from ipykernel import kernelapp as app\n"
     ]
    },
    {
     "data": {
      "text/plain": [
       "(5, 0.5004024235381879)"
      ]
     },
     "execution_count": 81,
     "metadata": {},
     "output_type": "execute_result"
    }
   ],
   "source": [
    "Dtree(left_list)"
   ]
  },
  {
   "cell_type": "code",
   "execution_count": 36,
   "id": "unable-pocket",
   "metadata": {},
   "outputs": [],
   "source": [
    "# recursive func in process"
   ]
  },
  {
   "cell_type": "code",
   "execution_count": 34,
   "id": "piano-strengthening",
   "metadata": {},
   "outputs": [],
   "source": [
    "# def Dtree(alist, verbose = False, max_div_mun=1):\n",
    "#     d=0\n",
    "#     while d <max_div_mun or alist.empty:\n",
    "#         print(alist.empty)\n",
    "#         h_list = []\n",
    "#         h2_list = []\n",
    "#         d+=1\n",
    "#         for x in range(len(alist+1)):\n",
    "#             p11 =alist.iloc[:int(x)][alist==0].count()/alist.iloc[:int(x)].count()\n",
    "#             p21 = alist.iloc[:int(x)][alist==1].count()/alist.iloc[:int(x)].count()\n",
    "#             h1= -p11*np.log(p11)-p21*np.log(p21)\n",
    "\n",
    "#             p12 =alist.iloc[x:][alist==0].count()/alist.iloc[x:].count()\n",
    "#             p22 = alist.iloc[x:][alist==1].count()/alist.iloc[x:].count()\n",
    "#             h2= -p12*np.log(p12)-p22*np.log(p22)\n",
    "\n",
    "#             if h1>=h2:\n",
    "#                 h_list.append(h2)\n",
    "#                 if verbose:\n",
    "#                     print('right side entropy is less', h2)\n",
    "#             else: \n",
    "#                 h_list.append(h1)\n",
    "#                 if verbose:\n",
    "#                     print('left entropy is less', h1)\n",
    "        \n",
    "#         if  float(\"nan\") in h_list:\n",
    "#             index_for_devission = h_list.index(np.nanmin(h_list))\n",
    "#             best_entropy = np.nanmin(h_list)\n",
    "#         else: \n",
    "#             index_for_devission = h_list.index(min(h_list))\n",
    "#             best_entropy = min(h_list)\n",
    "            \n",
    "#         left = alist[:index_for_devission]\n",
    "#         right = alist[index_for_devission:]\n",
    "        \n",
    "        \n",
    "#         print(Dtree(left))\n",
    "#         print(Dtree(right))\n",
    "#         return index_for_devission, best_entropy"
   ]
  },
  {
   "cell_type": "code",
   "execution_count": null,
   "id": "unknown-wellington",
   "metadata": {},
   "outputs": [],
   "source": [
    "# max_division_number = 3\n",
    "# for d in range(max_division_number):\n",
    "#     Dtree(a)"
   ]
  }
 ],
 "metadata": {
  "kernelspec": {
   "display_name": "Python 3",
   "language": "python",
   "name": "python3"
  },
  "language_info": {
   "codemirror_mode": {
    "name": "ipython",
    "version": 3
   },
   "file_extension": ".py",
   "mimetype": "text/x-python",
   "name": "python",
   "nbconvert_exporter": "python",
   "pygments_lexer": "ipython3",
   "version": "3.7.10"
  }
 },
 "nbformat": 4,
 "nbformat_minor": 5
}
