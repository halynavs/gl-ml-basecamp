{
 "cells": [
  {
   "cell_type": "markdown",
   "id": "basic-transition",
   "metadata": {},
   "source": [
    "# Classification"
   ]
  },
  {
   "cell_type": "markdown",
   "id": "resident-cement",
   "metadata": {},
   "source": [
    "## Get artificial data "
   ]
  },
  {
   "cell_type": "code",
   "execution_count": 1,
   "id": "known-commonwealth",
   "metadata": {},
   "outputs": [],
   "source": [
    "from sklearn.datasets import make_classification \n",
    "X, y = make_classification(n_samples=100, n_features=4,  n_informative=4, n_redundant=0, n_repeated=0, n_classes=3, n_clusters_per_class=2,  random_state=None)"
   ]
  },
  {
   "cell_type": "code",
   "execution_count": 2,
   "id": "designed-harrison",
   "metadata": {},
   "outputs": [],
   "source": [
    "from sklearn.model_selection import train_test_split\n",
    "X_train, X_test, y_train, y_test = train_test_split(X, y, test_size =0.33, random_state = 42)"
   ]
  },
  {
   "cell_type": "markdown",
   "id": "failing-fireplace",
   "metadata": {},
   "source": [
    "# Random prediction algorithm"
   ]
  },
  {
   "cell_type": "code",
   "execution_count": 3,
   "id": "sunset-murder",
   "metadata": {},
   "outputs": [],
   "source": [
    "from random import seed\n",
    "from random import randrange\n",
    "import numpy as np\n",
    "\n",
    "def random_algorithm(y_train, y_test):\n",
    "    seed(1)\n",
    "    unique = list(set(y_train))\n",
    "\n",
    "    predicted = list()\n",
    "    for row in y_test:\n",
    "        index = randrange(len(unique))\n",
    "        predicted.append(unique[index])\n",
    "    return np.array(predicted)"
   ]
  },
  {
   "cell_type": "code",
   "execution_count": 4,
   "id": "infrared-casino",
   "metadata": {},
   "outputs": [],
   "source": [
    "y_random_c = random_algorithm(y_train, y_test)"
   ]
  },
  {
   "cell_type": "markdown",
   "id": "yellow-license",
   "metadata": {},
   "source": [
    "# Zero rule algorithm"
   ]
  },
  {
   "cell_type": "code",
   "execution_count": 5,
   "id": "interstate-mixer",
   "metadata": {},
   "outputs": [],
   "source": [
    "def zero_rule_algorithm_classification(y_train, y_test):\n",
    "\n",
    "    prediction = max(set(y_train), key=list(y_train).count)\n",
    "    predicted = [prediction for i in range(len(y_test))]\n",
    "    return predicted"
   ]
  },
  {
   "cell_type": "code",
   "execution_count": 6,
   "id": "utility-phrase",
   "metadata": {},
   "outputs": [],
   "source": [
    "y_zero_c = zero_rule_algorithm_classification(y_train, y_test)"
   ]
  },
  {
   "cell_type": "markdown",
   "id": "suffering-texture",
   "metadata": {},
   "source": [
    "# Accuracy"
   ]
  },
  {
   "cell_type": "code",
   "execution_count": 7,
   "id": "ongoing-assumption",
   "metadata": {},
   "outputs": [
    {
     "name": "stdout",
     "output_type": "stream",
     "text": [
      "Random prediction accuracy 0.30303030303030304\n",
      "Zero prediction accuracy 0.30303030303030304\n"
     ]
    }
   ],
   "source": [
    "from sklearn.metrics import accuracy_score\n",
    "print('Random prediction accuracy', accuracy_score(y_test, y_random_c)) \n",
    "print('Zero prediction accuracy',accuracy_score(y_test, y_zero_c)) "
   ]
  },
  {
   "cell_type": "markdown",
   "id": "roman-registration",
   "metadata": {},
   "source": [
    "# Regression"
   ]
  },
  {
   "cell_type": "code",
   "execution_count": 8,
   "id": "progressive-bahrain",
   "metadata": {},
   "outputs": [],
   "source": [
    "from sklearn.datasets import make_regression\n",
    "Xr, yr = make_regression(n_samples=100, n_features=4, n_informative=3, random_state=42)"
   ]
  },
  {
   "cell_type": "code",
   "execution_count": 9,
   "id": "joined-brunswick",
   "metadata": {},
   "outputs": [],
   "source": [
    "from sklearn.model_selection import train_test_split\n",
    "Xr_train, Xr_test, yr_train, yr_test = train_test_split(Xr, yr, test_size =0.33, random_state = 42)"
   ]
  },
  {
   "cell_type": "code",
   "execution_count": 10,
   "id": "relative-recovery",
   "metadata": {},
   "outputs": [],
   "source": [
    "def zero_rule_algorithm_regression(y_train, y_test):\n",
    "    #moda\n",
    "    #median\n",
    "    \n",
    "    #average\n",
    "    prediction = sum(y_train) / float(len(y_train))\n",
    "    predicted = [prediction for i in range(len(y_test))]\n",
    "    return predicted"
   ]
  },
  {
   "cell_type": "code",
   "execution_count": 11,
   "id": "existing-cooper",
   "metadata": {},
   "outputs": [],
   "source": [
    "y_random_r = random_algorithm(yr_train, yr_test)\n",
    "y_zero_r = zero_rule_algorithm_regression(yr_train, yr_test)"
   ]
  },
  {
   "cell_type": "code",
   "execution_count": 12,
   "id": "direct-introduction",
   "metadata": {},
   "outputs": [],
   "source": [
    "def mape(y_true, y_pred):\n",
    "    y_true = np.asanyarray(y_true)\n",
    "    y_pred = np.asanyarray(y_pred)\n",
    "    assert len(y_true) == len(y_pred), \"Target and Prediction arrays length should be equal\"\n",
    "    \n",
    "    if np.any(y_true==0):\n",
    "        #print(\"Found zeroes in y_true. MAPE is undefined. Removing it from set.\")\n",
    "        idx = np.where(y_true==0)\n",
    "        y_true = np.delete(y_true, idx)\n",
    "        y_pred = np.delete(y_pred, idx)\n",
    "        #print(\"%i samples deleted\" %len(idx))\n",
    "    \n",
    "    mape_value = np.mean(np.abs((y_true - y_pred) / y_true))*100\n",
    "    return mape_value"
   ]
  },
  {
   "cell_type": "markdown",
   "id": "statewide-reply",
   "metadata": {},
   "source": [
    "# Accuracy"
   ]
  },
  {
   "cell_type": "code",
   "execution_count": 13,
   "id": "operating-bernard",
   "metadata": {},
   "outputs": [
    {
     "name": "stdout",
     "output_type": "stream",
     "text": [
      "Random prediction mape 205.31593294844183\n",
      "Zero prediction mape 116.06432323693923\n"
     ]
    }
   ],
   "source": [
    "print('Random prediction mape',  mape(yr_test, y_random_r)) \n",
    "print('Zero prediction mape', mape(yr_test, y_zero_r)) "
   ]
  }
 ],
 "metadata": {
  "kernelspec": {
   "display_name": "Python 3",
   "language": "python",
   "name": "python3"
  },
  "language_info": {
   "codemirror_mode": {
    "name": "ipython",
    "version": 3
   },
   "file_extension": ".py",
   "mimetype": "text/x-python",
   "name": "python",
   "nbconvert_exporter": "python",
   "pygments_lexer": "ipython3",
   "version": "3.7.10"
  }
 },
 "nbformat": 4,
 "nbformat_minor": 5
}
