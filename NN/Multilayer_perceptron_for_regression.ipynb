{
 "cells": [
  {
   "cell_type": "markdown",
   "id": "original-sculpture",
   "metadata": {},
   "source": [
    "# Multilayer perceptron impl from scratch for regression problem with mse error and sigmoid activation fuction"
   ]
  },
  {
   "cell_type": "code",
   "execution_count": 1,
   "id": "blind-memphis",
   "metadata": {},
   "outputs": [],
   "source": [
    "import numpy as np\n",
    "from random import random\n",
    "\n",
    "class MLP(object):\n",
    "    \n",
    "    def __init__(self, n_inputs = 3, n_hidden = [3,3], n_output = 2):\n",
    "        self.n_inputs = n_inputs\n",
    "        self.n_hidden = n_hidden\n",
    "        self.n_output = n_output\n",
    "        \n",
    "        layers = [self.n_inputs] + self.n_hidden + [self.n_output]\n",
    "        \n",
    "        # init random weights\n",
    "        weights  = []\n",
    "        \n",
    "        for i in range(len(layers)-1):\n",
    "            w = np.random.rand(layers[i], layers[i+1])\n",
    "            weights.append(w)\n",
    "            \n",
    "        self.weights  = weights\n",
    "       \n",
    "    \n",
    "        # init storage for activations\n",
    "        activations = []\n",
    "        for i in range(len(layers)):\n",
    "            a = np.zeros(layers[i])\n",
    "            activations.append(a)\n",
    "            \n",
    "        self.activations = activations\n",
    "        \n",
    "        \n",
    "        # init storage for activations\n",
    "        derivatives = []\n",
    "        for i in range(len(layers)-1):\n",
    "            d = np.zeros((layers[i], layers[i+1]) )\n",
    "            derivatives.append(d)\n",
    "            \n",
    "        self.derivatives = derivatives\n",
    "           \n",
    "            \n",
    "            \n",
    "    def forward_propagate(self, inputs):\n",
    "        \n",
    "        activations = inputs\n",
    "        self.activations[0] = inputs\n",
    "        \n",
    "        \n",
    "        for i, w in enumerate(self.weights):\n",
    "            \n",
    "            net_inputs = np.dot(activations, w)\n",
    "            \n",
    "            activations = self._sigmoid(net_inputs)\n",
    "            self.activations[i+1] = activations\n",
    "            \n",
    "        return activations\n",
    "    \n",
    "    def back_propagate(self, error, verbose = False):\n",
    "        \n",
    "        for i in reversed(range(len(self.derivatives))):\n",
    "            activations = self.activations[i+1]\n",
    "            delta = error * self._sigmoid_derivative(activations)\n",
    "            # reshape delta for canculations\n",
    "            delta_reshaped = delta.reshape(delta.shape[0], -1).T\n",
    "            \n",
    "            current_activations = self.activations[i]\n",
    "            # reshape current_activations for canculations \n",
    "            current_activations_reshaped = current_activations.reshape(current_activations.shape[0], -1)\n",
    "            \n",
    "            \n",
    "            self.derivatives[i] = np.dot(current_activations_reshaped, delta_reshaped)\n",
    "            \n",
    "            error = np.dot(delta, self.weights[i].T)\n",
    "            if verbose:\n",
    "                print('Derivatives for W{}: {}'.format(i, self.derivatives[i]))\n",
    "        return error\n",
    "    \n",
    "    def gradient_descent(self, learning_rate):\n",
    "        \n",
    "        for i in range(len(self.weights)):\n",
    "            weight = self.weights[i]\n",
    "#             print('Original W{} {}'.format(i, weight))\n",
    "            \n",
    "            derivatives = self.derivatives[i]\n",
    "            \n",
    "            weight += derivatives*learning_rate\n",
    "#             print('After learning W{} {}'.format(i, weight))\n",
    "    \n",
    "    \n",
    "    def train(self, inputs, targets, epochs, learning_rate, verbose = False):\n",
    "        \n",
    "        for i in range(epochs):\n",
    "            sum_error = 0\n",
    "            for input_, target in zip(inputs, targets):\n",
    "                # perform forward propagation\n",
    "                output = self.forward_propagate(input_)\n",
    "\n",
    "                # calculate error\n",
    "                error = target - output\n",
    "\n",
    "                # back propagation\n",
    "                self.back_propagate(error)\n",
    "\n",
    "                # apply gradient descent\n",
    "                self.gradient_descent(learning_rate = learning_rate)\n",
    "                \n",
    "                sum_error +=self.mse_loss(target, output)\n",
    "                \n",
    "            # report erro for each epoch\n",
    "            if verbose:\n",
    "                print('Error: {} at epoch {} '.format(sum_error/len(inputs), i))\n",
    "        \n",
    "    \n",
    "    \n",
    "    \n",
    "    \n",
    "    def mse_loss(self, target, output):\n",
    "        return np.average((target - output)**2)\n",
    "        \n",
    "        \n",
    "        \n",
    "        \n",
    "    \n",
    "    def _sigmoid_derivative(self, x):\n",
    "        return x*(1.0 - x)\n",
    "        \n",
    "             \n",
    "        \n",
    "    def _sigmoid(self, x):\n",
    "        y = 1.0 / (1 + np.exp(-x))\n",
    "        return y"
   ]
  },
  {
   "cell_type": "code",
   "execution_count": 2,
   "id": "center-option",
   "metadata": {},
   "outputs": [
    {
     "name": "stdout",
     "output_type": "stream",
     "text": [
      "3.319795020224185e-07\n"
     ]
    },
    {
     "data": {
      "text/plain": [
       "array([0.39942382])"
      ]
     },
     "execution_count": 2,
     "metadata": {},
     "output_type": "execute_result"
    }
   ],
   "source": [
    "NNb = MLP(2, [5], 1)\n",
    "\n",
    "# create a dataset to train a network for the sum operation\n",
    "items = np.array([[random()/2 for _ in range(2)] for _ in range(1000)])\n",
    "targets = np.array([[i[0] + i[1]] for i in items])\n",
    "\n",
    "# train net\n",
    "NNb.train(items, targets, 50, 0.1, verbose = False)\n",
    "\n",
    "\n",
    "# create dummy data\n",
    "input_ = np.array([0.3, 0.1])\n",
    "target = np.array([0.4])\n",
    "\n",
    "# get a prediction\n",
    "output = NNb.forward_propagate(input_)\n",
    "print(NNb.mse_loss(output, target))\n",
    "output"
   ]
  },
  {
   "cell_type": "markdown",
   "id": "right-fellowship",
   "metadata": {},
   "source": [
    "# Get data for reggression problem from sklearn.datasets"
   ]
  },
  {
   "cell_type": "code",
   "execution_count": 3,
   "id": "timely-neutral",
   "metadata": {},
   "outputs": [],
   "source": [
    "from sklearn.datasets import make_regression\n",
    "\n",
    "X, y = make_regression(n_samples=1000, n_features=1, n_informative=2, n_targets=1,  shuffle=True, coef=False, random_state=42)"
   ]
  },
  {
   "cell_type": "markdown",
   "id": "literary-southeast",
   "metadata": {},
   "source": [
    "# Visualize data"
   ]
  },
  {
   "cell_type": "code",
   "execution_count": 4,
   "id": "ruled-master",
   "metadata": {},
   "outputs": [
    {
     "data": {
      "image/png": "[encoded data removed]",
      "text/plain": [
       "<Figure size 432x288 with 1 Axes>"
      ]
     },
     "metadata": {
      "needs_background": "light"
     },
     "output_type": "display_data"
    }
   ],
   "source": [
    "import matplotlib.pyplot as plt\n",
    "plt.plot(X, y, 'bo')\n",
    "plt.show()"
   ]
  },
  {
   "cell_type": "markdown",
   "id": "falling-olympus",
   "metadata": {},
   "source": [
    "# Split data to train and test "
   ]
  },
  {
   "cell_type": "code",
   "execution_count": 5,
   "id": "public-inflation",
   "metadata": {},
   "outputs": [],
   "source": [
    "from sklearn.model_selection import train_test_split\n",
    "X_train, X_test, y_train, y_test = train_test_split(X, y, test_size=0.0001, random_state=42)"
   ]
  },
  {
   "cell_type": "code",
   "execution_count": 6,
   "id": "equipped-magic",
   "metadata": {},
   "outputs": [],
   "source": [
    "# impl bias for reg, we dont have it, thats can be the problem ?"
   ]
  },
  {
   "cell_type": "code",
   "execution_count": 7,
   "id": "capital-cartoon",
   "metadata": {},
   "outputs": [],
   "source": [
    "mlp = MLP(1, [16,8], 1) # one hidden layer with 3 neurons\n",
    "mlp.train(X_train, y_train, 50, 0.5, verbose = False)\n"
   ]
  },
  {
   "cell_type": "code",
   "execution_count": 8,
   "id": "electric-southwest",
   "metadata": {},
   "outputs": [
    {
     "data": {
      "text/plain": [
       "73.3073985361013"
      ]
     },
     "execution_count": 8,
     "metadata": {},
     "output_type": "execute_result"
    }
   ],
   "source": [
    "output = mlp.forward_propagate(X_test)\n",
    "mlp.mse_loss(output = output, target = y_test)"
   ]
  },
  {
   "cell_type": "markdown",
   "id": "given-conservation",
   "metadata": {},
   "source": [
    "# Regression solution with keras Sequential model with the same properties"
   ]
  },
  {
   "cell_type": "code",
   "execution_count": 16,
   "id": "integrated-district",
   "metadata": {},
   "outputs": [],
   "source": [
    "from tensorflow.keras.models import Sequential\n",
    "from tensorflow.keras.layers import Dense\n",
    "import numpy as np\n",
    "from tensorflow.keras.optimizers import SGD"
   ]
  },
  {
   "cell_type": "code",
   "execution_count": 10,
   "id": "paperback-charge",
   "metadata": {},
   "outputs": [
    {
     "name": "stdout",
     "output_type": "stream",
     "text": [
      "Feature shape: (1,)\n",
      "WARNING:tensorflow:From C:\\Users\\user\\anaconda3\\lib\\site-packages\\tensorflow\\python\\ops\\init_ops.py:1251: calling VarianceScaling.__init__ (from tensorflow.python.ops.init_ops) with dtype is deprecated and will be removed in a future version.\n",
      "Instructions for updating:\n",
      "Call initializer instance with the dtype argument instead of passing it to the constructor\n"
     ]
    },
    {
     "data": {
      "text/plain": [
       "<tensorflow.python.keras.callbacks.History at 0x2c4f52f0c08>"
      ]
     },
     "execution_count": 10,
     "metadata": {},
     "output_type": "execute_result"
    }
   ],
   "source": [
    "# Set the input shape\n",
    "input_shape = (1,)\n",
    "print(f'Feature shape: {input_shape}')\n",
    "# Create the model\n",
    "model = Sequential()\n",
    "model.add(Dense(16, input_shape=input_shape, activation='sigmoid'))\n",
    "model.add(Dense(8, activation='sigmoid'))\n",
    "model.add(Dense(1, activation='linear'))\n",
    "\n",
    "# Configure the model and start training\n",
    "opt = SGD(learning_rate=0.5)\n",
    "model.compile(loss='mean_absolute_error', optimizer=opt, metrics=['mean_squared_error'])\n",
    "model.fit(X_train, y_train, epochs=50, batch_size=1, verbose=0, validation_split=0.2)"
   ]
  },
  {
   "cell_type": "code",
   "execution_count": 11,
   "id": "approved-operation",
   "metadata": {},
   "outputs": [
    {
     "name": "stdout",
     "output_type": "stream",
     "text": [
      "\r",
      "1/1 [==============================] - 0s 974us/sample - loss: 4.1161 - mean_squared_error: 16.9421\n"
     ]
    },
    {
     "data": {
      "text/plain": [
       "[4.116083145141602, 16.94214]"
      ]
     },
     "execution_count": 11,
     "metadata": {},
     "output_type": "execute_result"
    }
   ],
   "source": [
    "model.evaluate(X_test, y_test)"
   ]
  },
  {
   "cell_type": "code",
   "execution_count": 12,
   "id": "initial-metadata",
   "metadata": {},
   "outputs": [
    {
     "data": {
      "image/png": "[encoded data removed]",
      "text/plain": [
       "<Figure size 432x288 with 1 Axes>"
      ]
     },
     "metadata": {
      "needs_background": "light"
     },
     "output_type": "display_data"
    }
   ],
   "source": [
    "yp1 = model.predict(X)\n",
    "plt.plot(X, y, 'bo')\n",
    "plt.plot(X, yp1, 'ro')\n",
    "plt.show()"
   ]
  },
  {
   "cell_type": "markdown",
   "id": "enabling-found",
   "metadata": {},
   "source": [
    "# Obviously this simple model is not enough for regression actual data\n",
    "\n",
    "If we will use relu(or linear because of nature of givven data) activations and adam optimizer model work a lot better. \n",
    "\n",
    "Because Adam is modified SGD. And relu shows good results with a lot of data.\n",
    "\n",
    "A way better results can be achieved after tunning hyperparams for specific data"
   ]
  },
  {
   "cell_type": "code",
   "execution_count": 13,
   "id": "later-candidate",
   "metadata": {},
   "outputs": [
    {
     "data": {
      "text/plain": [
       "<tensorflow.python.keras.callbacks.History at 0x2c4f5768f88>"
      ]
     },
     "execution_count": 13,
     "metadata": {},
     "output_type": "execute_result"
    }
   ],
   "source": [
    "# Create the model\n",
    "amodel = Sequential()\n",
    "amodel.add(Dense(16, input_shape=input_shape, activation='relu'))\n",
    "amodel.add(Dense(8, activation='relu'))\n",
    "amodel.add(Dense(1, activation='linear'))\n",
    "\n",
    "# Configure the model and start training\n",
    "\n",
    "amodel.compile(loss='mean_absolute_error', optimizer='adam', metrics=['mean_squared_error'])\n",
    "amodel.fit(X_train, y_train, epochs=10, batch_size=1, verbose=0, validation_split=0.2)"
   ]
  },
  {
   "cell_type": "code",
   "execution_count": 14,
   "id": "french-substance",
   "metadata": {},
   "outputs": [
    {
     "name": "stdout",
     "output_type": "stream",
     "text": [
      "\r",
      "1/1 [==============================] - 0s 0s/sample - loss: 0.0596 - mean_squared_error: 0.0036\n"
     ]
    },
    {
     "data": {
      "text/plain": [
       "[0.059607505798339844, 0.0035530548]"
      ]
     },
     "execution_count": 14,
     "metadata": {},
     "output_type": "execute_result"
    }
   ],
   "source": [
    "amodel.evaluate(X_test, y_test)"
   ]
  },
  {
   "cell_type": "code",
   "execution_count": 15,
   "id": "graphic-recorder",
   "metadata": {},
   "outputs": [
    {
     "data": {
      "image/png": "[encoded data removed]",
      "text/plain": [
       "<Figure size 432x288 with 1 Axes>"
      ]
     },
     "metadata": {
      "needs_background": "light"
     },
     "output_type": "display_data"
    }
   ],
   "source": [
    "yp = amodel.predict(X)\n",
    "plt.plot(X, y, 'bo')\n",
    "plt.plot(X, yp, 'ro')\n",
    "plt.show()"
   ]
  }
 ],
 "metadata": {
  "kernelspec": {
   "display_name": "Python 3",
   "language": "python",
   "name": "python3"
  },
  "language_info": {
   "codemirror_mode": {
    "name": "ipython",
    "version": 3
   },
   "file_extension": ".py",
   "mimetype": "text/x-python",
   "name": "python",
   "nbconvert_exporter": "python",
   "pygments_lexer": "ipython3",
   "version": "3.7.10"
  }
 },
 "nbformat": 4,
 "nbformat_minor": 5
}
