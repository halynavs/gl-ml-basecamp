{
 "cells": [
  {
   "cell_type": "markdown",
   "id": "original-sculpture",
   "metadata": {},
   "source": [
    "# Multilayer perceptron impl from scratch for regression problem with mse error and sigmoid activation fuction"
   ]
  },
  {
   "cell_type": "code",
   "execution_count": 9,
   "id": "blind-memphis",
   "metadata": {},
   "outputs": [],
   "source": [
    "import numpy as np\n",
    "from random import random\n",
    "\n",
    "class MLP(object):\n",
    "    \n",
    "    def __init__(self, n_inputs = 3, n_hidden = [3,3], n_output = 2):\n",
    "        self.n_inputs = n_inputs\n",
    "        self.n_hidden = n_hidden\n",
    "        self.n_output = n_output\n",
    "        \n",
    "        layers = [self.n_inputs] + self.n_hidden + [self.n_output]\n",
    "        \n",
    "        # init random weights\n",
    "        weights  = []\n",
    "        \n",
    "        for i in range(len(layers)-1):\n",
    "            w = np.random.rand(layers[i], layers[i+1])\n",
    "            weights.append(w)\n",
    "            \n",
    "        self.weights  = weights\n",
    "       \n",
    "    \n",
    "        # init storage for activations\n",
    "        activations = []\n",
    "        for i in range(len(layers)):\n",
    "            a = np.zeros(layers[i])\n",
    "            activations.append(a)\n",
    "            \n",
    "        self.activations = activations\n",
    "        \n",
    "        \n",
    "        # init storage for activations\n",
    "        derivatives = []\n",
    "        for i in range(len(layers)-1):\n",
    "            d = np.zeros((layers[i], layers[i+1]) )\n",
    "            derivatives.append(d)\n",
    "            \n",
    "        self.derivatives = derivatives\n",
    "           \n",
    "            \n",
    "            \n",
    "    def forward_propagate(self, inputs):\n",
    "        \n",
    "        activations = inputs\n",
    "        self.activations[0] = inputs\n",
    "        \n",
    "        \n",
    "        for i, w in enumerate(self.weights):\n",
    "            \n",
    "            net_inputs = np.dot(activations, w)\n",
    "            \n",
    "            activations = self._sigmoid(net_inputs)\n",
    "            self.activations[i+1] = activations\n",
    "            \n",
    "        return activations\n",
    "    \n",
    "    def back_propagate(self, error, verbose = False):\n",
    "        \n",
    "        for i in reversed(range(len(self.derivatives))):\n",
    "            activations = self.activations[i+1]\n",
    "            delta = error * self._sigmoid_derivative(activations)\n",
    "            # reshape delta for canculations\n",
    "            delta_reshaped = delta.reshape(delta.shape[0], -1).T\n",
    "            \n",
    "            current_activations = self.activations[i]\n",
    "            # reshape current_activations for canculations \n",
    "            current_activations_reshaped = current_activations.reshape(current_activations.shape[0], -1)\n",
    "            \n",
    "            \n",
    "            self.derivatives[i] = np.dot(current_activations_reshaped, delta_reshaped)\n",
    "            \n",
    "            error = np.dot(delta, self.weights[i].T)\n",
    "            if verbose:\n",
    "                print('Derivatives for W{}: {}'.format(i, self.derivatives[i]))\n",
    "        return error\n",
    "    \n",
    "    def gradient_descent(self, learning_rate):\n",
    "        \n",
    "        for i in range(len(self.weights)):\n",
    "            weight = self.weights[i]\n",
    "#             print('Original W{} {}'.format(i, weight))\n",
    "            \n",
    "            derivatives = self.derivatives[i]\n",
    "            \n",
    "            weight += derivatives*learning_rate\n",
    "#             print('After learning W{} {}'.format(i, weight))\n",
    "    \n",
    "    \n",
    "    def train(self, inputs, targets, epochs, learning_rate, verbose = False):\n",
    "        \n",
    "        for i in range(epochs):\n",
    "            sum_error = 0\n",
    "            for input_, target in zip(inputs, targets):\n",
    "                # perform forward propagation\n",
    "                output = self.forward_propagate(input_)\n",
    "\n",
    "                # calculate error\n",
    "                error = target - output\n",
    "\n",
    "                # back propagation\n",
    "                self.back_propagate(error)\n",
    "\n",
    "                # apply gradient descent\n",
    "                self.gradient_descent(learning_rate = learning_rate)\n",
    "                \n",
    "                sum_error +=self.mse_loss(target, output)\n",
    "                \n",
    "            # report erro for each epoch\n",
    "            if verbose:\n",
    "                print('Error: {} at epoch {} '.format(sum_error/len(inputs), i))\n",
    "        \n",
    "    \n",
    "    \n",
    "    \n",
    "    \n",
    "    def mse_loss(self, target, output):\n",
    "        return np.average((target - output)**2)\n",
    "        \n",
    "        \n",
    "        \n",
    "        \n",
    "    \n",
    "    def _sigmoid_derivative(self, x):\n",
    "        return x*(1.0 - x)\n",
    "        \n",
    "             \n",
    "        \n",
    "    def _sigmoid(self, x):\n",
    "        y = 1.0 / (1 + np.exp(-x))\n",
    "        return y"
   ]
  },
  {
   "cell_type": "code",
   "execution_count": 10,
   "id": "center-option",
   "metadata": {},
   "outputs": [
    {
     "name": "stdout",
     "output_type": "stream",
     "text": [
      "1.462357069520108e-05\n"
     ]
    },
    {
     "data": {
      "text/plain": [
       "array([0.40382408])"
      ]
     },
     "execution_count": 10,
     "metadata": {},
     "output_type": "execute_result"
    }
   ],
   "source": [
    "NNb = MLP(2, [5], 1)\n",
    "\n",
    "# create a dataset to train a network for the sum operation\n",
    "items = np.array([[random()/2 for _ in range(2)] for _ in range(1000)])\n",
    "targets = np.array([[i[0] + i[1]] for i in items])\n",
    "\n",
    "# train net\n",
    "NNb.train(items, targets, 50, 0.1, verbose = False)\n",
    "\n",
    "\n",
    "# create dummy data\n",
    "input_ = np.array([0.3, 0.1])\n",
    "target = np.array([0.4])\n",
    "\n",
    "# get a prediction\n",
    "output = NNb.forward_propagate(input_)\n",
    "print(NNb.mse_loss(output, target))\n",
    "output"
   ]
  },
  {
   "cell_type": "markdown",
   "id": "right-fellowship",
   "metadata": {},
   "source": [
    "# Get data for reggression problem from sklearn.datasets"
   ]
  },
  {
   "cell_type": "code",
   "execution_count": 132,
   "id": "timely-neutral",
   "metadata": {},
   "outputs": [],
   "source": [
    "from sklearn.datasets import make_regression\n",
    "\n",
    "X, y = make_regression(n_samples=1000, n_features=1, n_informative=2, n_targets=1,  shuffle=True, coef=False, random_state=42)"
   ]
  },
  {
   "cell_type": "markdown",
   "id": "literary-southeast",
   "metadata": {},
   "source": [
    "# Visualize data"
   ]
  },
  {
   "cell_type": "code",
   "execution_count": 133,
   "id": "ruled-master",
   "metadata": {},
   "outputs": [
    {
     "data": {
      "image/png": "[encoded data removed]",
      "text/plain": [
       "<Figure size 432x288 with 1 Axes>"
      ]
     },
     "metadata": {
      "needs_background": "light"
     },
     "output_type": "display_data"
    }
   ],
   "source": [
    "import matplotlib.pyplot as plt\n",
    "plt.plot(X, y, 'bo')\n",
    "plt.show()"
   ]
  },
  {
   "cell_type": "markdown",
   "id": "falling-olympus",
   "metadata": {},
   "source": [
    "# Split data to train and test "
   ]
  },
  {
   "cell_type": "code",
   "execution_count": 134,
   "id": "public-inflation",
   "metadata": {},
   "outputs": [],
   "source": [
    "from sklearn.model_selection import train_test_split\n",
    "X_train, X_test, y_train, y_test = train_test_split(X, y, test_size=0.0001, random_state=42)"
   ]
  },
  {
   "cell_type": "code",
   "execution_count": null,
   "id": "equipped-magic",
   "metadata": {},
   "outputs": [],
   "source": [
    "# impl bias for reg, we dont have it, thats can be the problem ?"
   ]
  },
  {
   "cell_type": "code",
   "execution_count": 140,
   "id": "capital-cartoon",
   "metadata": {},
   "outputs": [],
   "source": [
    "mlp = MLP(1, [32], 1) # one hidden layer with 3 neurons\n",
    "mlp.train(X_train, y_train, 100, 0.5, verbose = False)\n",
    "\n",
    "output = mlp.forward_propagate(X_test)\n",
    "mlp.mse_loss(output = output, target = y_test)\n",
    "output2 = mlp.forward_propagate(X)\n",
    "# output2"
   ]
  },
  {
   "cell_type": "code",
   "execution_count": 142,
   "id": "graphic-recorder",
   "metadata": {},
   "outputs": [
    {
     "data": {
      "image/png": "[encoded data removed]",
      "text/plain": [
       "<Figure size 432x288 with 1 Axes>"
      ]
     },
     "metadata": {
      "needs_background": "light"
     },
     "output_type": "display_data"
    }
   ],
   "source": [
    "plt.plot(X, y, 'bo')\n",
    "plt.plot(X, output2, 'r-')\n",
    "plt.show()"
   ]
  },
  {
   "cell_type": "code",
   "execution_count": null,
   "id": "living-scholar",
   "metadata": {},
   "outputs": [],
   "source": [
    "CV"
   ]
  }
 ],
 "metadata": {
  "kernelspec": {
   "display_name": "Python 3",
   "language": "python",
   "name": "python3"
  },
  "language_info": {
   "codemirror_mode": {
    "name": "ipython",
    "version": 3
   },
   "file_extension": ".py",
   "mimetype": "text/x-python",
   "name": "python",
   "nbconvert_exporter": "python",
   "pygments_lexer": "ipython3",
   "version": "3.7.10"
  }
 },
 "nbformat": 4,
 "nbformat_minor": 5
}
