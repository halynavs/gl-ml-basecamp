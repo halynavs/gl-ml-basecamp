{
 "cells": [
  {
   "cell_type": "markdown",
   "id": "original-sculpture",
   "metadata": {},
   "source": [
    "# Multilayer perceptron impl from scratch for regression problem with mse error and sigmoid activation fuction"
   ]
  },
  {
   "cell_type": "code",
   "execution_count": 1,
   "id": "blind-memphis",
   "metadata": {},
   "outputs": [],
   "source": [
    "import numpy as np\n",
    "from random import random\n",
    "\n",
    "class MLP(object):\n",
    "    \n",
    "    def __init__(self, n_inputs = 3, n_hidden = [3,3], n_output = 2):\n",
    "        self.n_inputs = n_inputs\n",
    "        self.n_hidden = n_hidden\n",
    "        self.n_output = n_output\n",
    "        \n",
    "        layers = [self.n_inputs] + self.n_hidden + [self.n_output]\n",
    "        \n",
    "        # init random weights\n",
    "        weights  = []\n",
    "        \n",
    "        for i in range(len(layers)-1):\n",
    "            w = np.random.rand(layers[i], layers[i+1])\n",
    "            weights.append(w)\n",
    "            \n",
    "        self.weights  = weights\n",
    "       \n",
    "    \n",
    "        # init storage for activations\n",
    "        activations = []\n",
    "        for i in range(len(layers)):\n",
    "            a = np.zeros(layers[i])\n",
    "            activations.append(a)\n",
    "            \n",
    "        self.activations = activations\n",
    "        \n",
    "        \n",
    "        # init storage for activations\n",
    "        derivatives = []\n",
    "        for i in range(len(layers)-1):\n",
    "            d = np.zeros((layers[i], layers[i+1]) )\n",
    "            derivatives.append(d)\n",
    "            \n",
    "        self.derivatives = derivatives\n",
    "           \n",
    "            \n",
    "            \n",
    "    def forward_propagate(self, inputs):\n",
    "        \n",
    "        activations = inputs\n",
    "        self.activations[0] = inputs\n",
    "        \n",
    "        \n",
    "        for i, w in enumerate(self.weights):\n",
    "            \n",
    "            net_inputs = np.dot(activations, w)\n",
    "            \n",
    "            activations = self._sigmoid(net_inputs)\n",
    "            self.activations[i+1] = activations\n",
    "            \n",
    "        return activations\n",
    "    \n",
    "    def back_propagate(self, error, verbose = False):\n",
    "        \n",
    "        for i in reversed(range(len(self.derivatives))):\n",
    "            activations = self.activations[i+1]\n",
    "            delta = error * self._sigmoid_derivative(activations)\n",
    "            # reshape delta for canculations\n",
    "            delta_reshaped = delta.reshape(delta.shape[0], -1).T\n",
    "            \n",
    "            current_activations = self.activations[i]\n",
    "            # reshape current_activations for canculations \n",
    "            current_activations_reshaped = current_activations.reshape(current_activations.shape[0], -1)\n",
    "            \n",
    "            \n",
    "            self.derivatives[i] = np.dot(current_activations_reshaped, delta_reshaped)\n",
    "            \n",
    "            error = np.dot(delta, self.weights[i].T)\n",
    "            if verbose:\n",
    "                print('Derivatives for W{}: {}'.format(i, self.derivatives[i]))\n",
    "        return error\n",
    "    \n",
    "    def gradient_descent(self, learning_rate):\n",
    "        \n",
    "        for i in range(len(self.weights)):\n",
    "            weight = self.weights[i]\n",
    "#             print('Original W{} {}'.format(i, weight))\n",
    "            \n",
    "            derivatives = self.derivatives[i]\n",
    "            \n",
    "            weight += derivatives*learning_rate\n",
    "#             print('After learning W{} {}'.format(i, weight))\n",
    "    \n",
    "    \n",
    "    def train(self, inputs, targets, epochs, learning_rate, verbose = False):\n",
    "        \n",
    "        for i in range(epochs):\n",
    "            sum_error = 0\n",
    "            for input_, target in zip(inputs, targets):\n",
    "                # perform forward propagation\n",
    "                output = self.forward_propagate(input_)\n",
    "\n",
    "                # calculate error\n",
    "                error = target - output\n",
    "\n",
    "                # back propagation\n",
    "                self.back_propagate(error)\n",
    "\n",
    "                # apply gradient descent\n",
    "                self.gradient_descent(learning_rate = learning_rate)\n",
    "                \n",
    "                sum_error +=self.mse_loss(target, output)\n",
    "                \n",
    "            # report erro for each epoch\n",
    "            if verbose:\n",
    "                print('Error: {} at epoch {} '.format(sum_error/len(inputs), i))\n",
    "        \n",
    "    \n",
    "    \n",
    "    \n",
    "    \n",
    "    def mse_loss(self, target, output):\n",
    "        return np.average((target - output)**2)\n",
    "        \n",
    "        \n",
    "        \n",
    "        \n",
    "    \n",
    "    def _sigmoid_derivative(self, x):\n",
    "        return x*(1.0 - x)\n",
    "        \n",
    "             \n",
    "        \n",
    "    def _sigmoid(self, x):\n",
    "        y = 1.0 / (1 + np.exp(-x))\n",
    "        return y"
   ]
  },
  {
   "cell_type": "code",
   "execution_count": 2,
   "id": "center-option",
   "metadata": {},
   "outputs": [
    {
     "name": "stdout",
     "output_type": "stream",
     "text": [
      "9.905600884052494e-06\n"
     ]
    },
    {
     "data": {
      "text/plain": [
       "array([0.40314732])"
      ]
     },
     "execution_count": 2,
     "metadata": {},
     "output_type": "execute_result"
    }
   ],
   "source": [
    "NNb = MLP(2, [5], 1)\n",
    "\n",
    "# create a dataset to train a network for the sum operation\n",
    "items = np.array([[random()/2 for _ in range(2)] for _ in range(1000)])\n",
    "targets = np.array([[i[0] + i[1]] for i in items])\n",
    "\n",
    "# train net\n",
    "NNb.train(items, targets, 50, 0.1, verbose = False)\n",
    "\n",
    "\n",
    "# create dummy data\n",
    "input_ = np.array([0.3, 0.1])\n",
    "target = np.array([0.4])\n",
    "\n",
    "# get a prediction\n",
    "output = NNb.forward_propagate(input_)\n",
    "print(NNb.mse_loss(output, target))\n",
    "output"
   ]
  },
  {
   "cell_type": "markdown",
   "id": "right-fellowship",
   "metadata": {},
   "source": [
    "# Get data for reggression problem from sklearn.datasets"
   ]
  },
  {
   "cell_type": "code",
   "execution_count": 3,
   "id": "timely-neutral",
   "metadata": {},
   "outputs": [],
   "source": [
    "from sklearn.datasets import make_regression\n",
    "\n",
    "X, y = make_regression(n_samples=1000, n_features=1, n_informative=2, n_targets=1,  shuffle=True, coef=False, random_state=42)"
   ]
  },
  {
   "cell_type": "markdown",
   "id": "literary-southeast",
   "metadata": {},
   "source": [
    "# Visualize data"
   ]
  },
  {
   "cell_type": "code",
   "execution_count": 4,
   "id": "ruled-master",
   "metadata": {},
   "outputs": [
    {
     "data": {
      "image/png": "[encoded data removed]",
      "text/plain": [
       "<Figure size 432x288 with 1 Axes>"
      ]
     },
     "metadata": {
      "needs_background": "light"
     },
     "output_type": "display_data"
    }
   ],
   "source": [
    "import matplotlib.pyplot as plt\n",
    "plt.plot(X, y, 'bo')\n",
    "plt.show()"
   ]
  },
  {
   "cell_type": "markdown",
   "id": "falling-olympus",
   "metadata": {},
   "source": [
    "# Split data to train and test "
   ]
  },
  {
   "cell_type": "code",
   "execution_count": 5,
   "id": "public-inflation",
   "metadata": {},
   "outputs": [],
   "source": [
    "from sklearn.model_selection import train_test_split\n",
    "X_train, X_test, y_train, y_test = train_test_split(X, y, test_size=0.33, random_state=42)"
   ]
  },
  {
   "cell_type": "code",
   "execution_count": 6,
   "id": "capital-cartoon",
   "metadata": {},
   "outputs": [],
   "source": [
    "mlp = MLP(1, [16,8], 1) # one hidden layer with 3 neurons\n",
    "mlp.train(X_train, y_train, 50, 0.5, verbose = False)\n"
   ]
  },
  {
   "cell_type": "code",
   "execution_count": 7,
   "id": "electric-southwest",
   "metadata": {},
   "outputs": [
    {
     "data": {
      "text/plain": [
       "252.05523951660393"
      ]
     },
     "execution_count": 7,
     "metadata": {},
     "output_type": "execute_result"
    }
   ],
   "source": [
    "output = mlp.forward_propagate(X_test)\n",
    "mlp.mse_loss(output = output, target = y_test)"
   ]
  },
  {
   "cell_type": "markdown",
   "id": "given-conservation",
   "metadata": {},
   "source": [
    "# Regression solution with keras Sequential model with the same properties"
   ]
  },
  {
   "cell_type": "code",
   "execution_count": 36,
   "id": "integrated-district",
   "metadata": {},
   "outputs": [],
   "source": [
    "from tensorflow.keras.models import Sequential\n",
    "from tensorflow.keras.layers import Dense\n",
    "import numpy as np\n",
    "from tensorflow.keras.optimizers import SGD"
   ]
  },
  {
   "cell_type": "code",
   "execution_count": 37,
   "id": "aggressive-brief",
   "metadata": {},
   "outputs": [
    {
     "name": "stdout",
     "output_type": "stream",
     "text": [
      "The tensorboard extension is already loaded. To reload it, use:\n",
      "  %reload_ext tensorboard\n"
     ]
    }
   ],
   "source": [
    "%load_ext tensorboard"
   ]
  },
  {
   "cell_type": "code",
   "execution_count": 38,
   "id": "aggressive-classroom",
   "metadata": {},
   "outputs": [],
   "source": [
    "import os\n",
    "import datetime\n",
    "import tensorflow as tf"
   ]
  },
  {
   "cell_type": "code",
   "execution_count": 40,
   "id": "paperback-charge",
   "metadata": {},
   "outputs": [
    {
     "name": "stdout",
     "output_type": "stream",
     "text": [
      "Feature shape: (1,)\n"
     ]
    },
    {
     "data": {
      "text/plain": [
       "<tensorflow.python.keras.callbacks.History at 0x21bc3811e88>"
      ]
     },
     "execution_count": 40,
     "metadata": {},
     "output_type": "execute_result"
    }
   ],
   "source": [
    "# Set the input shape\n",
    "input_shape = (1,)\n",
    "print(f'Feature shape: {input_shape}')\n",
    "# Create the model\n",
    "model = Sequential()\n",
    "model.add(Dense(16, input_shape=input_shape, activation='sigmoid'))\n",
    "model.add(Dense(8, activation='sigmoid'))\n",
    "model.add(Dense(1, activation='linear'))\n",
    "\n",
    "# Configure the model and start training\n",
    "opt = SGD(learning_rate=0.5)\n",
    "model.compile(loss='mean_absolute_error', optimizer=opt, metrics=['mean_squared_error'])\n",
    "\n",
    "model.fit(X_train, y_train, epochs=50, batch_size=1, verbose=0, validation_split=0.2)\n"
   ]
  },
  {
   "cell_type": "code",
   "execution_count": 41,
   "id": "approved-operation",
   "metadata": {},
   "outputs": [
    {
     "name": "stdout",
     "output_type": "stream",
     "text": [
      "330/330 [==============================] - 0s 18us/sample - loss: 3.7108 - mean_squared_error: 22.2285\n"
     ]
    },
    {
     "data": {
      "text/plain": [
       "[3.710756660230232, 22.228453]"
      ]
     },
     "execution_count": 41,
     "metadata": {},
     "output_type": "execute_result"
    }
   ],
   "source": [
    "model.evaluate(X_test, y_test)"
   ]
  },
  {
   "cell_type": "code",
   "execution_count": 42,
   "id": "initial-metadata",
   "metadata": {},
   "outputs": [
    {
     "data": {
      "image/png": "[encoded data removed]",
      "text/plain": [
       "<Figure size 432x288 with 1 Axes>"
      ]
     },
     "metadata": {
      "needs_background": "light"
     },
     "output_type": "display_data"
    }
   ],
   "source": [
    "yp1 = model.predict(X)\n",
    "plt.plot(X, y, 'bo')\n",
    "plt.plot(X, yp1, 'ro')\n",
    "plt.show()"
   ]
  },
  {
   "cell_type": "markdown",
   "id": "enabling-found",
   "metadata": {},
   "source": [
    "# Obviously this simple model is not enough for regression actual data\n",
    "\n",
    "If we will use relu(or linear because of nature of givven data) activations and adam optimizer model work a lot better. \n",
    "\n",
    "Because Adam is modified SGD. And relu shows good results with a lot of data.\n",
    "\n",
    "A way better results can be achieved after tunning hyperparams for specific data"
   ]
  },
  {
   "cell_type": "code",
   "execution_count": 47,
   "id": "tender-automation",
   "metadata": {},
   "outputs": [],
   "source": [
    "import keras.backend as K\n",
    "K.clear_session()"
   ]
  },
  {
   "cell_type": "code",
   "execution_count": 48,
   "id": "later-candidate",
   "metadata": {},
   "outputs": [
    {
     "data": {
      "text/plain": [
       "<tensorflow.python.keras.callbacks.History at 0x21bc7c1ad08>"
      ]
     },
     "execution_count": 48,
     "metadata": {},
     "output_type": "execute_result"
    }
   ],
   "source": [
    "# Create the model\n",
    "amodel = Sequential()\n",
    "amodel.add(Dense(16, input_shape=input_shape, activation='relu'))\n",
    "amodel.add(Dense(8, activation='relu'))\n",
    "amodel.add(Dense(1, activation='linear'))\n",
    "\n",
    "# Configure the model and start training\n",
    "\n",
    "amodel.compile(loss='mean_absolute_error', optimizer='adam', metrics=['mean_squared_error'])\n",
    "\n",
    "logdir = os.path.join(\"logs\", datetime.datetime.now().strftime(\"%Y%m%d-%H%M%S\"))\n",
    "tensorboard_callback = tf.keras.callbacks.TensorBoard(logdir, histogram_freq=1)\n",
    "\n",
    "amodel.fit(x=X_train, \n",
    "            y=y_train, \n",
    "            epochs=100, \n",
    "            validation_data=(X_test, y_test), \n",
    "            callbacks=[tensorboard_callback], verbose = 0)\n"
   ]
  },
  {
   "cell_type": "code",
   "execution_count": 49,
   "id": "french-substance",
   "metadata": {},
   "outputs": [
    {
     "name": "stdout",
     "output_type": "stream",
     "text": [
      "330/330 [==============================] - 0s 63us/sample - loss: 0.0352 - mean_squared_error: 0.0107\n"
     ]
    },
    {
     "data": {
      "text/plain": [
       "[0.035247777966838895, 0.010651637]"
      ]
     },
     "execution_count": 49,
     "metadata": {},
     "output_type": "execute_result"
    }
   ],
   "source": [
    "amodel.evaluate(X_test, y_test)"
   ]
  },
  {
   "cell_type": "code",
   "execution_count": 50,
   "id": "graphic-recorder",
   "metadata": {},
   "outputs": [
    {
     "data": {
      "image/png": "[encoded data removed]",
      "text/plain": [
       "<Figure size 432x288 with 1 Axes>"
      ]
     },
     "metadata": {
      "needs_background": "light"
     },
     "output_type": "display_data"
    }
   ],
   "source": [
    "yp = amodel.predict(X)\n",
    "plt.plot(X, y, 'bo')\n",
    "plt.plot(X, yp, 'ro')\n",
    "plt.show()"
   ]
  },
  {
   "cell_type": "code",
   "execution_count": 53,
   "id": "thick-parent",
   "metadata": {},
   "outputs": [
    {
     "data": {
      "text/plain": [
       "Reusing TensorBoard on port 6006 (pid 5172), started 0:45:23 ago. (Use '!kill 5172' to kill it.)"
      ]
     },
     "metadata": {},
     "output_type": "display_data"
    },
    {
     "data": {
      "text/html": [
       "\n",
       "        <iframe\n",
       "            width=\"100%\"\n",
       "            height=\"800\"\n",
       "            src=\"http://localhost:6006\"\n",
       "            frameborder=\"0\"\n",
       "            allowfullscreen\n",
       "        ></iframe>\n",
       "        "
      ],
      "text/plain": [
       "<IPython.lib.display.IFrame at 0x21bc76186c8>"
      ]
     },
     "metadata": {},
     "output_type": "display_data"
    }
   ],
   "source": [
    "%tensorboard --logdir logs/fit"
   ]
  },
  {
   "cell_type": "code",
   "execution_count": null,
   "id": "happy-upper",
   "metadata": {},
   "outputs": [],
   "source": []
  }
 ],
 "metadata": {
  "kernelspec": {
   "display_name": "Python 3",
   "language": "python",
   "name": "python3"
  },
  "language_info": {
   "codemirror_mode": {
    "name": "ipython",
    "version": 3
   },
   "file_extension": ".py",
   "mimetype": "text/x-python",
   "name": "python",
   "nbconvert_exporter": "python",
   "pygments_lexer": "ipython3",
   "version": "3.7.10"
  }
 },
 "nbformat": 4,
 "nbformat_minor": 5
}
